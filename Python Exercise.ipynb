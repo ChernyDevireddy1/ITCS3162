{
 "cells": [
  {
   "cell_type": "markdown",
   "id": "758d0e1b",
   "metadata": {},
   "source": [
    "# Python Exercise"
   ]
  },
  {
   "cell_type": "markdown",
   "id": "8c9ffcb0",
   "metadata": {},
   "source": [
    "Python can be downloaded [here](https://www.python.org/downloads/) and documentation can be viewed [here](https://docs.python.org/3/).  \n",
    "  \n",
    "Python is an \"interpreted high-level general-purpose programming language\" ([Wikipedia](https://en.wikipedia.org/wiki/Python_(programming_language))). The fact that it is an interpreted language means that the source code we write is converted into machine code line by line, rather than all at once. More on this can be read [here](https://pediaa.com/what-is-the-difference-between-interpreted-and-compiled-language/#:~:text=Difference%20Between%20Interpreted%20and%20Compiled%20Language%201%20Definition.,Functionality.%20...%203%20Languages.%20...%204%20Conclusion.%20). Python is object-oriented, dynamically typed (a variable's data type can change), and white space dependent (can't mess up the tab spaces or things will break!).\n",
    "\n",
    "When submitting this file to Canvas, submit both the **.ipynb** (notebook file) and **html** file versions. To download the **html** version, click *File > Download as > HTML (.html)*. We will be checking for completion as  a part of your participation. The solution to this file will then be posted for you to check."
   ]
  },
  {
   "cell_type": "markdown",
   "id": "4c380761",
   "metadata": {},
   "source": [
    "<img src=\"\n",
    "https://c.tenor.com/4M_drLvIxWcAAAAC/snake-gentleman.gif\" alt=\"drawing\" width=\"200\"/>"
   ]
  },
  {
   "cell_type": "markdown",
   "id": "bb577af1",
   "metadata": {},
   "source": [
    "<hr>"
   ]
  },
  {
   "cell_type": "markdown",
   "id": "46dde06f",
   "metadata": {},
   "source": [
    "## 1. Print hello world :)"
   ]
  },
  {
   "cell_type": "code",
   "execution_count": 1,
   "id": "9440837b",
   "metadata": {},
   "outputs": [
    {
     "name": "stdout",
     "output_type": "stream",
     "text": [
      "hello world :)\n"
     ]
    }
   ],
   "source": [
    "print(\"hello world :)\")"
   ]
  },
  {
   "cell_type": "markdown",
   "id": "f81f2776",
   "metadata": {},
   "source": [
    "<hr>"
   ]
  },
  {
   "cell_type": "markdown",
   "id": "c142b76d",
   "metadata": {},
   "source": [
    "## 2. Read in two values (user input), convert to integers, and then print the sum"
   ]
  },
  {
   "cell_type": "code",
   "execution_count": 2,
   "id": "dc65397d",
   "metadata": {},
   "outputs": [
    {
     "name": "stdout",
     "output_type": "stream",
     "text": [
      "11\n"
     ]
    }
   ],
   "source": [
    "a = int(input())\n",
    "b = int(input())\n",
    "print(a+b)"
   ]
  },
  {
   "cell_type": "markdown",
   "id": "bf4bbf5f",
   "metadata": {},
   "source": [
    "Note: `type(variable)` lets you check the data type of `variable`."
   ]
  },
  {
   "cell_type": "code",
   "execution_count": 3,
   "id": "8aa2af92",
   "metadata": {},
   "outputs": [
    {
     "data": {
      "text/plain": [
       "int"
      ]
     },
     "execution_count": 3,
     "metadata": {},
     "output_type": "execute_result"
    }
   ],
   "source": [
    "type(a)"
   ]
  },
  {
   "cell_type": "markdown",
   "id": "6ace76bd",
   "metadata": {},
   "source": [
    "Note: In jupyter notebooks, you can also display values without the `print` (shown below)."
   ]
  },
  {
   "cell_type": "code",
   "execution_count": 4,
   "id": "199f5257",
   "metadata": {},
   "outputs": [
    {
     "data": {
      "text/plain": [
       "11"
      ]
     },
     "execution_count": 4,
     "metadata": {},
     "output_type": "execute_result"
    }
   ],
   "source": [
    "a + b"
   ]
  },
  {
   "cell_type": "markdown",
   "id": "4ca79145",
   "metadata": {},
   "source": [
    "**Question: What prints if you don't convert to integers first?**"
   ]
  },
  {
   "cell_type": "code",
   "execution_count": 6,
   "id": "6f4af95b",
   "metadata": {},
   "outputs": [
    {
     "data": {
      "text/plain": [
       "'57'"
      ]
     },
     "execution_count": 6,
     "metadata": {},
     "output_type": "execute_result"
    }
   ],
   "source": [
    "a = input()\n",
    "b = input()\n",
    "a+b #prints the numbers next to each other insead of adding them"
   ]
  },
  {
   "cell_type": "markdown",
   "id": "c8ef561e",
   "metadata": {},
   "source": [
    "<hr>"
   ]
  },
  {
   "cell_type": "markdown",
   "id": "e9cd2a33",
   "metadata": {},
   "source": [
    "## 3. Create a function called \"search\""
   ]
  },
  {
   "cell_type": "markdown",
   "id": "5d4e489d",
   "metadata": {},
   "source": [
    "This function should take in two string values (let's call them `a` and `b`). Both `a` and `b` should be set to all lowercase. Then search for the substring `b` in `a`. It should return the index of the found substring, or -1 if not found."
   ]
  },
  {
   "cell_type": "code",
   "execution_count": 68,
   "id": "d62ecf6c",
   "metadata": {},
   "outputs": [],
   "source": [
    "def search(a,b):\n",
    "    a.lower\n",
    "    b.lower\n",
    "    print(a.find(b))"
   ]
  },
  {
   "cell_type": "markdown",
   "id": "3c041540",
   "metadata": {},
   "source": [
    "Here are some examples to test:"
   ]
  },
  {
   "cell_type": "code",
   "execution_count": 73,
   "id": "d7ffba15",
   "metadata": {},
   "outputs": [
    {
     "name": "stdout",
     "output_type": "stream",
     "text": [
      "-1\n"
     ]
    }
   ],
   "source": [
    "search('Hello world', 'hello')"
   ]
  },
  {
   "cell_type": "code",
   "execution_count": 70,
   "id": "38d01def",
   "metadata": {},
   "outputs": [
    {
     "name": "stdout",
     "output_type": "stream",
     "text": [
      "-1\n"
     ]
    }
   ],
   "source": [
    "search('Hello world', 'WoRlD')"
   ]
  },
  {
   "cell_type": "code",
   "execution_count": 71,
   "id": "59644814",
   "metadata": {},
   "outputs": [
    {
     "name": "stdout",
     "output_type": "stream",
     "text": [
      "5\n"
     ]
    }
   ],
   "source": [
    "search('Hello world', ' ')"
   ]
  },
  {
   "cell_type": "markdown",
   "id": "55f9e84b",
   "metadata": {},
   "source": [
    "<hr>"
   ]
  },
  {
   "cell_type": "markdown",
   "id": "cdc90dc8",
   "metadata": {},
   "source": [
    "## 4. Working with lists"
   ]
  },
  {
   "cell_type": "code",
   "execution_count": 77,
   "id": "646d480d",
   "metadata": {},
   "outputs": [],
   "source": [
    "food = ['ramen', 'potato', 'chicken nuggets', 'pineapple']"
   ]
  },
  {
   "cell_type": "markdown",
   "id": "18084bc9",
   "metadata": {},
   "source": [
    "**4a. Print the 2nd item.**"
   ]
  },
  {
   "cell_type": "code",
   "execution_count": 78,
   "id": "5cb7f780",
   "metadata": {},
   "outputs": [
    {
     "name": "stdout",
     "output_type": "stream",
     "text": [
      "potato\n"
     ]
    }
   ],
   "source": [
    "print (food[1])"
   ]
  },
  {
   "cell_type": "markdown",
   "id": "26461924",
   "metadata": {},
   "source": [
    "**4b. Change 'potato' to another food (and print the whole list to check).**"
   ]
  },
  {
   "cell_type": "code",
   "execution_count": 79,
   "id": "f0033a83",
   "metadata": {},
   "outputs": [
    {
     "name": "stdout",
     "output_type": "stream",
     "text": [
      "['ramen', 'pizza', 'chicken nuggets', 'pineapple']\n"
     ]
    }
   ],
   "source": [
    "food[1] = \"pizza\"\n",
    "print(food)"
   ]
  },
  {
   "cell_type": "markdown",
   "id": "a47fe7fe",
   "metadata": {},
   "source": [
    "**4c. Add a new food item to the end of the list.**"
   ]
  },
  {
   "cell_type": "code",
   "execution_count": 83,
   "id": "e4ecb664",
   "metadata": {},
   "outputs": [
    {
     "name": "stdout",
     "output_type": "stream",
     "text": [
      "['ramen', 'pizza', 'chicken nuggets', 'pineapple', 'apple']\n"
     ]
    }
   ],
   "source": [
    "food.append(\"apple\")\n",
    "print(food)"
   ]
  },
  {
   "cell_type": "markdown",
   "id": "b319f26c",
   "metadata": {},
   "source": [
    "**4d. Use slicing to view the 3rd to last items of the list.**"
   ]
  },
  {
   "cell_type": "code",
   "execution_count": 84,
   "id": "a73d9806",
   "metadata": {},
   "outputs": [
    {
     "name": "stdout",
     "output_type": "stream",
     "text": [
      "['chicken nuggets', 'pineapple', 'apple']\n"
     ]
    }
   ],
   "source": [
    "print(food[2:])"
   ]
  },
  {
   "cell_type": "markdown",
   "id": "e4c8341c",
   "metadata": {},
   "source": [
    "**4e. Reverse the list!**"
   ]
  },
  {
   "cell_type": "code",
   "execution_count": 92,
   "id": "c8439527",
   "metadata": {},
   "outputs": [
    {
     "name": "stdout",
     "output_type": "stream",
     "text": [
      "['apple', 'pineapple', 'chicken nuggets', 'pizza', 'ramen']\n"
     ]
    }
   ],
   "source": [
    "print(food[::-1])"
   ]
  },
  {
   "cell_type": "markdown",
   "id": "6b63288a",
   "metadata": {},
   "source": [
    "**4f. List comprehension**"
   ]
  },
  {
   "cell_type": "markdown",
   "id": "296313de",
   "metadata": {},
   "source": [
    "List comprehension allows you to make a new list by performing some operation on each item of an existing list. You can read more about it [here](https://www.tutorialsteacher.com/python/python-list-comprehension#:~:text=List%20comprehension%20in%20Python%20is%20an%20easy%20and,than%20processing%20a%20list%20using%20the%20for%20loop.)."
   ]
  },
  {
   "cell_type": "markdown",
   "id": "374543e9",
   "metadata": {},
   "source": [
    "Use list comprehension to create a new list of all the foods in the `food` list that contain the letter `e`."
   ]
  },
  {
   "cell_type": "code",
   "execution_count": 93,
   "id": "07fddda9",
   "metadata": {},
   "outputs": [
    {
     "name": "stdout",
     "output_type": "stream",
     "text": [
      "['ramen', 'chicken nuggets', 'pineapple', 'apple']\n"
     ]
    }
   ],
   "source": [
    "new = []\n",
    "for x in food:\n",
    "    if \"e\" in x:\n",
    "        new.append(x)\n",
    "\n",
    "print(new)"
   ]
  },
  {
   "cell_type": "markdown",
   "id": "a97602e3",
   "metadata": {},
   "source": [
    "<hr>"
   ]
  },
  {
   "cell_type": "markdown",
   "id": "3f518e22",
   "metadata": {},
   "source": [
    "## 5. Working with dictionaries"
   ]
  },
  {
   "cell_type": "markdown",
   "id": "02158b97",
   "metadata": {},
   "source": [
    "[Here](https://www.w3schools.com/python/python_dictionaries.asp) is a reference on dictionaries."
   ]
  },
  {
   "cell_type": "code",
   "execution_count": 94,
   "id": "526442c3",
   "metadata": {},
   "outputs": [],
   "source": [
    "pokemon = {\n",
    "    \"name\": \"bulbasaur\",\n",
    "    \"nickname\": \"potato\",\n",
    "    \"shiny\": False\n",
    "}"
   ]
  },
  {
   "cell_type": "markdown",
   "id": "b9e4fa8d",
   "metadata": {},
   "source": [
    "**5a. Print the `name`.**"
   ]
  },
  {
   "cell_type": "code",
   "execution_count": 95,
   "id": "57f591a2",
   "metadata": {},
   "outputs": [
    {
     "name": "stdout",
     "output_type": "stream",
     "text": [
      "bulbasaur\n"
     ]
    }
   ],
   "source": [
    "print(pokemon[\"name\"])"
   ]
  },
  {
   "cell_type": "markdown",
   "id": "d6f1c4b6",
   "metadata": {},
   "source": [
    "**5b. Change the value of `nickname` from `potato` to something else.**"
   ]
  },
  {
   "cell_type": "code",
   "execution_count": 102,
   "id": "93538cf5",
   "metadata": {},
   "outputs": [
    {
     "name": "stdout",
     "output_type": "stream",
     "text": [
      "{'name': 'bulbasaur', 'nickname': 'bulb', 'shiny': False}\n"
     ]
    }
   ],
   "source": [
    "pokemon.update({\"nickname\": \"bulb\"})\n",
    "print(pokemon)"
   ]
  },
  {
   "cell_type": "markdown",
   "id": "612f92a4",
   "metadata": {},
   "source": [
    "**5c. Add the key, value pair `\"type\" : \"grass\"` to the dictionary.**"
   ]
  },
  {
   "cell_type": "code",
   "execution_count": 106,
   "id": "fabfde19",
   "metadata": {},
   "outputs": [
    {
     "name": "stdout",
     "output_type": "stream",
     "text": [
      "{'name': 'bulbasaur', 'nickname': 'bulb', 'shiny': False, 'type :': 'grass', 'type': 'grass'}\n"
     ]
    }
   ],
   "source": [
    "pokemon.update({\"type\": \"grass\"})\n",
    "print(pokemon)"
   ]
  },
  {
   "cell_type": "markdown",
   "id": "1cb4611d",
   "metadata": {},
   "source": [
    "<hr>"
   ]
  },
  {
   "cell_type": "markdown",
   "id": "072b9ad4",
   "metadata": {},
   "source": [
    "## 6. Loops and If Statements"
   ]
  },
  {
   "cell_type": "markdown",
   "id": "d31005ea",
   "metadata": {},
   "source": [
    "**6a. Use the `range` function to loop through `numbers` and print each one.**"
   ]
  },
  {
   "cell_type": "markdown",
   "id": "1022e683",
   "metadata": {},
   "source": [
    "Note: Should iterate between a range of 0 and the length of `numbers`"
   ]
  },
  {
   "cell_type": "code",
   "execution_count": 110,
   "id": "64d49dcc",
   "metadata": {},
   "outputs": [],
   "source": [
    "numbers = [1, 2, 3, 4, 5]"
   ]
  },
  {
   "cell_type": "code",
   "execution_count": 112,
   "id": "ab4a9e41",
   "metadata": {},
   "outputs": [
    {
     "name": "stdout",
     "output_type": "stream",
     "text": [
      "1\n",
      "2\n",
      "3\n",
      "4\n",
      "5\n"
     ]
    }
   ],
   "source": [
    "for number in numbers:\n",
    "    print(number)"
   ]
  },
  {
   "cell_type": "markdown",
   "id": "5522bb85",
   "metadata": {},
   "source": [
    "**6b. Loop through `potato_weights` and print `yum` if it is larger than `0.7`**"
   ]
  },
  {
   "cell_type": "code",
   "execution_count": 1,
   "id": "9e02a78e",
   "metadata": {},
   "outputs": [],
   "source": [
    "potato_weights = [0.32, 0.53, 1.2, 0.21, 0.36, 0.72, 0.12, 0.23, 0.83, 0.91, 0.56]"
   ]
  },
  {
   "cell_type": "code",
   "execution_count": 2,
   "id": "d13b269f",
   "metadata": {},
   "outputs": [
    {
     "name": "stdout",
     "output_type": "stream",
     "text": [
      "1.2 yum\n",
      "0.72 yum\n",
      "0.83 yum\n",
      "0.91 yum\n"
     ]
    }
   ],
   "source": [
    "for x in potato_weights: \n",
    "    if x > .7: \n",
    "        print(x , \"yum\")"
   ]
  },
  {
   "cell_type": "markdown",
   "id": "55f168e6",
   "metadata": {},
   "source": [
    "**6c. Loop through and print each value of `potato_weights` until it is less than `0.2`.**"
   ]
  },
  {
   "cell_type": "markdown",
   "id": "f9e34755",
   "metadata": {},
   "source": [
    "There are multiple ways to do this (this is not the only possible answer)."
   ]
  },
  {
   "cell_type": "code",
   "execution_count": 48,
   "id": "d98be024",
   "metadata": {},
   "outputs": [
    {
     "name": "stdout",
     "output_type": "stream",
     "text": [
      "0.32\n",
      "0.53\n",
      "1.2\n",
      "0.21\n",
      "0.36\n",
      "0.72\n"
     ]
    }
   ],
   "source": [
    "for x in potato_weights:\n",
    "    if x < .2:\n",
    "        break\n",
    "    print(x)"
   ]
  },
  {
   "cell_type": "markdown",
   "id": "0451b758",
   "metadata": {},
   "source": [
    "<hr>"
   ]
  },
  {
   "cell_type": "markdown",
   "id": "901c4c42",
   "metadata": {},
   "source": [
    "## 7. Poisonous or edible?"
   ]
  },
  {
   "cell_type": "markdown",
   "id": "2c2a8e7e",
   "metadata": {},
   "source": [
    "Make a function that returns whether or not a given mushroom is edible or poisonous. Brainstorm some rules (e.g., if a mushroom is purple, then it is poisonous) with your group based on the mushroom information below. The `poisonous` attribute is given to help you come up with rules, but don't use this in the function itself.  \n",
    "\n",
    "\n",
    "Please note that this is all completely fake data. :)  "
   ]
  },
  {
   "cell_type": "markdown",
   "id": "6733e2c0",
   "metadata": {},
   "source": [
    "<img src=\"\n",
    "https://cdn.shopify.com/s/files/1/0043/8439/1239/products/Cortina-KeychainPlush_1024x1024@2x.jpg?v=1630692639\" alt=\"drawing\" width=\"200\"/>"
   ]
  },
  {
   "cell_type": "code",
   "execution_count": 4,
   "id": "d4d8e163",
   "metadata": {},
   "outputs": [],
   "source": [
    "mushrooms = {\n",
    "    0: {\"cap_diameter\": 15, \"cap_color\": \"purple\", \"stem_width\": 2, \"has_skull\":True, 'poisonous':True},\n",
    "    1: {\"cap_diameter\": 25, \"cap_color\": \"orange\", \"stem_width\": 5, \"has_skull\":True, 'poisonous':True},\n",
    "    2: {\"cap_diameter\": 3, \"cap_color\": \"green\", \"stem_width\": 6, \"has_skull\":False, 'poisonous':False},\n",
    "    3: {\"cap_diameter\": 8, \"cap_color\": \"green\", \"stem_width\": 3, \"has_skull\":False, 'poisonous':False},\n",
    "    4: {\"cap_diameter\": 55, \"cap_color\": \"green\", \"stem_width\": 35, \"has_skull\":False, 'poisonous':True},\n",
    "    5: {\"cap_diameter\": 7, \"cap_color\": \"purple\", \"stem_width\": 6, \"has_skull\":False, 'poisonous':True},\n",
    "    6: {\"cap_diameter\": 3, \"cap_color\": \"purple\", \"stem_width\": 8, \"has_skull\":True, 'poisonous':True},\n",
    "    7: {\"cap_diameter\": 35, \"cap_color\": \"green\", \"stem_width\": 4, \"has_skull\":False, 'poisonous':True},\n",
    "}"
   ]
  },
  {
   "cell_type": "markdown",
   "id": "1c46d251",
   "metadata": {},
   "source": [
    "Example: If we enter `mushrooms[0]` into our function, it should return that it is poisonous."
   ]
  },
  {
   "cell_type": "code",
   "execution_count": 11,
   "id": "af4ae986",
   "metadata": {},
   "outputs": [
    {
     "data": {
      "text/plain": [
       "{'cap_diameter': 15,\n",
       " 'cap_color': 'purple',\n",
       " 'stem_width': 2,\n",
       " 'has_skull': True,\n",
       " 'poisonous': True}"
      ]
     },
     "execution_count": 11,
     "metadata": {},
     "output_type": "execute_result"
    }
   ],
   "source": [
    "mushrooms[0]"
   ]
  },
  {
   "cell_type": "code",
   "execution_count": 38,
   "id": "e6de41ee",
   "metadata": {},
   "outputs": [],
   "source": [
    "def mushroom(mush):\n",
    "    if mush[\"cap_color\"] == 'green':\n",
    "        print (\"edible\")\n",
    "    else:\n",
    "        print(\"poisonous\")"
   ]
  },
  {
   "cell_type": "code",
   "execution_count": 40,
   "id": "0ecdc5e5",
   "metadata": {},
   "outputs": [
    {
     "name": "stdout",
     "output_type": "stream",
     "text": [
      "edible\n"
     ]
    }
   ],
   "source": [
    "mushroom(mushrooms[4])"
   ]
  },
  {
   "cell_type": "code",
   "execution_count": 31,
   "id": "039806b0",
   "metadata": {},
   "outputs": [
    {
     "data": {
      "text/plain": [
       "'purple'"
      ]
     },
     "execution_count": 31,
     "metadata": {},
     "output_type": "execute_result"
    }
   ],
   "source": [
    "mushrooms[0]['cap_color']"
   ]
  },
  {
   "cell_type": "code",
   "execution_count": null,
   "id": "5e9023c9",
   "metadata": {},
   "outputs": [],
   "source": []
  },
  {
   "cell_type": "code",
   "execution_count": null,
   "id": "87cd6a6c",
   "metadata": {},
   "outputs": [],
   "source": []
  }
 ],
 "metadata": {
  "kernelspec": {
   "display_name": "Python 3.9.7 64-bit",
   "language": "python",
   "name": "python3"
  },
  "language_info": {
   "codemirror_mode": {
    "name": "ipython",
    "version": 3
   },
   "file_extension": ".py",
   "mimetype": "text/x-python",
   "name": "python",
   "nbconvert_exporter": "python",
   "pygments_lexer": "ipython3",
   "version": "3.9.7"
  },
  "vscode": {
   "interpreter": {
    "hash": "843255b71c7a5f512c1389bbfa75629ad7ffe6c77381137e289188494ee4dc83"
   }
  }
 },
 "nbformat": 4,
 "nbformat_minor": 5
}
