{
 "cells": [
  {
   "cell_type": "markdown",
   "id": "72562359",
   "metadata": {},
   "source": [
    "# Project 1"
   ]
  },
  {
   "cell_type": "markdown",
   "id": "cdc65cc3",
   "metadata": {},
   "source": [
    "# Pre-Processing"
   ]
  },
  {
   "cell_type": "markdown",
   "id": "422edd32",
   "metadata": {},
   "source": [
    "Installing and importing libraries "
   ]
  },
  {
   "cell_type": "code",
   "execution_count": 5,
   "id": "7d67c29c",
   "metadata": {},
   "outputs": [
    {
     "name": "stdout",
     "output_type": "stream",
     "text": [
      "Requirement already satisfied: pandas in c:\\users\\devir\\anaconda3\\lib\\site-packages (1.4.2)\n",
      "Requirement already satisfied: python-dateutil>=2.8.1 in c:\\users\\devir\\anaconda3\\lib\\site-packages (from pandas) (2.8.2)\n",
      "Requirement already satisfied: numpy>=1.18.5 in c:\\users\\devir\\anaconda3\\lib\\site-packages (from pandas) (1.21.5)\n",
      "Requirement already satisfied: pytz>=2020.1 in c:\\users\\devir\\anaconda3\\lib\\site-packages (from pandas) (2021.3)\n",
      "Requirement already satisfied: six>=1.5 in c:\\users\\devir\\anaconda3\\lib\\site-packages (from python-dateutil>=2.8.1->pandas) (1.16.0)\n"
     ]
    }
   ],
   "source": [
    "!pip install pandas"
   ]
  },
  {
   "cell_type": "code",
   "execution_count": 6,
   "id": "6b113464",
   "metadata": {},
   "outputs": [],
   "source": [
    "import pandas as pd"
   ]
  },
  {
   "cell_type": "markdown",
   "id": "89567625",
   "metadata": {},
   "source": [
    "Reading data files "
   ]
  },
  {
   "cell_type": "code",
   "execution_count": 7,
   "id": "56dbef22",
   "metadata": {},
   "outputs": [],
   "source": [
    "df = pd.read_csv(\"realtor-data.csv\") #kaggle 1"
   ]
  },
  {
   "cell_type": "code",
   "execution_count": 8,
   "id": "57c75ab2",
   "metadata": {},
   "outputs": [],
   "source": [
    "df1 = pd.read_csv(\"redfin_usa_properties_dataset_sample.csv\") #kaggle 2"
   ]
  },
  {
   "cell_type": "code",
   "execution_count": 9,
   "id": "9411f633",
   "metadata": {},
   "outputs": [],
   "source": [
    "#df2 = pd.read_csv(\"Annual_AvgPrice.csv\") #census buearu"
   ]
  },
  {
   "cell_type": "markdown",
   "id": "56cc5240",
   "metadata": {},
   "source": [
    "describing data "
   ]
  },
  {
   "cell_type": "code",
   "execution_count": 10,
   "id": "586ee5e6",
   "metadata": {},
   "outputs": [
    {
     "data": {
      "text/plain": [
       "Index(['status', 'price', 'bed', 'bath', 'acre_lot', 'full_address', 'street',\n",
       "       'city', 'state', 'zip_code', 'house_size', 'sold_date'],\n",
       "      dtype='object')"
      ]
     },
     "execution_count": 10,
     "metadata": {},
     "output_type": "execute_result"
    }
   ],
   "source": [
    "df.columns"
   ]
  },
  {
   "cell_type": "code",
   "execution_count": 11,
   "id": "1de4c98d",
   "metadata": {},
   "outputs": [
    {
     "data": {
      "text/plain": [
       "Index(['url', 'name', 'price', 'formatted_price', 'currency', 'address',\n",
       "       'locality', 'region', 'postal_code', 'country', 'latitude', 'longitude',\n",
       "       'description', 'baths', 'beds', 'sqft', 'property_details', 'images',\n",
       "       'listed_by', 'uniq_id', 'scraped_at'],\n",
       "      dtype='object')"
      ]
     },
     "execution_count": 11,
     "metadata": {},
     "output_type": "execute_result"
    }
   ],
   "source": [
    "df1.columns "
   ]
  },
  {
   "cell_type": "code",
   "execution_count": 12,
   "id": "c030f3e9",
   "metadata": {},
   "outputs": [],
   "source": [
    "#the similar columns between both sets are price, address, state/region, and sold_date/scraped_at.  "
   ]
  },
  {
   "cell_type": "code",
   "execution_count": 13,
   "id": "f404c66f",
   "metadata": {},
   "outputs": [
    {
     "data": {
      "text/plain": [
       "status           object\n",
       "price           float64\n",
       "bed             float64\n",
       "bath            float64\n",
       "acre_lot        float64\n",
       "full_address     object\n",
       "street           object\n",
       "city             object\n",
       "state            object\n",
       "zip_code        float64\n",
       "house_size      float64\n",
       "sold_date        object\n",
       "dtype: object"
      ]
     },
     "execution_count": 13,
     "metadata": {},
     "output_type": "execute_result"
    }
   ],
   "source": [
    "df.dtypes"
   ]
  },
  {
   "cell_type": "code",
   "execution_count": 14,
   "id": "52abd11f",
   "metadata": {},
   "outputs": [
    {
     "data": {
      "text/plain": [
       "url                  object\n",
       "name                 object\n",
       "price               float64\n",
       "formatted_price      object\n",
       "currency             object\n",
       "address              object\n",
       "locality             object\n",
       "region               object\n",
       "postal_code           int64\n",
       "country              object\n",
       "latitude            float64\n",
       "longitude           float64\n",
       "description          object\n",
       "baths                object\n",
       "beds                float64\n",
       "sqft                 object\n",
       "property_details     object\n",
       "images               object\n",
       "listed_by            object\n",
       "uniq_id              object\n",
       "scraped_at           object\n",
       "dtype: object"
      ]
     },
     "execution_count": 14,
     "metadata": {},
     "output_type": "execute_result"
    }
   ],
   "source": [
    "df1.dtypes"
   ]
  },
  {
   "cell_type": "code",
   "execution_count": 15,
   "id": "aa5b0115",
   "metadata": {},
   "outputs": [
    {
     "data": {
      "text/plain": [
       "(923159, 12)"
      ]
     },
     "execution_count": 15,
     "metadata": {},
     "output_type": "execute_result"
    }
   ],
   "source": [
    "df.shape"
   ]
  },
  {
   "cell_type": "code",
   "execution_count": 16,
   "id": "38d4f72c",
   "metadata": {},
   "outputs": [
    {
     "data": {
      "text/plain": [
       "(39, 21)"
      ]
     },
     "execution_count": 16,
     "metadata": {},
     "output_type": "execute_result"
    }
   ],
   "source": [
    "df1.shape"
   ]
  },
  {
   "cell_type": "code",
   "execution_count": 17,
   "id": "91f07ba8",
   "metadata": {},
   "outputs": [
    {
     "data": {
      "text/html": [
       "<div>\n",
       "<style scoped>\n",
       "    .dataframe tbody tr th:only-of-type {\n",
       "        vertical-align: middle;\n",
       "    }\n",
       "\n",
       "    .dataframe tbody tr th {\n",
       "        vertical-align: top;\n",
       "    }\n",
       "\n",
       "    .dataframe thead th {\n",
       "        text-align: right;\n",
       "    }\n",
       "</style>\n",
       "<table border=\"1\" class=\"dataframe\">\n",
       "  <thead>\n",
       "    <tr style=\"text-align: right;\">\n",
       "      <th></th>\n",
       "      <th>price</th>\n",
       "      <th>bed</th>\n",
       "      <th>bath</th>\n",
       "      <th>acre_lot</th>\n",
       "      <th>zip_code</th>\n",
       "      <th>house_size</th>\n",
       "    </tr>\n",
       "  </thead>\n",
       "  <tbody>\n",
       "    <tr>\n",
       "      <th>count</th>\n",
       "      <td>9.230880e+05</td>\n",
       "      <td>791456.000000</td>\n",
       "      <td>807967.000000</td>\n",
       "      <td>649536.000000</td>\n",
       "      <td>922954.000000</td>\n",
       "      <td>6.253160e+05</td>\n",
       "    </tr>\n",
       "    <tr>\n",
       "      <th>mean</th>\n",
       "      <td>8.841225e+05</td>\n",
       "      <td>3.330352</td>\n",
       "      <td>2.488164</td>\n",
       "      <td>17.075888</td>\n",
       "      <td>6590.061523</td>\n",
       "      <td>2.141644e+03</td>\n",
       "    </tr>\n",
       "    <tr>\n",
       "      <th>std</th>\n",
       "      <td>2.623745e+06</td>\n",
       "      <td>2.070402</td>\n",
       "      <td>1.940057</td>\n",
       "      <td>962.322866</td>\n",
       "      <td>3818.208203</td>\n",
       "      <td>3.035327e+03</td>\n",
       "    </tr>\n",
       "    <tr>\n",
       "      <th>min</th>\n",
       "      <td>0.000000e+00</td>\n",
       "      <td>1.000000</td>\n",
       "      <td>1.000000</td>\n",
       "      <td>0.000000</td>\n",
       "      <td>601.000000</td>\n",
       "      <td>1.000000e+02</td>\n",
       "    </tr>\n",
       "    <tr>\n",
       "      <th>25%</th>\n",
       "      <td>2.690000e+05</td>\n",
       "      <td>2.000000</td>\n",
       "      <td>1.000000</td>\n",
       "      <td>0.110000</td>\n",
       "      <td>2919.000000</td>\n",
       "      <td>1.130000e+03</td>\n",
       "    </tr>\n",
       "    <tr>\n",
       "      <th>50%</th>\n",
       "      <td>4.750000e+05</td>\n",
       "      <td>3.000000</td>\n",
       "      <td>2.000000</td>\n",
       "      <td>0.290000</td>\n",
       "      <td>7004.000000</td>\n",
       "      <td>1.651000e+03</td>\n",
       "    </tr>\n",
       "    <tr>\n",
       "      <th>75%</th>\n",
       "      <td>8.399000e+05</td>\n",
       "      <td>4.000000</td>\n",
       "      <td>3.000000</td>\n",
       "      <td>1.150000</td>\n",
       "      <td>10001.000000</td>\n",
       "      <td>2.499000e+03</td>\n",
       "    </tr>\n",
       "    <tr>\n",
       "      <th>max</th>\n",
       "      <td>8.750000e+08</td>\n",
       "      <td>123.000000</td>\n",
       "      <td>198.000000</td>\n",
       "      <td>100000.000000</td>\n",
       "      <td>99999.000000</td>\n",
       "      <td>1.450112e+06</td>\n",
       "    </tr>\n",
       "  </tbody>\n",
       "</table>\n",
       "</div>"
      ],
      "text/plain": [
       "              price            bed           bath       acre_lot  \\\n",
       "count  9.230880e+05  791456.000000  807967.000000  649536.000000   \n",
       "mean   8.841225e+05       3.330352       2.488164      17.075888   \n",
       "std    2.623745e+06       2.070402       1.940057     962.322866   \n",
       "min    0.000000e+00       1.000000       1.000000       0.000000   \n",
       "25%    2.690000e+05       2.000000       1.000000       0.110000   \n",
       "50%    4.750000e+05       3.000000       2.000000       0.290000   \n",
       "75%    8.399000e+05       4.000000       3.000000       1.150000   \n",
       "max    8.750000e+08     123.000000     198.000000  100000.000000   \n",
       "\n",
       "            zip_code    house_size  \n",
       "count  922954.000000  6.253160e+05  \n",
       "mean     6590.061523  2.141644e+03  \n",
       "std      3818.208203  3.035327e+03  \n",
       "min       601.000000  1.000000e+02  \n",
       "25%      2919.000000  1.130000e+03  \n",
       "50%      7004.000000  1.651000e+03  \n",
       "75%     10001.000000  2.499000e+03  \n",
       "max     99999.000000  1.450112e+06  "
      ]
     },
     "execution_count": 17,
     "metadata": {},
     "output_type": "execute_result"
    }
   ],
   "source": [
    "df.describe()"
   ]
  },
  {
   "cell_type": "code",
   "execution_count": 18,
   "id": "d193bb5e",
   "metadata": {},
   "outputs": [
    {
     "data": {
      "text/html": [
       "<div>\n",
       "<style scoped>\n",
       "    .dataframe tbody tr th:only-of-type {\n",
       "        vertical-align: middle;\n",
       "    }\n",
       "\n",
       "    .dataframe tbody tr th {\n",
       "        vertical-align: top;\n",
       "    }\n",
       "\n",
       "    .dataframe thead th {\n",
       "        text-align: right;\n",
       "    }\n",
       "</style>\n",
       "<table border=\"1\" class=\"dataframe\">\n",
       "  <thead>\n",
       "    <tr style=\"text-align: right;\">\n",
       "      <th></th>\n",
       "      <th>price</th>\n",
       "      <th>postal_code</th>\n",
       "      <th>latitude</th>\n",
       "      <th>longitude</th>\n",
       "      <th>beds</th>\n",
       "    </tr>\n",
       "  </thead>\n",
       "  <tbody>\n",
       "    <tr>\n",
       "      <th>count</th>\n",
       "      <td>3.800000e+01</td>\n",
       "      <td>39.000000</td>\n",
       "      <td>36.000000</td>\n",
       "      <td>36.000000</td>\n",
       "      <td>30.000000</td>\n",
       "    </tr>\n",
       "    <tr>\n",
       "      <th>mean</th>\n",
       "      <td>8.672626e+05</td>\n",
       "      <td>49356.769231</td>\n",
       "      <td>38.320346</td>\n",
       "      <td>-90.702284</td>\n",
       "      <td>3.033333</td>\n",
       "    </tr>\n",
       "    <tr>\n",
       "      <th>std</th>\n",
       "      <td>1.848851e+06</td>\n",
       "      <td>28484.308151</td>\n",
       "      <td>4.334186</td>\n",
       "      <td>15.188697</td>\n",
       "      <td>1.325697</td>\n",
       "    </tr>\n",
       "    <tr>\n",
       "      <th>min</th>\n",
       "      <td>5.900000e+03</td>\n",
       "      <td>1519.000000</td>\n",
       "      <td>30.292768</td>\n",
       "      <td>-121.483571</td>\n",
       "      <td>0.000000</td>\n",
       "    </tr>\n",
       "    <tr>\n",
       "      <th>25%</th>\n",
       "      <td>1.951500e+05</td>\n",
       "      <td>26589.000000</td>\n",
       "      <td>34.203878</td>\n",
       "      <td>-95.862753</td>\n",
       "      <td>2.000000</td>\n",
       "    </tr>\n",
       "    <tr>\n",
       "      <th>50%</th>\n",
       "      <td>3.925000e+05</td>\n",
       "      <td>45344.000000</td>\n",
       "      <td>38.989923</td>\n",
       "      <td>-87.089439</td>\n",
       "      <td>3.000000</td>\n",
       "    </tr>\n",
       "    <tr>\n",
       "      <th>75%</th>\n",
       "      <td>7.756750e+05</td>\n",
       "      <td>73874.500000</td>\n",
       "      <td>41.050681</td>\n",
       "      <td>-80.173865</td>\n",
       "      <td>4.000000</td>\n",
       "    </tr>\n",
       "    <tr>\n",
       "      <th>max</th>\n",
       "      <td>1.040000e+07</td>\n",
       "      <td>97760.000000</td>\n",
       "      <td>44.894033</td>\n",
       "      <td>-71.676281</td>\n",
       "      <td>6.000000</td>\n",
       "    </tr>\n",
       "  </tbody>\n",
       "</table>\n",
       "</div>"
      ],
      "text/plain": [
       "              price   postal_code   latitude   longitude       beds\n",
       "count  3.800000e+01     39.000000  36.000000   36.000000  30.000000\n",
       "mean   8.672626e+05  49356.769231  38.320346  -90.702284   3.033333\n",
       "std    1.848851e+06  28484.308151   4.334186   15.188697   1.325697\n",
       "min    5.900000e+03   1519.000000  30.292768 -121.483571   0.000000\n",
       "25%    1.951500e+05  26589.000000  34.203878  -95.862753   2.000000\n",
       "50%    3.925000e+05  45344.000000  38.989923  -87.089439   3.000000\n",
       "75%    7.756750e+05  73874.500000  41.050681  -80.173865   4.000000\n",
       "max    1.040000e+07  97760.000000  44.894033  -71.676281   6.000000"
      ]
     },
     "execution_count": 18,
     "metadata": {},
     "output_type": "execute_result"
    }
   ],
   "source": [
    "df1.describe()"
   ]
  },
  {
   "cell_type": "markdown",
   "id": "e4b42d53",
   "metadata": {},
   "source": [
    "View and Selecting Data"
   ]
  },
  {
   "cell_type": "code",
   "execution_count": 19,
   "id": "22b8076d",
   "metadata": {},
   "outputs": [
    {
     "data": {
      "text/html": [
       "<div>\n",
       "<style scoped>\n",
       "    .dataframe tbody tr th:only-of-type {\n",
       "        vertical-align: middle;\n",
       "    }\n",
       "\n",
       "    .dataframe tbody tr th {\n",
       "        vertical-align: top;\n",
       "    }\n",
       "\n",
       "    .dataframe thead th {\n",
       "        text-align: right;\n",
       "    }\n",
       "</style>\n",
       "<table border=\"1\" class=\"dataframe\">\n",
       "  <thead>\n",
       "    <tr style=\"text-align: right;\">\n",
       "      <th></th>\n",
       "      <th>status</th>\n",
       "      <th>price</th>\n",
       "      <th>bed</th>\n",
       "      <th>bath</th>\n",
       "      <th>acre_lot</th>\n",
       "      <th>full_address</th>\n",
       "      <th>street</th>\n",
       "      <th>city</th>\n",
       "      <th>state</th>\n",
       "      <th>zip_code</th>\n",
       "      <th>house_size</th>\n",
       "      <th>sold_date</th>\n",
       "    </tr>\n",
       "  </thead>\n",
       "  <tbody>\n",
       "    <tr>\n",
       "      <th>0</th>\n",
       "      <td>for_sale</td>\n",
       "      <td>105000.0</td>\n",
       "      <td>3.0</td>\n",
       "      <td>2.0</td>\n",
       "      <td>0.12</td>\n",
       "      <td>Sector Yahuecas Titulo # V84, Adjuntas, PR, 00601</td>\n",
       "      <td>Sector Yahuecas Titulo # V84</td>\n",
       "      <td>Adjuntas</td>\n",
       "      <td>Puerto Rico</td>\n",
       "      <td>601.0</td>\n",
       "      <td>920.0</td>\n",
       "      <td>NaN</td>\n",
       "    </tr>\n",
       "    <tr>\n",
       "      <th>1</th>\n",
       "      <td>for_sale</td>\n",
       "      <td>80000.0</td>\n",
       "      <td>4.0</td>\n",
       "      <td>2.0</td>\n",
       "      <td>0.08</td>\n",
       "      <td>Km 78 9 Carr # 135, Adjuntas, PR, 00601</td>\n",
       "      <td>Km 78 9 Carr # 135</td>\n",
       "      <td>Adjuntas</td>\n",
       "      <td>Puerto Rico</td>\n",
       "      <td>601.0</td>\n",
       "      <td>1527.0</td>\n",
       "      <td>NaN</td>\n",
       "    </tr>\n",
       "    <tr>\n",
       "      <th>2</th>\n",
       "      <td>for_sale</td>\n",
       "      <td>67000.0</td>\n",
       "      <td>2.0</td>\n",
       "      <td>1.0</td>\n",
       "      <td>0.15</td>\n",
       "      <td>556G 556-G 16 St, Juana Diaz, PR, 00795</td>\n",
       "      <td>556G 556-G 16 St</td>\n",
       "      <td>Juana Diaz</td>\n",
       "      <td>Puerto Rico</td>\n",
       "      <td>795.0</td>\n",
       "      <td>748.0</td>\n",
       "      <td>NaN</td>\n",
       "    </tr>\n",
       "    <tr>\n",
       "      <th>3</th>\n",
       "      <td>for_sale</td>\n",
       "      <td>145000.0</td>\n",
       "      <td>4.0</td>\n",
       "      <td>2.0</td>\n",
       "      <td>0.10</td>\n",
       "      <td>R5 Comunidad El Paraso Calle De Oro R-5 Ponce,...</td>\n",
       "      <td>R5 Comunidad El Paraso Calle De Oro R-5 Ponce</td>\n",
       "      <td>Ponce</td>\n",
       "      <td>Puerto Rico</td>\n",
       "      <td>731.0</td>\n",
       "      <td>1800.0</td>\n",
       "      <td>NaN</td>\n",
       "    </tr>\n",
       "    <tr>\n",
       "      <th>4</th>\n",
       "      <td>for_sale</td>\n",
       "      <td>65000.0</td>\n",
       "      <td>6.0</td>\n",
       "      <td>2.0</td>\n",
       "      <td>0.05</td>\n",
       "      <td>14 Navarro, Mayaguez, PR, 00680</td>\n",
       "      <td>14 Navarro</td>\n",
       "      <td>Mayaguez</td>\n",
       "      <td>Puerto Rico</td>\n",
       "      <td>680.0</td>\n",
       "      <td>NaN</td>\n",
       "      <td>NaN</td>\n",
       "    </tr>\n",
       "  </tbody>\n",
       "</table>\n",
       "</div>"
      ],
      "text/plain": [
       "     status     price  bed  bath  acre_lot  \\\n",
       "0  for_sale  105000.0  3.0   2.0      0.12   \n",
       "1  for_sale   80000.0  4.0   2.0      0.08   \n",
       "2  for_sale   67000.0  2.0   1.0      0.15   \n",
       "3  for_sale  145000.0  4.0   2.0      0.10   \n",
       "4  for_sale   65000.0  6.0   2.0      0.05   \n",
       "\n",
       "                                        full_address  \\\n",
       "0  Sector Yahuecas Titulo # V84, Adjuntas, PR, 00601   \n",
       "1            Km 78 9 Carr # 135, Adjuntas, PR, 00601   \n",
       "2            556G 556-G 16 St, Juana Diaz, PR, 00795   \n",
       "3  R5 Comunidad El Paraso Calle De Oro R-5 Ponce,...   \n",
       "4                    14 Navarro, Mayaguez, PR, 00680   \n",
       "\n",
       "                                          street        city        state  \\\n",
       "0                   Sector Yahuecas Titulo # V84    Adjuntas  Puerto Rico   \n",
       "1                             Km 78 9 Carr # 135    Adjuntas  Puerto Rico   \n",
       "2                               556G 556-G 16 St  Juana Diaz  Puerto Rico   \n",
       "3  R5 Comunidad El Paraso Calle De Oro R-5 Ponce       Ponce  Puerto Rico   \n",
       "4                                     14 Navarro    Mayaguez  Puerto Rico   \n",
       "\n",
       "   zip_code  house_size sold_date  \n",
       "0     601.0       920.0       NaN  \n",
       "1     601.0      1527.0       NaN  \n",
       "2     795.0       748.0       NaN  \n",
       "3     731.0      1800.0       NaN  \n",
       "4     680.0         NaN       NaN  "
      ]
     },
     "execution_count": 19,
     "metadata": {},
     "output_type": "execute_result"
    }
   ],
   "source": [
    "df.head()"
   ]
  },
  {
   "cell_type": "code",
   "execution_count": 20,
   "id": "089f3748",
   "metadata": {},
   "outputs": [
    {
     "data": {
      "text/html": [
       "<div>\n",
       "<style scoped>\n",
       "    .dataframe tbody tr th:only-of-type {\n",
       "        vertical-align: middle;\n",
       "    }\n",
       "\n",
       "    .dataframe tbody tr th {\n",
       "        vertical-align: top;\n",
       "    }\n",
       "\n",
       "    .dataframe thead th {\n",
       "        text-align: right;\n",
       "    }\n",
       "</style>\n",
       "<table border=\"1\" class=\"dataframe\">\n",
       "  <thead>\n",
       "    <tr style=\"text-align: right;\">\n",
       "      <th></th>\n",
       "      <th>url</th>\n",
       "      <th>name</th>\n",
       "      <th>price</th>\n",
       "      <th>formatted_price</th>\n",
       "      <th>currency</th>\n",
       "      <th>address</th>\n",
       "      <th>locality</th>\n",
       "      <th>region</th>\n",
       "      <th>postal_code</th>\n",
       "      <th>country</th>\n",
       "      <th>...</th>\n",
       "      <th>longitude</th>\n",
       "      <th>description</th>\n",
       "      <th>baths</th>\n",
       "      <th>beds</th>\n",
       "      <th>sqft</th>\n",
       "      <th>property_details</th>\n",
       "      <th>images</th>\n",
       "      <th>listed_by</th>\n",
       "      <th>uniq_id</th>\n",
       "      <th>scraped_at</th>\n",
       "    </tr>\n",
       "  </thead>\n",
       "  <tbody>\n",
       "    <tr>\n",
       "      <th>0</th>\n",
       "      <td>https://www.redfin.com/SC/EASTOVER/HICKORY-HIL...</td>\n",
       "      <td>Hickory Hill Rd</td>\n",
       "      <td>40000.0</td>\n",
       "      <td>$40,000</td>\n",
       "      <td>USD</td>\n",
       "      <td>Hickory Hill Rd</td>\n",
       "      <td>Eastover</td>\n",
       "      <td>SC</td>\n",
       "      <td>29044</td>\n",
       "      <td>US</td>\n",
       "      <td>...</td>\n",
       "      <td>-80.681014</td>\n",
       "      <td>This 4.13 ac of wooded land is ready for you b...</td>\n",
       "      <td>-</td>\n",
       "      <td>NaN</td>\n",
       "      <td>-</td>\n",
       "      <td>[{'Status': 'Active'}, {'Time on Redfin': '230...</td>\n",
       "      <td>NaN</td>\n",
       "      <td>Listed by Glen Levine  • Keller Williams Columbia</td>\n",
       "      <td>efb7c6cf-dbb1-5e4e-9028-32bc46800252</td>\n",
       "      <td>17/04/2022 21:21:33</td>\n",
       "    </tr>\n",
       "    <tr>\n",
       "      <th>1</th>\n",
       "      <td>https://www.redfin.com/NY/Flushing/147-35-38th...</td>\n",
       "      <td>147-35 38th Ave Unit B37</td>\n",
       "      <td>415000.0</td>\n",
       "      <td>$415,000</td>\n",
       "      <td>USD</td>\n",
       "      <td>147-35 38th Ave Unit B37</td>\n",
       "      <td>Flushing</td>\n",
       "      <td>NY</td>\n",
       "      <td>11354</td>\n",
       "      <td>US</td>\n",
       "      <td>...</td>\n",
       "      <td>-73.817481</td>\n",
       "      <td>Large and Sunny Two Bedroom Coop Apartment in ...</td>\n",
       "      <td>1</td>\n",
       "      <td>2.0</td>\n",
       "      <td>-</td>\n",
       "      <td>[{'Status': 'Active'}, {'Time on Redfin': '201...</td>\n",
       "      <td>https://ssl.cdn-redfin.com/photo/269/mbpaddedw...</td>\n",
       "      <td>Listing by Nadine Persaud  • All Area Brokerag...</td>\n",
       "      <td>e10a3655-1719-57e7-8d9d-984c82584c73</td>\n",
       "      <td>17/04/2022 21:21:34</td>\n",
       "    </tr>\n",
       "    <tr>\n",
       "      <th>2</th>\n",
       "      <td>https://www.redfin.com/TX/Unknown/1024-Indigo-...</td>\n",
       "      <td>1024 Indigo Sky St</td>\n",
       "      <td>240950.0</td>\n",
       "      <td>$240,950</td>\n",
       "      <td>USD</td>\n",
       "      <td>1024 Indigo Sky St</td>\n",
       "      <td>El Paso</td>\n",
       "      <td>TX</td>\n",
       "      <td>79928</td>\n",
       "      <td>US</td>\n",
       "      <td>...</td>\n",
       "      <td>-106.206967</td>\n",
       "      <td>The Myrtle by Saratoga Homes. A 1 Story, 4 Bed...</td>\n",
       "      <td>3</td>\n",
       "      <td>4.0</td>\n",
       "      <td>1,687</td>\n",
       "      <td>[{'Status': 'Pending'}, {'Time on Redfin': '13...</td>\n",
       "      <td>https://ssl.cdn-redfin.com/photo/183/mbpaddedw...</td>\n",
       "      <td>Listed by Octavio Duarte •TREC #0616335 • SITE...</td>\n",
       "      <td>fbadbf86-3ee5-5100-a163-2acd162c43e5</td>\n",
       "      <td>17/04/2022 21:21:34</td>\n",
       "    </tr>\n",
       "    <tr>\n",
       "      <th>3</th>\n",
       "      <td>https://www.redfin.com/OR/Redmond/3439-NW-9th-...</td>\n",
       "      <td>3439 NW 9th St</td>\n",
       "      <td>466995.0</td>\n",
       "      <td>$466,995</td>\n",
       "      <td>USD</td>\n",
       "      <td>3439 NW 9th St</td>\n",
       "      <td>Redmond</td>\n",
       "      <td>OR</td>\n",
       "      <td>97756</td>\n",
       "      <td>US</td>\n",
       "      <td>...</td>\n",
       "      <td>-121.178761</td>\n",
       "      <td>At 1979 square feet, the Orchard Encore on lot...</td>\n",
       "      <td>2</td>\n",
       "      <td>4.0</td>\n",
       "      <td>1,979</td>\n",
       "      <td>[{'Status': 'Pending'}, {'Time on Redfin': '12...</td>\n",
       "      <td>https://ssl.cdn-redfin.com/photo/199/mbpaddedw...</td>\n",
       "      <td>Listed by Lexxye Haggard  • New Home Star Oreg...</td>\n",
       "      <td>ba379e0c-5517-56a5-bd93-6e9620577ebc</td>\n",
       "      <td>17/04/2022 21:21:35</td>\n",
       "    </tr>\n",
       "    <tr>\n",
       "      <th>4</th>\n",
       "      <td>https://www.redfin.com/IL/Chicago/1545-N-Larra...</td>\n",
       "      <td>1545 N Larrabee St Unit 2N</td>\n",
       "      <td>489900.0</td>\n",
       "      <td>$489,900</td>\n",
       "      <td>USD</td>\n",
       "      <td>1545 N Larrabee St Unit 2N</td>\n",
       "      <td>Chicago</td>\n",
       "      <td>IL</td>\n",
       "      <td>60610</td>\n",
       "      <td>US</td>\n",
       "      <td>...</td>\n",
       "      <td>-87.643162</td>\n",
       "      <td>Spacious Two Bedroom Condo residing in an Inti...</td>\n",
       "      <td>2</td>\n",
       "      <td>2.0</td>\n",
       "      <td>1,550</td>\n",
       "      <td>[{'Status': 'Active'}, {'Time on Redfin': '17 ...</td>\n",
       "      <td>https://ssl.cdn-redfin.com/photo/68/mbpaddedwi...</td>\n",
       "      <td>Listed by Kieran Conlon  • Compass</td>\n",
       "      <td>c22132b1-1809-5428-bd6c-59de7edf3dff</td>\n",
       "      <td>17/04/2022 21:21:35</td>\n",
       "    </tr>\n",
       "  </tbody>\n",
       "</table>\n",
       "<p>5 rows × 21 columns</p>\n",
       "</div>"
      ],
      "text/plain": [
       "                                                 url  \\\n",
       "0  https://www.redfin.com/SC/EASTOVER/HICKORY-HIL...   \n",
       "1  https://www.redfin.com/NY/Flushing/147-35-38th...   \n",
       "2  https://www.redfin.com/TX/Unknown/1024-Indigo-...   \n",
       "3  https://www.redfin.com/OR/Redmond/3439-NW-9th-...   \n",
       "4  https://www.redfin.com/IL/Chicago/1545-N-Larra...   \n",
       "\n",
       "                         name     price formatted_price currency  \\\n",
       "0             Hickory Hill Rd   40000.0         $40,000      USD   \n",
       "1    147-35 38th Ave Unit B37  415000.0        $415,000      USD   \n",
       "2          1024 Indigo Sky St  240950.0        $240,950      USD   \n",
       "3              3439 NW 9th St  466995.0        $466,995      USD   \n",
       "4  1545 N Larrabee St Unit 2N  489900.0        $489,900      USD   \n",
       "\n",
       "                      address  locality region  postal_code country  ...  \\\n",
       "0             Hickory Hill Rd  Eastover     SC        29044      US  ...   \n",
       "1    147-35 38th Ave Unit B37  Flushing     NY        11354      US  ...   \n",
       "2          1024 Indigo Sky St   El Paso     TX        79928      US  ...   \n",
       "3              3439 NW 9th St   Redmond     OR        97756      US  ...   \n",
       "4  1545 N Larrabee St Unit 2N   Chicago     IL        60610      US  ...   \n",
       "\n",
       "    longitude                                        description baths beds  \\\n",
       "0  -80.681014  This 4.13 ac of wooded land is ready for you b...     -  NaN   \n",
       "1  -73.817481  Large and Sunny Two Bedroom Coop Apartment in ...     1  2.0   \n",
       "2 -106.206967  The Myrtle by Saratoga Homes. A 1 Story, 4 Bed...     3  4.0   \n",
       "3 -121.178761  At 1979 square feet, the Orchard Encore on lot...     2  4.0   \n",
       "4  -87.643162  Spacious Two Bedroom Condo residing in an Inti...     2  2.0   \n",
       "\n",
       "    sqft                                   property_details  \\\n",
       "0      -  [{'Status': 'Active'}, {'Time on Redfin': '230...   \n",
       "1      -  [{'Status': 'Active'}, {'Time on Redfin': '201...   \n",
       "2  1,687  [{'Status': 'Pending'}, {'Time on Redfin': '13...   \n",
       "3  1,979  [{'Status': 'Pending'}, {'Time on Redfin': '12...   \n",
       "4  1,550  [{'Status': 'Active'}, {'Time on Redfin': '17 ...   \n",
       "\n",
       "                                              images  \\\n",
       "0                                                NaN   \n",
       "1  https://ssl.cdn-redfin.com/photo/269/mbpaddedw...   \n",
       "2  https://ssl.cdn-redfin.com/photo/183/mbpaddedw...   \n",
       "3  https://ssl.cdn-redfin.com/photo/199/mbpaddedw...   \n",
       "4  https://ssl.cdn-redfin.com/photo/68/mbpaddedwi...   \n",
       "\n",
       "                                           listed_by  \\\n",
       "0  Listed by Glen Levine  • Keller Williams Columbia   \n",
       "1  Listing by Nadine Persaud  • All Area Brokerag...   \n",
       "2  Listed by Octavio Duarte •TREC #0616335 • SITE...   \n",
       "3  Listed by Lexxye Haggard  • New Home Star Oreg...   \n",
       "4                 Listed by Kieran Conlon  • Compass   \n",
       "\n",
       "                                uniq_id           scraped_at  \n",
       "0  efb7c6cf-dbb1-5e4e-9028-32bc46800252  17/04/2022 21:21:33  \n",
       "1  e10a3655-1719-57e7-8d9d-984c82584c73  17/04/2022 21:21:34  \n",
       "2  fbadbf86-3ee5-5100-a163-2acd162c43e5  17/04/2022 21:21:34  \n",
       "3  ba379e0c-5517-56a5-bd93-6e9620577ebc  17/04/2022 21:21:35  \n",
       "4  c22132b1-1809-5428-bd6c-59de7edf3dff  17/04/2022 21:21:35  \n",
       "\n",
       "[5 rows x 21 columns]"
      ]
     },
     "execution_count": 20,
     "metadata": {},
     "output_type": "execute_result"
    }
   ],
   "source": [
    "df1.head()"
   ]
  },
  {
   "cell_type": "markdown",
   "id": "73fcda5f",
   "metadata": {},
   "source": [
    "Deleting irrelevant columns \n",
    "#only keeping price, address, state/region, and sold_date/scraped_at"
   ]
  },
  {
   "cell_type": "code",
   "execution_count": 21,
   "id": "2e717091",
   "metadata": {},
   "outputs": [],
   "source": [
    "df.drop(\"status\", axis = 1, inplace=True)\n",
    "df.drop(\"bed\", axis = 1, inplace=True)\n",
    "df.drop(\"bath\", axis = 1, inplace=True)\n",
    "df.drop(\"street\", axis = 1, inplace=True)\n",
    "df.drop(\"city\", axis = 1, inplace=True)\n",
    "df.drop(\"zip_code\", axis = 1, inplace=True)\n",
    "df.drop(\"acre_lot\", axis = 1, inplace=True)\n",
    "df.drop(\"house_size\", axis = 1, inplace=True)"
   ]
  },
  {
   "cell_type": "code",
   "execution_count": 22,
   "id": "5ac9879e",
   "metadata": {},
   "outputs": [
    {
     "data": {
      "text/plain": [
       "Index(['price', 'full_address', 'state', 'sold_date'], dtype='object')"
      ]
     },
     "execution_count": 22,
     "metadata": {},
     "output_type": "execute_result"
    }
   ],
   "source": [
    "df.columns"
   ]
  },
  {
   "cell_type": "code",
   "execution_count": 23,
   "id": "aac07a40",
   "metadata": {},
   "outputs": [],
   "source": [
    "df1.drop(\"url\", axis = 1, inplace=True)\n",
    "df1.drop(\"name\", axis = 1, inplace=True)\n",
    "df1.drop(\"formatted_price\", axis = 1, inplace=True)\n",
    "df1.drop(\"currency\", axis = 1, inplace=True)\n",
    "df1.drop(\"locality\", axis = 1, inplace=True)\n",
    "df1.drop(\"postal_code\", axis = 1, inplace=True)\n",
    "df1.drop(\"country\", axis = 1, inplace=True)\n",
    "df1.drop(\"latitude\", axis = 1, inplace=True)\n",
    "df1.drop(\"longitude\", axis = 1, inplace=True)\n",
    "df1.drop(\"description\", axis = 1, inplace=True)\n",
    "df1.drop(\"baths\", axis = 1, inplace=True)\n",
    "df1.drop(\"beds\", axis = 1, inplace=True)\n",
    "df1.drop(\"sqft\", axis = 1, inplace=True)\n",
    "df1.drop(\"property_details\", axis = 1, inplace=True)\n",
    "df1.drop(\"images\", axis = 1, inplace=True)\n",
    "df1.drop(\"uniq_id\", axis = 1, inplace=True)\n",
    "df1.drop(\"listed_by\", axis = 1, inplace=True)"
   ]
  },
  {
   "cell_type": "code",
   "execution_count": 24,
   "id": "392d03e2",
   "metadata": {},
   "outputs": [
    {
     "data": {
      "text/plain": [
       "Index(['price', 'address', 'region', 'scraped_at'], dtype='object')"
      ]
     },
     "execution_count": 24,
     "metadata": {},
     "output_type": "execute_result"
    }
   ],
   "source": [
    "df1.columns"
   ]
  },
  {
   "cell_type": "markdown",
   "id": "a856ce6f",
   "metadata": {},
   "source": [
    "Droping Null Values "
   ]
  },
  {
   "cell_type": "code",
   "execution_count": 25,
   "id": "b5645d1e",
   "metadata": {},
   "outputs": [
    {
     "data": {
      "text/plain": [
       "price               71\n",
       "full_address         0\n",
       "state                0\n",
       "sold_date       466763\n",
       "dtype: int64"
      ]
     },
     "execution_count": 25,
     "metadata": {},
     "output_type": "execute_result"
    }
   ],
   "source": [
    "df.isnull().sum()"
   ]
  },
  {
   "cell_type": "code",
   "execution_count": 26,
   "id": "b4f0eeb2",
   "metadata": {},
   "outputs": [
    {
     "data": {
      "text/plain": [
       "price         1\n",
       "address       0\n",
       "region        0\n",
       "scraped_at    0\n",
       "dtype: int64"
      ]
     },
     "execution_count": 26,
     "metadata": {},
     "output_type": "execute_result"
    }
   ],
   "source": [
    "df1.isnull().sum()"
   ]
  },
  {
   "cell_type": "code",
   "execution_count": 27,
   "id": "c4cbb82c",
   "metadata": {
    "scrolled": true
   },
   "outputs": [],
   "source": [
    "df = df.dropna() #dropped rows that have a null value "
   ]
  },
  {
   "cell_type": "code",
   "execution_count": 28,
   "id": "35b05627",
   "metadata": {},
   "outputs": [],
   "source": [
    "df1 = df1.dropna()"
   ]
  },
  {
   "cell_type": "code",
   "execution_count": 29,
   "id": "681b65a1",
   "metadata": {},
   "outputs": [
    {
     "data": {
      "text/plain": [
       "price           0\n",
       "full_address    0\n",
       "state           0\n",
       "sold_date       0\n",
       "dtype: int64"
      ]
     },
     "execution_count": 29,
     "metadata": {},
     "output_type": "execute_result"
    }
   ],
   "source": [
    "df.isnull().sum()"
   ]
  },
  {
   "cell_type": "code",
   "execution_count": 30,
   "id": "d5fd328f",
   "metadata": {},
   "outputs": [
    {
     "data": {
      "text/plain": [
       "price         0\n",
       "address       0\n",
       "region        0\n",
       "scraped_at    0\n",
       "dtype: int64"
      ]
     },
     "execution_count": 30,
     "metadata": {},
     "output_type": "execute_result"
    }
   ],
   "source": [
    "df1.isnull().sum()"
   ]
  },
  {
   "cell_type": "markdown",
   "id": "fdf28e4b",
   "metadata": {},
   "source": [
    "Standardizing the column names"
   ]
  },
  {
   "cell_type": "code",
   "execution_count": 31,
   "id": "34ea279e",
   "metadata": {},
   "outputs": [],
   "source": [
    "df.rename(columns = {'price':'Price', \n",
    "                     'full_address':'Address',\n",
    "                     'state':'State',\n",
    "                     'sold_date': 'Year'}, \n",
    "          inplace = True)"
   ]
  },
  {
   "cell_type": "code",
   "execution_count": 32,
   "id": "976dc8cc",
   "metadata": {},
   "outputs": [
    {
     "data": {
      "text/plain": [
       "Index(['Price', 'Address', 'State', 'Year'], dtype='object')"
      ]
     },
     "execution_count": 32,
     "metadata": {},
     "output_type": "execute_result"
    }
   ],
   "source": [
    "df.columns"
   ]
  },
  {
   "cell_type": "code",
   "execution_count": 33,
   "id": "0b70b71c",
   "metadata": {},
   "outputs": [],
   "source": [
    "df1.rename(columns = {'price':'Price', \n",
    "                     'address':'Address',\n",
    "                     'region':'State',\n",
    "                     'scraped_at': 'Year'}, \n",
    "          inplace = True)"
   ]
  },
  {
   "cell_type": "code",
   "execution_count": 34,
   "id": "8cd307f7",
   "metadata": {},
   "outputs": [
    {
     "data": {
      "text/plain": [
       "Index(['Price', 'Address', 'State', 'Year'], dtype='object')"
      ]
     },
     "execution_count": 34,
     "metadata": {},
     "output_type": "execute_result"
    }
   ],
   "source": [
    "df1.columns"
   ]
  },
  {
   "cell_type": "markdown",
   "id": "05b663b7",
   "metadata": {},
   "source": [
    "Checking and Converting data Types"
   ]
  },
  {
   "cell_type": "code",
   "execution_count": 35,
   "id": "b0ae5b43",
   "metadata": {},
   "outputs": [
    {
     "data": {
      "text/plain": [
       "Price      float64\n",
       "Address     object\n",
       "State       object\n",
       "Year        object\n",
       "dtype: object"
      ]
     },
     "execution_count": 35,
     "metadata": {},
     "output_type": "execute_result"
    }
   ],
   "source": [
    "df.dtypes"
   ]
  },
  {
   "cell_type": "code",
   "execution_count": 36,
   "id": "de07cc13",
   "metadata": {},
   "outputs": [
    {
     "data": {
      "text/plain": [
       "Price      float64\n",
       "Address     object\n",
       "State       object\n",
       "Year        object\n",
       "dtype: object"
      ]
     },
     "execution_count": 36,
     "metadata": {},
     "output_type": "execute_result"
    }
   ],
   "source": [
    "df1.dtypes"
   ]
  },
  {
   "cell_type": "code",
   "execution_count": 37,
   "id": "6fc597c9",
   "metadata": {},
   "outputs": [],
   "source": [
    "from datetime import datetime"
   ]
  },
  {
   "cell_type": "code",
   "execution_count": 38,
   "id": "45644020",
   "metadata": {},
   "outputs": [],
   "source": [
    "df['Year'] = pd.to_datetime(df['Year']) #converting date sold object to date"
   ]
  },
  {
   "cell_type": "code",
   "execution_count": 39,
   "id": "2cf2aeeb",
   "metadata": {},
   "outputs": [
    {
     "data": {
      "text/plain": [
       "Price             float64\n",
       "Address            object\n",
       "State              object\n",
       "Year       datetime64[ns]\n",
       "dtype: object"
      ]
     },
     "execution_count": 39,
     "metadata": {},
     "output_type": "execute_result"
    }
   ],
   "source": [
    "df.dtypes"
   ]
  },
  {
   "cell_type": "code",
   "execution_count": 40,
   "id": "69ea5d26",
   "metadata": {},
   "outputs": [],
   "source": [
    "df[\"Year\"] = df[\"Year\"].dt.year #changing date sold to m-d-y format"
   ]
  },
  {
   "cell_type": "code",
   "execution_count": 41,
   "id": "d0242fdd",
   "metadata": {},
   "outputs": [
    {
     "data": {
      "text/html": [
       "<div>\n",
       "<style scoped>\n",
       "    .dataframe tbody tr th:only-of-type {\n",
       "        vertical-align: middle;\n",
       "    }\n",
       "\n",
       "    .dataframe tbody tr th {\n",
       "        vertical-align: top;\n",
       "    }\n",
       "\n",
       "    .dataframe thead th {\n",
       "        text-align: right;\n",
       "    }\n",
       "</style>\n",
       "<table border=\"1\" class=\"dataframe\">\n",
       "  <thead>\n",
       "    <tr style=\"text-align: right;\">\n",
       "      <th></th>\n",
       "      <th>Price</th>\n",
       "      <th>Address</th>\n",
       "      <th>State</th>\n",
       "      <th>Year</th>\n",
       "    </tr>\n",
       "  </thead>\n",
       "  <tbody>\n",
       "    <tr>\n",
       "      <th>684</th>\n",
       "      <td>76900.0</td>\n",
       "      <td>E 331 Apt E 331 Alborada Unit E331, Canovanas,...</td>\n",
       "      <td>Puerto Rico</td>\n",
       "      <td>2020</td>\n",
       "    </tr>\n",
       "    <tr>\n",
       "      <th>745</th>\n",
       "      <td>76900.0</td>\n",
       "      <td>E 331 Apt E 331 Alborada Unit E331, Canovanas,...</td>\n",
       "      <td>Puerto Rico</td>\n",
       "      <td>2020</td>\n",
       "    </tr>\n",
       "    <tr>\n",
       "      <th>802</th>\n",
       "      <td>76900.0</td>\n",
       "      <td>E 331 Apt E 331 Alborada Unit E331, Canovanas,...</td>\n",
       "      <td>Puerto Rico</td>\n",
       "      <td>2020</td>\n",
       "    </tr>\n",
       "    <tr>\n",
       "      <th>829</th>\n",
       "      <td>110000.0</td>\n",
       "      <td>B-2 Monte Elena, Dorado, PR, 00949</td>\n",
       "      <td>Puerto Rico</td>\n",
       "      <td>2019</td>\n",
       "    </tr>\n",
       "    <tr>\n",
       "      <th>932</th>\n",
       "      <td>76900.0</td>\n",
       "      <td>E 331 Apt E 331 Alborada Unit E331, Canovanas,...</td>\n",
       "      <td>Puerto Rico</td>\n",
       "      <td>2020</td>\n",
       "    </tr>\n",
       "  </tbody>\n",
       "</table>\n",
       "</div>"
      ],
      "text/plain": [
       "        Price                                            Address        State  \\\n",
       "684   76900.0  E 331 Apt E 331 Alborada Unit E331, Canovanas,...  Puerto Rico   \n",
       "745   76900.0  E 331 Apt E 331 Alborada Unit E331, Canovanas,...  Puerto Rico   \n",
       "802   76900.0  E 331 Apt E 331 Alborada Unit E331, Canovanas,...  Puerto Rico   \n",
       "829  110000.0                 B-2 Monte Elena, Dorado, PR, 00949  Puerto Rico   \n",
       "932   76900.0  E 331 Apt E 331 Alborada Unit E331, Canovanas,...  Puerto Rico   \n",
       "\n",
       "     Year  \n",
       "684  2020  \n",
       "745  2020  \n",
       "802  2020  \n",
       "829  2019  \n",
       "932  2020  "
      ]
     },
     "execution_count": 41,
     "metadata": {},
     "output_type": "execute_result"
    }
   ],
   "source": [
    "df.head()"
   ]
  },
  {
   "cell_type": "code",
   "execution_count": 42,
   "id": "f883a106",
   "metadata": {},
   "outputs": [],
   "source": [
    "df1['Year'] = pd.to_datetime(df1['Year']) #converting date sold object to date"
   ]
  },
  {
   "cell_type": "code",
   "execution_count": 43,
   "id": "21d98af1",
   "metadata": {},
   "outputs": [
    {
     "data": {
      "text/plain": [
       "Price             float64\n",
       "Address            object\n",
       "State              object\n",
       "Year       datetime64[ns]\n",
       "dtype: object"
      ]
     },
     "execution_count": 43,
     "metadata": {},
     "output_type": "execute_result"
    }
   ],
   "source": [
    "df1.dtypes"
   ]
  },
  {
   "cell_type": "code",
   "execution_count": 44,
   "id": "01fc6807",
   "metadata": {},
   "outputs": [],
   "source": [
    "df1[\"Year\"] = df1[\"Year\"].dt.year #changing date sold to m-d-y format"
   ]
  },
  {
   "cell_type": "code",
   "execution_count": 45,
   "id": "b22896dc",
   "metadata": {},
   "outputs": [
    {
     "data": {
      "text/html": [
       "<div>\n",
       "<style scoped>\n",
       "    .dataframe tbody tr th:only-of-type {\n",
       "        vertical-align: middle;\n",
       "    }\n",
       "\n",
       "    .dataframe tbody tr th {\n",
       "        vertical-align: top;\n",
       "    }\n",
       "\n",
       "    .dataframe thead th {\n",
       "        text-align: right;\n",
       "    }\n",
       "</style>\n",
       "<table border=\"1\" class=\"dataframe\">\n",
       "  <thead>\n",
       "    <tr style=\"text-align: right;\">\n",
       "      <th></th>\n",
       "      <th>Price</th>\n",
       "      <th>Address</th>\n",
       "      <th>State</th>\n",
       "      <th>Year</th>\n",
       "    </tr>\n",
       "  </thead>\n",
       "  <tbody>\n",
       "    <tr>\n",
       "      <th>0</th>\n",
       "      <td>40000.0</td>\n",
       "      <td>Hickory Hill Rd</td>\n",
       "      <td>SC</td>\n",
       "      <td>2022</td>\n",
       "    </tr>\n",
       "    <tr>\n",
       "      <th>1</th>\n",
       "      <td>415000.0</td>\n",
       "      <td>147-35 38th Ave Unit B37</td>\n",
       "      <td>NY</td>\n",
       "      <td>2022</td>\n",
       "    </tr>\n",
       "    <tr>\n",
       "      <th>2</th>\n",
       "      <td>240950.0</td>\n",
       "      <td>1024 Indigo Sky St</td>\n",
       "      <td>TX</td>\n",
       "      <td>2022</td>\n",
       "    </tr>\n",
       "    <tr>\n",
       "      <th>3</th>\n",
       "      <td>466995.0</td>\n",
       "      <td>3439 NW 9th St</td>\n",
       "      <td>OR</td>\n",
       "      <td>2022</td>\n",
       "    </tr>\n",
       "    <tr>\n",
       "      <th>4</th>\n",
       "      <td>489900.0</td>\n",
       "      <td>1545 N Larrabee St Unit 2N</td>\n",
       "      <td>IL</td>\n",
       "      <td>2022</td>\n",
       "    </tr>\n",
       "  </tbody>\n",
       "</table>\n",
       "</div>"
      ],
      "text/plain": [
       "      Price                     Address State  Year\n",
       "0   40000.0             Hickory Hill Rd    SC  2022\n",
       "1  415000.0    147-35 38th Ave Unit B37    NY  2022\n",
       "2  240950.0          1024 Indigo Sky St    TX  2022\n",
       "3  466995.0              3439 NW 9th St    OR  2022\n",
       "4  489900.0  1545 N Larrabee St Unit 2N    IL  2022"
      ]
     },
     "execution_count": 45,
     "metadata": {},
     "output_type": "execute_result"
    }
   ],
   "source": [
    "df1.head()"
   ]
  },
  {
   "cell_type": "markdown",
   "id": "d0e0b779",
   "metadata": {},
   "source": [
    "Formatting the datasets "
   ]
  },
  {
   "cell_type": "code",
   "execution_count": 46,
   "id": "227b7612",
   "metadata": {},
   "outputs": [
    {
     "data": {
      "text/html": [
       "<div>\n",
       "<style scoped>\n",
       "    .dataframe tbody tr th:only-of-type {\n",
       "        vertical-align: middle;\n",
       "    }\n",
       "\n",
       "    .dataframe tbody tr th {\n",
       "        vertical-align: top;\n",
       "    }\n",
       "\n",
       "    .dataframe thead th {\n",
       "        text-align: right;\n",
       "    }\n",
       "</style>\n",
       "<table border=\"1\" class=\"dataframe\">\n",
       "  <thead>\n",
       "    <tr style=\"text-align: right;\">\n",
       "      <th></th>\n",
       "      <th>Price</th>\n",
       "      <th>Address</th>\n",
       "      <th>State</th>\n",
       "      <th>Year</th>\n",
       "    </tr>\n",
       "  </thead>\n",
       "  <tbody>\n",
       "    <tr>\n",
       "      <th>0</th>\n",
       "      <td>76900.0</td>\n",
       "      <td>E 331 Apt E 331 Alborada Unit E331, Canovanas,...</td>\n",
       "      <td>Puerto Rico</td>\n",
       "      <td>2020</td>\n",
       "    </tr>\n",
       "    <tr>\n",
       "      <th>1</th>\n",
       "      <td>76900.0</td>\n",
       "      <td>E 331 Apt E 331 Alborada Unit E331, Canovanas,...</td>\n",
       "      <td>Puerto Rico</td>\n",
       "      <td>2020</td>\n",
       "    </tr>\n",
       "    <tr>\n",
       "      <th>2</th>\n",
       "      <td>76900.0</td>\n",
       "      <td>E 331 Apt E 331 Alborada Unit E331, Canovanas,...</td>\n",
       "      <td>Puerto Rico</td>\n",
       "      <td>2020</td>\n",
       "    </tr>\n",
       "    <tr>\n",
       "      <th>3</th>\n",
       "      <td>110000.0</td>\n",
       "      <td>B-2 Monte Elena, Dorado, PR, 00949</td>\n",
       "      <td>Puerto Rico</td>\n",
       "      <td>2019</td>\n",
       "    </tr>\n",
       "    <tr>\n",
       "      <th>4</th>\n",
       "      <td>76900.0</td>\n",
       "      <td>E 331 Apt E 331 Alborada Unit E331, Canovanas,...</td>\n",
       "      <td>Puerto Rico</td>\n",
       "      <td>2020</td>\n",
       "    </tr>\n",
       "    <tr>\n",
       "      <th>...</th>\n",
       "      <td>...</td>\n",
       "      <td>...</td>\n",
       "      <td>...</td>\n",
       "      <td>...</td>\n",
       "    </tr>\n",
       "    <tr>\n",
       "      <th>456391</th>\n",
       "      <td>589999.0</td>\n",
       "      <td>21 E Mountain Rd S, Cold Spring, NY, 10516</td>\n",
       "      <td>New York</td>\n",
       "      <td>2003</td>\n",
       "    </tr>\n",
       "    <tr>\n",
       "      <th>456392</th>\n",
       "      <td>825000.0</td>\n",
       "      <td>100 Pleasant Hill Rd, New Windsor, NY, 12553</td>\n",
       "      <td>New York</td>\n",
       "      <td>1998</td>\n",
       "    </tr>\n",
       "    <tr>\n",
       "      <th>456393</th>\n",
       "      <td>445000.0</td>\n",
       "      <td>1008 King St, Chappaqua, NY, 10514</td>\n",
       "      <td>New York</td>\n",
       "      <td>2011</td>\n",
       "    </tr>\n",
       "    <tr>\n",
       "      <th>456394</th>\n",
       "      <td>418000.0</td>\n",
       "      <td>3 Elmwood Dr, Monroe, NY, 10950</td>\n",
       "      <td>New York</td>\n",
       "      <td>2015</td>\n",
       "    </tr>\n",
       "    <tr>\n",
       "      <th>456395</th>\n",
       "      <td>825000.0</td>\n",
       "      <td>7 Miller Rd, Valley Cottage, NY, 10989</td>\n",
       "      <td>New York</td>\n",
       "      <td>2010</td>\n",
       "    </tr>\n",
       "  </tbody>\n",
       "</table>\n",
       "<p>456396 rows × 4 columns</p>\n",
       "</div>"
      ],
      "text/plain": [
       "           Price                                            Address  \\\n",
       "0        76900.0  E 331 Apt E 331 Alborada Unit E331, Canovanas,...   \n",
       "1        76900.0  E 331 Apt E 331 Alborada Unit E331, Canovanas,...   \n",
       "2        76900.0  E 331 Apt E 331 Alborada Unit E331, Canovanas,...   \n",
       "3       110000.0                 B-2 Monte Elena, Dorado, PR, 00949   \n",
       "4        76900.0  E 331 Apt E 331 Alborada Unit E331, Canovanas,...   \n",
       "...          ...                                                ...   \n",
       "456391  589999.0         21 E Mountain Rd S, Cold Spring, NY, 10516   \n",
       "456392  825000.0       100 Pleasant Hill Rd, New Windsor, NY, 12553   \n",
       "456393  445000.0                 1008 King St, Chappaqua, NY, 10514   \n",
       "456394  418000.0                    3 Elmwood Dr, Monroe, NY, 10950   \n",
       "456395  825000.0             7 Miller Rd, Valley Cottage, NY, 10989   \n",
       "\n",
       "              State  Year  \n",
       "0       Puerto Rico  2020  \n",
       "1       Puerto Rico  2020  \n",
       "2       Puerto Rico  2020  \n",
       "3       Puerto Rico  2019  \n",
       "4       Puerto Rico  2020  \n",
       "...             ...   ...  \n",
       "456391     New York  2003  \n",
       "456392     New York  1998  \n",
       "456393     New York  2011  \n",
       "456394     New York  2015  \n",
       "456395     New York  2010  \n",
       "\n",
       "[456396 rows x 4 columns]"
      ]
     },
     "execution_count": 46,
     "metadata": {},
     "output_type": "execute_result"
    }
   ],
   "source": [
    "df.reset_index(drop=True) #adjusting the indexes"
   ]
  },
  {
   "cell_type": "code",
   "execution_count": 47,
   "id": "d85ea1c2",
   "metadata": {},
   "outputs": [
    {
     "data": {
      "text/html": [
       "<div>\n",
       "<style scoped>\n",
       "    .dataframe tbody tr th:only-of-type {\n",
       "        vertical-align: middle;\n",
       "    }\n",
       "\n",
       "    .dataframe tbody tr th {\n",
       "        vertical-align: top;\n",
       "    }\n",
       "\n",
       "    .dataframe thead th {\n",
       "        text-align: right;\n",
       "    }\n",
       "</style>\n",
       "<table border=\"1\" class=\"dataframe\">\n",
       "  <thead>\n",
       "    <tr style=\"text-align: right;\">\n",
       "      <th></th>\n",
       "      <th>Price</th>\n",
       "      <th>Address</th>\n",
       "      <th>State</th>\n",
       "      <th>Year</th>\n",
       "    </tr>\n",
       "  </thead>\n",
       "  <tbody>\n",
       "    <tr>\n",
       "      <th>0</th>\n",
       "      <td>40000.0</td>\n",
       "      <td>Hickory Hill Rd</td>\n",
       "      <td>SC</td>\n",
       "      <td>2022</td>\n",
       "    </tr>\n",
       "    <tr>\n",
       "      <th>1</th>\n",
       "      <td>415000.0</td>\n",
       "      <td>147-35 38th Ave Unit B37</td>\n",
       "      <td>NY</td>\n",
       "      <td>2022</td>\n",
       "    </tr>\n",
       "    <tr>\n",
       "      <th>2</th>\n",
       "      <td>240950.0</td>\n",
       "      <td>1024 Indigo Sky St</td>\n",
       "      <td>TX</td>\n",
       "      <td>2022</td>\n",
       "    </tr>\n",
       "    <tr>\n",
       "      <th>3</th>\n",
       "      <td>466995.0</td>\n",
       "      <td>3439 NW 9th St</td>\n",
       "      <td>OR</td>\n",
       "      <td>2022</td>\n",
       "    </tr>\n",
       "    <tr>\n",
       "      <th>4</th>\n",
       "      <td>489900.0</td>\n",
       "      <td>1545 N Larrabee St Unit 2N</td>\n",
       "      <td>IL</td>\n",
       "      <td>2022</td>\n",
       "    </tr>\n",
       "    <tr>\n",
       "      <th>5</th>\n",
       "      <td>1175000.0</td>\n",
       "      <td>3760 Bear Tooth Ln</td>\n",
       "      <td>MO</td>\n",
       "      <td>2022</td>\n",
       "    </tr>\n",
       "    <tr>\n",
       "      <th>6</th>\n",
       "      <td>1299000.0</td>\n",
       "      <td>569 77th St</td>\n",
       "      <td>NY</td>\n",
       "      <td>2022</td>\n",
       "    </tr>\n",
       "    <tr>\n",
       "      <th>7</th>\n",
       "      <td>484900.0</td>\n",
       "      <td>734 Collins Run</td>\n",
       "      <td>TN</td>\n",
       "      <td>2022</td>\n",
       "    </tr>\n",
       "    <tr>\n",
       "      <th>8</th>\n",
       "      <td>10400000.0</td>\n",
       "      <td>1064 Taylors Island Rd</td>\n",
       "      <td>MD</td>\n",
       "      <td>2022</td>\n",
       "    </tr>\n",
       "    <tr>\n",
       "      <th>9</th>\n",
       "      <td>239900.0</td>\n",
       "      <td>431 North St</td>\n",
       "      <td>DE</td>\n",
       "      <td>2022</td>\n",
       "    </tr>\n",
       "    <tr>\n",
       "      <th>10</th>\n",
       "      <td>5800000.0</td>\n",
       "      <td>2625 Brea Canyon Cut Off Rd</td>\n",
       "      <td>CA</td>\n",
       "      <td>2022</td>\n",
       "    </tr>\n",
       "    <tr>\n",
       "      <th>11</th>\n",
       "      <td>15000.0</td>\n",
       "      <td>123 Lake Front Dr</td>\n",
       "      <td>AL</td>\n",
       "      <td>2022</td>\n",
       "    </tr>\n",
       "    <tr>\n",
       "      <th>12</th>\n",
       "      <td>139000.0</td>\n",
       "      <td>106 Galewood Dr</td>\n",
       "      <td>OH</td>\n",
       "      <td>2022</td>\n",
       "    </tr>\n",
       "    <tr>\n",
       "      <th>13</th>\n",
       "      <td>950000.0</td>\n",
       "      <td>70 Magill Dr</td>\n",
       "      <td>MA</td>\n",
       "      <td>2022</td>\n",
       "    </tr>\n",
       "    <tr>\n",
       "      <th>14</th>\n",
       "      <td>324000.0</td>\n",
       "      <td>753 Saint Francis St Unit 1004B</td>\n",
       "      <td>AL</td>\n",
       "      <td>2022</td>\n",
       "    </tr>\n",
       "    <tr>\n",
       "      <th>15</th>\n",
       "      <td>599000.0</td>\n",
       "      <td>48 Brandt St</td>\n",
       "      <td>OH</td>\n",
       "      <td>2022</td>\n",
       "    </tr>\n",
       "    <tr>\n",
       "      <th>16</th>\n",
       "      <td>150000.0</td>\n",
       "      <td>471 S Wyomissing Ave</td>\n",
       "      <td>PA</td>\n",
       "      <td>2022</td>\n",
       "    </tr>\n",
       "    <tr>\n",
       "      <th>17</th>\n",
       "      <td>225900.0</td>\n",
       "      <td>792 County Road 1802</td>\n",
       "      <td>AL</td>\n",
       "      <td>2022</td>\n",
       "    </tr>\n",
       "    <tr>\n",
       "      <th>18</th>\n",
       "      <td>465501.0</td>\n",
       "      <td>7975 Scenic Ridge Way</td>\n",
       "      <td>GA</td>\n",
       "      <td>2022</td>\n",
       "    </tr>\n",
       "    <tr>\n",
       "      <th>19</th>\n",
       "      <td>580633.0</td>\n",
       "      <td>4060 Castle Vista Ln</td>\n",
       "      <td>CO</td>\n",
       "      <td>2022</td>\n",
       "    </tr>\n",
       "    <tr>\n",
       "      <th>20</th>\n",
       "      <td>5900.0</td>\n",
       "      <td>L587 Netherlands Dr</td>\n",
       "      <td>WI</td>\n",
       "      <td>2022</td>\n",
       "    </tr>\n",
       "    <tr>\n",
       "      <th>21</th>\n",
       "      <td>995000.0</td>\n",
       "      <td>2627 S PINETOP MOUNTAIN Ln</td>\n",
       "      <td>AZ</td>\n",
       "      <td>2022</td>\n",
       "    </tr>\n",
       "    <tr>\n",
       "      <th>22</th>\n",
       "      <td>144900.0</td>\n",
       "      <td>310 Beech St</td>\n",
       "      <td>KY</td>\n",
       "      <td>2022</td>\n",
       "    </tr>\n",
       "    <tr>\n",
       "      <th>23</th>\n",
       "      <td>299000.0</td>\n",
       "      <td>4224 Rawlins St #301</td>\n",
       "      <td>TX</td>\n",
       "      <td>2022</td>\n",
       "    </tr>\n",
       "    <tr>\n",
       "      <th>24</th>\n",
       "      <td>255000.0</td>\n",
       "      <td>Tract 3 Easy St</td>\n",
       "      <td>AR</td>\n",
       "      <td>2022</td>\n",
       "    </tr>\n",
       "    <tr>\n",
       "      <th>25</th>\n",
       "      <td>899000.0</td>\n",
       "      <td>21725 Salt Creek Rd</td>\n",
       "      <td>CA</td>\n",
       "      <td>2022</td>\n",
       "    </tr>\n",
       "    <tr>\n",
       "      <th>26</th>\n",
       "      <td>320000.0</td>\n",
       "      <td>709 Mercy St</td>\n",
       "      <td>PA</td>\n",
       "      <td>2022</td>\n",
       "    </tr>\n",
       "    <tr>\n",
       "      <th>27</th>\n",
       "      <td>35000.0</td>\n",
       "      <td>2451 Double Tree Dr</td>\n",
       "      <td>MI</td>\n",
       "      <td>2022</td>\n",
       "    </tr>\n",
       "    <tr>\n",
       "      <th>28</th>\n",
       "      <td>79900.0</td>\n",
       "      <td>1361 Highway 57 N</td>\n",
       "      <td>SC</td>\n",
       "      <td>2022</td>\n",
       "    </tr>\n",
       "    <tr>\n",
       "      <th>29</th>\n",
       "      <td>1650000.0</td>\n",
       "      <td>6008 Oaklawn Ave</td>\n",
       "      <td>MN</td>\n",
       "      <td>2022</td>\n",
       "    </tr>\n",
       "    <tr>\n",
       "      <th>30</th>\n",
       "      <td>895000.0</td>\n",
       "      <td>4183 Eggleston Rd</td>\n",
       "      <td>VA</td>\n",
       "      <td>2022</td>\n",
       "    </tr>\n",
       "    <tr>\n",
       "      <th>31</th>\n",
       "      <td>657700.0</td>\n",
       "      <td>11217 Triple Crown Way</td>\n",
       "      <td>TX</td>\n",
       "      <td>2022</td>\n",
       "    </tr>\n",
       "    <tr>\n",
       "      <th>32</th>\n",
       "      <td>248000.0</td>\n",
       "      <td>51515 Russell Rd</td>\n",
       "      <td>OR</td>\n",
       "      <td>2022</td>\n",
       "    </tr>\n",
       "    <tr>\n",
       "      <th>33</th>\n",
       "      <td>815000.0</td>\n",
       "      <td>15780 SW Perch Rd</td>\n",
       "      <td>OR</td>\n",
       "      <td>2022</td>\n",
       "    </tr>\n",
       "    <tr>\n",
       "      <th>34</th>\n",
       "      <td>495000.0</td>\n",
       "      <td>38 Copper Cir</td>\n",
       "      <td>AR</td>\n",
       "      <td>2022</td>\n",
       "    </tr>\n",
       "    <tr>\n",
       "      <th>35</th>\n",
       "      <td>106000.0</td>\n",
       "      <td>1712 Summit Pointe</td>\n",
       "      <td>PA</td>\n",
       "      <td>2022</td>\n",
       "    </tr>\n",
       "    <tr>\n",
       "      <th>36</th>\n",
       "      <td>370000.0</td>\n",
       "      <td>1405 Elm Rd</td>\n",
       "      <td>KY</td>\n",
       "      <td>2022</td>\n",
       "    </tr>\n",
       "    <tr>\n",
       "      <th>37</th>\n",
       "      <td>184900.0</td>\n",
       "      <td>510 N Bennett St</td>\n",
       "      <td>WI</td>\n",
       "      <td>2022</td>\n",
       "    </tr>\n",
       "  </tbody>\n",
       "</table>\n",
       "</div>"
      ],
      "text/plain": [
       "         Price                          Address State  Year\n",
       "0      40000.0                  Hickory Hill Rd    SC  2022\n",
       "1     415000.0         147-35 38th Ave Unit B37    NY  2022\n",
       "2     240950.0               1024 Indigo Sky St    TX  2022\n",
       "3     466995.0                   3439 NW 9th St    OR  2022\n",
       "4     489900.0       1545 N Larrabee St Unit 2N    IL  2022\n",
       "5    1175000.0               3760 Bear Tooth Ln    MO  2022\n",
       "6    1299000.0                      569 77th St    NY  2022\n",
       "7     484900.0                  734 Collins Run    TN  2022\n",
       "8   10400000.0           1064 Taylors Island Rd    MD  2022\n",
       "9     239900.0                     431 North St    DE  2022\n",
       "10   5800000.0      2625 Brea Canyon Cut Off Rd    CA  2022\n",
       "11     15000.0                123 Lake Front Dr    AL  2022\n",
       "12    139000.0                  106 Galewood Dr    OH  2022\n",
       "13    950000.0                     70 Magill Dr    MA  2022\n",
       "14    324000.0  753 Saint Francis St Unit 1004B    AL  2022\n",
       "15    599000.0                     48 Brandt St    OH  2022\n",
       "16    150000.0             471 S Wyomissing Ave    PA  2022\n",
       "17    225900.0             792 County Road 1802    AL  2022\n",
       "18    465501.0            7975 Scenic Ridge Way    GA  2022\n",
       "19    580633.0             4060 Castle Vista Ln    CO  2022\n",
       "20      5900.0              L587 Netherlands Dr    WI  2022\n",
       "21    995000.0       2627 S PINETOP MOUNTAIN Ln    AZ  2022\n",
       "22    144900.0                     310 Beech St    KY  2022\n",
       "23    299000.0             4224 Rawlins St #301    TX  2022\n",
       "24    255000.0                  Tract 3 Easy St    AR  2022\n",
       "25    899000.0              21725 Salt Creek Rd    CA  2022\n",
       "26    320000.0                     709 Mercy St    PA  2022\n",
       "27     35000.0              2451 Double Tree Dr    MI  2022\n",
       "28     79900.0                1361 Highway 57 N    SC  2022\n",
       "29   1650000.0                 6008 Oaklawn Ave    MN  2022\n",
       "30    895000.0                4183 Eggleston Rd    VA  2022\n",
       "31    657700.0           11217 Triple Crown Way    TX  2022\n",
       "32    248000.0                 51515 Russell Rd    OR  2022\n",
       "33    815000.0                15780 SW Perch Rd    OR  2022\n",
       "34    495000.0                    38 Copper Cir    AR  2022\n",
       "35    106000.0               1712 Summit Pointe    PA  2022\n",
       "36    370000.0                      1405 Elm Rd    KY  2022\n",
       "37    184900.0                 510 N Bennett St    WI  2022"
      ]
     },
     "execution_count": 47,
     "metadata": {},
     "output_type": "execute_result"
    }
   ],
   "source": [
    "df1.reset_index(drop=True) #adjusting the indexes"
   ]
  },
  {
   "cell_type": "code",
   "execution_count": 48,
   "id": "afcb7422",
   "metadata": {},
   "outputs": [],
   "source": [
    "state_abbreviation = {\n",
    "    \"Alabama\": \"AL\",\n",
    "    \"Alaska\": \"AK\",\n",
    "    \"Arizona\": \"AZ\",\n",
    "    \"Arkansas\": \"AR\",\n",
    "    \"California\": \"CA\",\n",
    "    \"Colorado\": \"CO\",\n",
    "    \"Connecticut\": \"CT\",\n",
    "    \"Delaware\": \"DE\",\n",
    "    \"Florida\": \"FL\",\n",
    "    \"Georgia\": \"GA\",\n",
    "    \"Hawaii\": \"HI\",\n",
    "    \"Idaho\": \"ID\",\n",
    "    \"Illinois\": \"IL\",\n",
    "    \"Indiana\": \"IN\",\n",
    "    \"Iowa\": \"IA\",\n",
    "    \"Kansas\": \"KS\",\n",
    "    \"Kentucky\": \"KY\",\n",
    "    \"Louisiana\": \"LA\",\n",
    "    \"Maine\": \"ME\",\n",
    "    \"Maryland\": \"MD\",\n",
    "    \"Massachusetts\": \"MA\",\n",
    "    \"Michigan\": \"MI\",\n",
    "    \"Minnesota\": \"MN\",\n",
    "    \"Mississippi\": \"MS\",\n",
    "    \"Missouri\": \"MO\",\n",
    "    \"Montana\": \"MT\",\n",
    "    \"Nebraska\": \"NE\",\n",
    "    \"Nevada\": \"NV\",\n",
    "    \"New Hampshire\": \"NH\",\n",
    "    \"New Jersey\": \"NJ\",\n",
    "    \"New Mexico\": \"NM\",\n",
    "    \"New York\": \"NY\",\n",
    "    \"North Carolina\": \"NC\",\n",
    "    \"North Dakota\": \"ND\",\n",
    "    \"Ohio\": \"OH\",\n",
    "    \"Oklahoma\": \"OK\",\n",
    "    \"Oregon\": \"OR\",\n",
    "    \"Pennsylvania\": \"PA\",\n",
    "    \"Rhode Island\": \"RI\",\n",
    "    \"South Carolina\": \"SC\",\n",
    "    \"South Dakota\": \"SD\",\n",
    "    \"Tennessee\": \"TN\",\n",
    "    \"Texas\": \"TX\",\n",
    "    \"Utah\": \"UT\",\n",
    "    \"Vermont\": \"VT\",\n",
    "    \"Virginia\": \"VA\",\n",
    "    \"Washington\": \"WA\",\n",
    "    \"West Virginia\": \"WV\",\n",
    "    \"Wisconsin\": \"WI\",\n",
    "    \"Wyoming\": \"WY\",\n",
    "}"
   ]
  },
  {
   "cell_type": "code",
   "execution_count": 49,
   "id": "4d004229",
   "metadata": {},
   "outputs": [],
   "source": [
    "df['State'] = df['State'].map(state_abbreviation) #changeing state names to abreviations "
   ]
  },
  {
   "cell_type": "code",
   "execution_count": 50,
   "id": "89b9c2af",
   "metadata": {},
   "outputs": [
    {
     "data": {
      "text/html": [
       "<div>\n",
       "<style scoped>\n",
       "    .dataframe tbody tr th:only-of-type {\n",
       "        vertical-align: middle;\n",
       "    }\n",
       "\n",
       "    .dataframe tbody tr th {\n",
       "        vertical-align: top;\n",
       "    }\n",
       "\n",
       "    .dataframe thead th {\n",
       "        text-align: right;\n",
       "    }\n",
       "</style>\n",
       "<table border=\"1\" class=\"dataframe\">\n",
       "  <thead>\n",
       "    <tr style=\"text-align: right;\">\n",
       "      <th></th>\n",
       "      <th>Price</th>\n",
       "      <th>Address</th>\n",
       "      <th>State</th>\n",
       "      <th>Year</th>\n",
       "    </tr>\n",
       "  </thead>\n",
       "  <tbody>\n",
       "    <tr>\n",
       "      <th>684</th>\n",
       "      <td>76900.0</td>\n",
       "      <td>E 331 Apt E 331 Alborada Unit E331, Canovanas,...</td>\n",
       "      <td>NaN</td>\n",
       "      <td>2020</td>\n",
       "    </tr>\n",
       "    <tr>\n",
       "      <th>745</th>\n",
       "      <td>76900.0</td>\n",
       "      <td>E 331 Apt E 331 Alborada Unit E331, Canovanas,...</td>\n",
       "      <td>NaN</td>\n",
       "      <td>2020</td>\n",
       "    </tr>\n",
       "    <tr>\n",
       "      <th>802</th>\n",
       "      <td>76900.0</td>\n",
       "      <td>E 331 Apt E 331 Alborada Unit E331, Canovanas,...</td>\n",
       "      <td>NaN</td>\n",
       "      <td>2020</td>\n",
       "    </tr>\n",
       "    <tr>\n",
       "      <th>829</th>\n",
       "      <td>110000.0</td>\n",
       "      <td>B-2 Monte Elena, Dorado, PR, 00949</td>\n",
       "      <td>NaN</td>\n",
       "      <td>2019</td>\n",
       "    </tr>\n",
       "    <tr>\n",
       "      <th>932</th>\n",
       "      <td>76900.0</td>\n",
       "      <td>E 331 Apt E 331 Alborada Unit E331, Canovanas,...</td>\n",
       "      <td>NaN</td>\n",
       "      <td>2020</td>\n",
       "    </tr>\n",
       "  </tbody>\n",
       "</table>\n",
       "</div>"
      ],
      "text/plain": [
       "        Price                                            Address State  Year\n",
       "684   76900.0  E 331 Apt E 331 Alborada Unit E331, Canovanas,...   NaN  2020\n",
       "745   76900.0  E 331 Apt E 331 Alborada Unit E331, Canovanas,...   NaN  2020\n",
       "802   76900.0  E 331 Apt E 331 Alborada Unit E331, Canovanas,...   NaN  2020\n",
       "829  110000.0                 B-2 Monte Elena, Dorado, PR, 00949   NaN  2019\n",
       "932   76900.0  E 331 Apt E 331 Alborada Unit E331, Canovanas,...   NaN  2020"
      ]
     },
     "execution_count": 50,
     "metadata": {},
     "output_type": "execute_result"
    }
   ],
   "source": [
    "df.head()"
   ]
  },
  {
   "cell_type": "code",
   "execution_count": 51,
   "id": "a6f6b9cc",
   "metadata": {},
   "outputs": [],
   "source": [
    "df = df.dropna() #getting rid of the null state rows"
   ]
  },
  {
   "cell_type": "code",
   "execution_count": 52,
   "id": "c8ceae51",
   "metadata": {},
   "outputs": [
    {
     "data": {
      "text/plain": [
       "Price      0\n",
       "Address    0\n",
       "State      0\n",
       "Year       0\n",
       "dtype: int64"
      ]
     },
     "execution_count": 52,
     "metadata": {},
     "output_type": "execute_result"
    }
   ],
   "source": [
    "df.isnull().sum()"
   ]
  },
  {
   "cell_type": "code",
   "execution_count": 53,
   "id": "6db20eb7",
   "metadata": {},
   "outputs": [
    {
     "data": {
      "text/plain": [
       "(456319, 4)"
      ]
     },
     "execution_count": 53,
     "metadata": {},
     "output_type": "execute_result"
    }
   ],
   "source": [
    "df.shape"
   ]
  },
  {
   "cell_type": "markdown",
   "id": "2ab484c4",
   "metadata": {},
   "source": [
    "Removing irrelevant column  "
   ]
  },
  {
   "cell_type": "code",
   "execution_count": 54,
   "id": "beab4fa5",
   "metadata": {},
   "outputs": [
    {
     "data": {
      "text/html": [
       "<div>\n",
       "<style scoped>\n",
       "    .dataframe tbody tr th:only-of-type {\n",
       "        vertical-align: middle;\n",
       "    }\n",
       "\n",
       "    .dataframe tbody tr th {\n",
       "        vertical-align: top;\n",
       "    }\n",
       "\n",
       "    .dataframe thead th {\n",
       "        text-align: right;\n",
       "    }\n",
       "</style>\n",
       "<table border=\"1\" class=\"dataframe\">\n",
       "  <thead>\n",
       "    <tr style=\"text-align: right;\">\n",
       "      <th></th>\n",
       "      <th>Price</th>\n",
       "      <th>Address</th>\n",
       "      <th>State</th>\n",
       "      <th>Year</th>\n",
       "    </tr>\n",
       "  </thead>\n",
       "  <tbody>\n",
       "    <tr>\n",
       "      <th>24233</th>\n",
       "      <td>169900.0</td>\n",
       "      <td>420 Main St Apt 42, Agawam, MA, 01001</td>\n",
       "      <td>MA</td>\n",
       "      <td>2019</td>\n",
       "    </tr>\n",
       "    <tr>\n",
       "      <th>24237</th>\n",
       "      <td>525000.0</td>\n",
       "      <td>955 River Rd, Agawam, MA, 01001</td>\n",
       "      <td>MA</td>\n",
       "      <td>2014</td>\n",
       "    </tr>\n",
       "    <tr>\n",
       "      <th>24238</th>\n",
       "      <td>289900.0</td>\n",
       "      <td>82 Harvey Johnson Dr, Agawam, MA, 01001</td>\n",
       "      <td>MA</td>\n",
       "      <td>2012</td>\n",
       "    </tr>\n",
       "    <tr>\n",
       "      <th>24239</th>\n",
       "      <td>239900.0</td>\n",
       "      <td>15 Ash Ln Unit 15, Agawam, MA, 01001</td>\n",
       "      <td>MA</td>\n",
       "      <td>2016</td>\n",
       "    </tr>\n",
       "    <tr>\n",
       "      <th>24240</th>\n",
       "      <td>249900.0</td>\n",
       "      <td>181 Brookfield Ln Unit 181, Agawam, MA, 01001</td>\n",
       "      <td>MA</td>\n",
       "      <td>1997</td>\n",
       "    </tr>\n",
       "  </tbody>\n",
       "</table>\n",
       "</div>"
      ],
      "text/plain": [
       "          Price                                        Address State  Year\n",
       "24233  169900.0          420 Main St Apt 42, Agawam, MA, 01001    MA  2019\n",
       "24237  525000.0                955 River Rd, Agawam, MA, 01001    MA  2014\n",
       "24238  289900.0        82 Harvey Johnson Dr, Agawam, MA, 01001    MA  2012\n",
       "24239  239900.0           15 Ash Ln Unit 15, Agawam, MA, 01001    MA  2016\n",
       "24240  249900.0  181 Brookfield Ln Unit 181, Agawam, MA, 01001    MA  1997"
      ]
     },
     "execution_count": 54,
     "metadata": {},
     "output_type": "execute_result"
    }
   ],
   "source": [
    "df.head()"
   ]
  },
  {
   "cell_type": "code",
   "execution_count": 55,
   "id": "bb3d581a",
   "metadata": {},
   "outputs": [
    {
     "data": {
      "text/html": [
       "<div>\n",
       "<style scoped>\n",
       "    .dataframe tbody tr th:only-of-type {\n",
       "        vertical-align: middle;\n",
       "    }\n",
       "\n",
       "    .dataframe tbody tr th {\n",
       "        vertical-align: top;\n",
       "    }\n",
       "\n",
       "    .dataframe thead th {\n",
       "        text-align: right;\n",
       "    }\n",
       "</style>\n",
       "<table border=\"1\" class=\"dataframe\">\n",
       "  <thead>\n",
       "    <tr style=\"text-align: right;\">\n",
       "      <th></th>\n",
       "      <th>Price</th>\n",
       "      <th>Address</th>\n",
       "      <th>State</th>\n",
       "      <th>Year</th>\n",
       "    </tr>\n",
       "  </thead>\n",
       "  <tbody>\n",
       "    <tr>\n",
       "      <th>0</th>\n",
       "      <td>40000.0</td>\n",
       "      <td>Hickory Hill Rd</td>\n",
       "      <td>SC</td>\n",
       "      <td>2022</td>\n",
       "    </tr>\n",
       "    <tr>\n",
       "      <th>1</th>\n",
       "      <td>415000.0</td>\n",
       "      <td>147-35 38th Ave Unit B37</td>\n",
       "      <td>NY</td>\n",
       "      <td>2022</td>\n",
       "    </tr>\n",
       "    <tr>\n",
       "      <th>2</th>\n",
       "      <td>240950.0</td>\n",
       "      <td>1024 Indigo Sky St</td>\n",
       "      <td>TX</td>\n",
       "      <td>2022</td>\n",
       "    </tr>\n",
       "    <tr>\n",
       "      <th>3</th>\n",
       "      <td>466995.0</td>\n",
       "      <td>3439 NW 9th St</td>\n",
       "      <td>OR</td>\n",
       "      <td>2022</td>\n",
       "    </tr>\n",
       "    <tr>\n",
       "      <th>4</th>\n",
       "      <td>489900.0</td>\n",
       "      <td>1545 N Larrabee St Unit 2N</td>\n",
       "      <td>IL</td>\n",
       "      <td>2022</td>\n",
       "    </tr>\n",
       "  </tbody>\n",
       "</table>\n",
       "</div>"
      ],
      "text/plain": [
       "      Price                     Address State  Year\n",
       "0   40000.0             Hickory Hill Rd    SC  2022\n",
       "1  415000.0    147-35 38th Ave Unit B37    NY  2022\n",
       "2  240950.0          1024 Indigo Sky St    TX  2022\n",
       "3  466995.0              3439 NW 9th St    OR  2022\n",
       "4  489900.0  1545 N Larrabee St Unit 2N    IL  2022"
      ]
     },
     "execution_count": 55,
     "metadata": {},
     "output_type": "execute_result"
    }
   ],
   "source": [
    "df1.head()"
   ]
  },
  {
   "cell_type": "code",
   "execution_count": 56,
   "id": "02faf37a",
   "metadata": {},
   "outputs": [],
   "source": [
    "df.drop(\"Address\", axis = 1, inplace=True)"
   ]
  },
  {
   "cell_type": "code",
   "execution_count": 57,
   "id": "4d6e4df0",
   "metadata": {},
   "outputs": [
    {
     "data": {
      "text/html": [
       "<div>\n",
       "<style scoped>\n",
       "    .dataframe tbody tr th:only-of-type {\n",
       "        vertical-align: middle;\n",
       "    }\n",
       "\n",
       "    .dataframe tbody tr th {\n",
       "        vertical-align: top;\n",
       "    }\n",
       "\n",
       "    .dataframe thead th {\n",
       "        text-align: right;\n",
       "    }\n",
       "</style>\n",
       "<table border=\"1\" class=\"dataframe\">\n",
       "  <thead>\n",
       "    <tr style=\"text-align: right;\">\n",
       "      <th></th>\n",
       "      <th>Price</th>\n",
       "      <th>State</th>\n",
       "      <th>Year</th>\n",
       "    </tr>\n",
       "  </thead>\n",
       "  <tbody>\n",
       "    <tr>\n",
       "      <th>0</th>\n",
       "      <td>169900.0</td>\n",
       "      <td>MA</td>\n",
       "      <td>2019</td>\n",
       "    </tr>\n",
       "    <tr>\n",
       "      <th>1</th>\n",
       "      <td>525000.0</td>\n",
       "      <td>MA</td>\n",
       "      <td>2014</td>\n",
       "    </tr>\n",
       "    <tr>\n",
       "      <th>2</th>\n",
       "      <td>289900.0</td>\n",
       "      <td>MA</td>\n",
       "      <td>2012</td>\n",
       "    </tr>\n",
       "    <tr>\n",
       "      <th>3</th>\n",
       "      <td>239900.0</td>\n",
       "      <td>MA</td>\n",
       "      <td>2016</td>\n",
       "    </tr>\n",
       "    <tr>\n",
       "      <th>4</th>\n",
       "      <td>249900.0</td>\n",
       "      <td>MA</td>\n",
       "      <td>1997</td>\n",
       "    </tr>\n",
       "    <tr>\n",
       "      <th>...</th>\n",
       "      <td>...</td>\n",
       "      <td>...</td>\n",
       "      <td>...</td>\n",
       "    </tr>\n",
       "    <tr>\n",
       "      <th>456314</th>\n",
       "      <td>589999.0</td>\n",
       "      <td>NY</td>\n",
       "      <td>2003</td>\n",
       "    </tr>\n",
       "    <tr>\n",
       "      <th>456315</th>\n",
       "      <td>825000.0</td>\n",
       "      <td>NY</td>\n",
       "      <td>1998</td>\n",
       "    </tr>\n",
       "    <tr>\n",
       "      <th>456316</th>\n",
       "      <td>445000.0</td>\n",
       "      <td>NY</td>\n",
       "      <td>2011</td>\n",
       "    </tr>\n",
       "    <tr>\n",
       "      <th>456317</th>\n",
       "      <td>418000.0</td>\n",
       "      <td>NY</td>\n",
       "      <td>2015</td>\n",
       "    </tr>\n",
       "    <tr>\n",
       "      <th>456318</th>\n",
       "      <td>825000.0</td>\n",
       "      <td>NY</td>\n",
       "      <td>2010</td>\n",
       "    </tr>\n",
       "  </tbody>\n",
       "</table>\n",
       "<p>456319 rows × 3 columns</p>\n",
       "</div>"
      ],
      "text/plain": [
       "           Price State  Year\n",
       "0       169900.0    MA  2019\n",
       "1       525000.0    MA  2014\n",
       "2       289900.0    MA  2012\n",
       "3       239900.0    MA  2016\n",
       "4       249900.0    MA  1997\n",
       "...          ...   ...   ...\n",
       "456314  589999.0    NY  2003\n",
       "456315  825000.0    NY  1998\n",
       "456316  445000.0    NY  2011\n",
       "456317  418000.0    NY  2015\n",
       "456318  825000.0    NY  2010\n",
       "\n",
       "[456319 rows x 3 columns]"
      ]
     },
     "execution_count": 57,
     "metadata": {},
     "output_type": "execute_result"
    }
   ],
   "source": [
    "df.reset_index(drop=True) #adjusting the indexes"
   ]
  },
  {
   "cell_type": "code",
   "execution_count": 58,
   "id": "84b07fdf",
   "metadata": {},
   "outputs": [],
   "source": [
    "df1.drop(\"Address\", axis = 1, inplace=True)"
   ]
  },
  {
   "cell_type": "code",
   "execution_count": 59,
   "id": "a546e55d",
   "metadata": {
    "scrolled": true
   },
   "outputs": [
    {
     "data": {
      "text/html": [
       "<div>\n",
       "<style scoped>\n",
       "    .dataframe tbody tr th:only-of-type {\n",
       "        vertical-align: middle;\n",
       "    }\n",
       "\n",
       "    .dataframe tbody tr th {\n",
       "        vertical-align: top;\n",
       "    }\n",
       "\n",
       "    .dataframe thead th {\n",
       "        text-align: right;\n",
       "    }\n",
       "</style>\n",
       "<table border=\"1\" class=\"dataframe\">\n",
       "  <thead>\n",
       "    <tr style=\"text-align: right;\">\n",
       "      <th></th>\n",
       "      <th>Price</th>\n",
       "      <th>State</th>\n",
       "      <th>Year</th>\n",
       "    </tr>\n",
       "  </thead>\n",
       "  <tbody>\n",
       "    <tr>\n",
       "      <th>0</th>\n",
       "      <td>40000.0</td>\n",
       "      <td>SC</td>\n",
       "      <td>2022</td>\n",
       "    </tr>\n",
       "    <tr>\n",
       "      <th>1</th>\n",
       "      <td>415000.0</td>\n",
       "      <td>NY</td>\n",
       "      <td>2022</td>\n",
       "    </tr>\n",
       "    <tr>\n",
       "      <th>2</th>\n",
       "      <td>240950.0</td>\n",
       "      <td>TX</td>\n",
       "      <td>2022</td>\n",
       "    </tr>\n",
       "    <tr>\n",
       "      <th>3</th>\n",
       "      <td>466995.0</td>\n",
       "      <td>OR</td>\n",
       "      <td>2022</td>\n",
       "    </tr>\n",
       "    <tr>\n",
       "      <th>4</th>\n",
       "      <td>489900.0</td>\n",
       "      <td>IL</td>\n",
       "      <td>2022</td>\n",
       "    </tr>\n",
       "    <tr>\n",
       "      <th>5</th>\n",
       "      <td>1175000.0</td>\n",
       "      <td>MO</td>\n",
       "      <td>2022</td>\n",
       "    </tr>\n",
       "    <tr>\n",
       "      <th>6</th>\n",
       "      <td>1299000.0</td>\n",
       "      <td>NY</td>\n",
       "      <td>2022</td>\n",
       "    </tr>\n",
       "    <tr>\n",
       "      <th>7</th>\n",
       "      <td>484900.0</td>\n",
       "      <td>TN</td>\n",
       "      <td>2022</td>\n",
       "    </tr>\n",
       "    <tr>\n",
       "      <th>8</th>\n",
       "      <td>10400000.0</td>\n",
       "      <td>MD</td>\n",
       "      <td>2022</td>\n",
       "    </tr>\n",
       "    <tr>\n",
       "      <th>9</th>\n",
       "      <td>239900.0</td>\n",
       "      <td>DE</td>\n",
       "      <td>2022</td>\n",
       "    </tr>\n",
       "    <tr>\n",
       "      <th>10</th>\n",
       "      <td>5800000.0</td>\n",
       "      <td>CA</td>\n",
       "      <td>2022</td>\n",
       "    </tr>\n",
       "    <tr>\n",
       "      <th>11</th>\n",
       "      <td>15000.0</td>\n",
       "      <td>AL</td>\n",
       "      <td>2022</td>\n",
       "    </tr>\n",
       "    <tr>\n",
       "      <th>12</th>\n",
       "      <td>139000.0</td>\n",
       "      <td>OH</td>\n",
       "      <td>2022</td>\n",
       "    </tr>\n",
       "    <tr>\n",
       "      <th>13</th>\n",
       "      <td>950000.0</td>\n",
       "      <td>MA</td>\n",
       "      <td>2022</td>\n",
       "    </tr>\n",
       "    <tr>\n",
       "      <th>14</th>\n",
       "      <td>324000.0</td>\n",
       "      <td>AL</td>\n",
       "      <td>2022</td>\n",
       "    </tr>\n",
       "    <tr>\n",
       "      <th>15</th>\n",
       "      <td>599000.0</td>\n",
       "      <td>OH</td>\n",
       "      <td>2022</td>\n",
       "    </tr>\n",
       "    <tr>\n",
       "      <th>16</th>\n",
       "      <td>150000.0</td>\n",
       "      <td>PA</td>\n",
       "      <td>2022</td>\n",
       "    </tr>\n",
       "    <tr>\n",
       "      <th>17</th>\n",
       "      <td>225900.0</td>\n",
       "      <td>AL</td>\n",
       "      <td>2022</td>\n",
       "    </tr>\n",
       "    <tr>\n",
       "      <th>18</th>\n",
       "      <td>465501.0</td>\n",
       "      <td>GA</td>\n",
       "      <td>2022</td>\n",
       "    </tr>\n",
       "    <tr>\n",
       "      <th>19</th>\n",
       "      <td>580633.0</td>\n",
       "      <td>CO</td>\n",
       "      <td>2022</td>\n",
       "    </tr>\n",
       "    <tr>\n",
       "      <th>20</th>\n",
       "      <td>5900.0</td>\n",
       "      <td>WI</td>\n",
       "      <td>2022</td>\n",
       "    </tr>\n",
       "    <tr>\n",
       "      <th>21</th>\n",
       "      <td>995000.0</td>\n",
       "      <td>AZ</td>\n",
       "      <td>2022</td>\n",
       "    </tr>\n",
       "    <tr>\n",
       "      <th>22</th>\n",
       "      <td>144900.0</td>\n",
       "      <td>KY</td>\n",
       "      <td>2022</td>\n",
       "    </tr>\n",
       "    <tr>\n",
       "      <th>23</th>\n",
       "      <td>299000.0</td>\n",
       "      <td>TX</td>\n",
       "      <td>2022</td>\n",
       "    </tr>\n",
       "    <tr>\n",
       "      <th>24</th>\n",
       "      <td>255000.0</td>\n",
       "      <td>AR</td>\n",
       "      <td>2022</td>\n",
       "    </tr>\n",
       "    <tr>\n",
       "      <th>25</th>\n",
       "      <td>899000.0</td>\n",
       "      <td>CA</td>\n",
       "      <td>2022</td>\n",
       "    </tr>\n",
       "    <tr>\n",
       "      <th>26</th>\n",
       "      <td>320000.0</td>\n",
       "      <td>PA</td>\n",
       "      <td>2022</td>\n",
       "    </tr>\n",
       "    <tr>\n",
       "      <th>27</th>\n",
       "      <td>35000.0</td>\n",
       "      <td>MI</td>\n",
       "      <td>2022</td>\n",
       "    </tr>\n",
       "    <tr>\n",
       "      <th>28</th>\n",
       "      <td>79900.0</td>\n",
       "      <td>SC</td>\n",
       "      <td>2022</td>\n",
       "    </tr>\n",
       "    <tr>\n",
       "      <th>29</th>\n",
       "      <td>1650000.0</td>\n",
       "      <td>MN</td>\n",
       "      <td>2022</td>\n",
       "    </tr>\n",
       "    <tr>\n",
       "      <th>30</th>\n",
       "      <td>895000.0</td>\n",
       "      <td>VA</td>\n",
       "      <td>2022</td>\n",
       "    </tr>\n",
       "    <tr>\n",
       "      <th>31</th>\n",
       "      <td>657700.0</td>\n",
       "      <td>TX</td>\n",
       "      <td>2022</td>\n",
       "    </tr>\n",
       "    <tr>\n",
       "      <th>32</th>\n",
       "      <td>248000.0</td>\n",
       "      <td>OR</td>\n",
       "      <td>2022</td>\n",
       "    </tr>\n",
       "    <tr>\n",
       "      <th>33</th>\n",
       "      <td>815000.0</td>\n",
       "      <td>OR</td>\n",
       "      <td>2022</td>\n",
       "    </tr>\n",
       "    <tr>\n",
       "      <th>34</th>\n",
       "      <td>495000.0</td>\n",
       "      <td>AR</td>\n",
       "      <td>2022</td>\n",
       "    </tr>\n",
       "    <tr>\n",
       "      <th>35</th>\n",
       "      <td>106000.0</td>\n",
       "      <td>PA</td>\n",
       "      <td>2022</td>\n",
       "    </tr>\n",
       "    <tr>\n",
       "      <th>36</th>\n",
       "      <td>370000.0</td>\n",
       "      <td>KY</td>\n",
       "      <td>2022</td>\n",
       "    </tr>\n",
       "    <tr>\n",
       "      <th>37</th>\n",
       "      <td>184900.0</td>\n",
       "      <td>WI</td>\n",
       "      <td>2022</td>\n",
       "    </tr>\n",
       "  </tbody>\n",
       "</table>\n",
       "</div>"
      ],
      "text/plain": [
       "         Price State  Year\n",
       "0      40000.0    SC  2022\n",
       "1     415000.0    NY  2022\n",
       "2     240950.0    TX  2022\n",
       "3     466995.0    OR  2022\n",
       "4     489900.0    IL  2022\n",
       "5    1175000.0    MO  2022\n",
       "6    1299000.0    NY  2022\n",
       "7     484900.0    TN  2022\n",
       "8   10400000.0    MD  2022\n",
       "9     239900.0    DE  2022\n",
       "10   5800000.0    CA  2022\n",
       "11     15000.0    AL  2022\n",
       "12    139000.0    OH  2022\n",
       "13    950000.0    MA  2022\n",
       "14    324000.0    AL  2022\n",
       "15    599000.0    OH  2022\n",
       "16    150000.0    PA  2022\n",
       "17    225900.0    AL  2022\n",
       "18    465501.0    GA  2022\n",
       "19    580633.0    CO  2022\n",
       "20      5900.0    WI  2022\n",
       "21    995000.0    AZ  2022\n",
       "22    144900.0    KY  2022\n",
       "23    299000.0    TX  2022\n",
       "24    255000.0    AR  2022\n",
       "25    899000.0    CA  2022\n",
       "26    320000.0    PA  2022\n",
       "27     35000.0    MI  2022\n",
       "28     79900.0    SC  2022\n",
       "29   1650000.0    MN  2022\n",
       "30    895000.0    VA  2022\n",
       "31    657700.0    TX  2022\n",
       "32    248000.0    OR  2022\n",
       "33    815000.0    OR  2022\n",
       "34    495000.0    AR  2022\n",
       "35    106000.0    PA  2022\n",
       "36    370000.0    KY  2022\n",
       "37    184900.0    WI  2022"
      ]
     },
     "execution_count": 59,
     "metadata": {},
     "output_type": "execute_result"
    }
   ],
   "source": [
    "df1.reset_index(drop=True) #adjusting the indexes"
   ]
  },
  {
   "cell_type": "markdown",
   "id": "a6dc7c03",
   "metadata": {},
   "source": [
    "# Data Understanding/Visualization "
   ]
  },
  {
   "cell_type": "code",
   "execution_count": 60,
   "id": "716d594c",
   "metadata": {},
   "outputs": [
    {
     "name": "stdout",
     "output_type": "stream",
     "text": [
      "Requirement already satisfied: matplotlib in c:\\users\\devir\\anaconda3\\lib\\site-packages (3.5.1)\n",
      "Requirement already satisfied: cycler>=0.10 in c:\\users\\devir\\anaconda3\\lib\\site-packages (from matplotlib) (0.11.0)\n",
      "Requirement already satisfied: numpy>=1.17 in c:\\users\\devir\\anaconda3\\lib\\site-packages (from matplotlib) (1.21.5)\n",
      "Requirement already satisfied: pyparsing>=2.2.1 in c:\\users\\devir\\anaconda3\\lib\\site-packages (from matplotlib) (3.0.4)\n",
      "Requirement already satisfied: fonttools>=4.22.0 in c:\\users\\devir\\anaconda3\\lib\\site-packages (from matplotlib) (4.25.0)\n",
      "Requirement already satisfied: pillow>=6.2.0 in c:\\users\\devir\\anaconda3\\lib\\site-packages (from matplotlib) (9.0.1)\n",
      "Requirement already satisfied: packaging>=20.0 in c:\\users\\devir\\anaconda3\\lib\\site-packages (from matplotlib) (21.3)\n",
      "Requirement already satisfied: python-dateutil>=2.7 in c:\\users\\devir\\anaconda3\\lib\\site-packages (from matplotlib) (2.8.2)\n",
      "Requirement already satisfied: kiwisolver>=1.0.1 in c:\\users\\devir\\anaconda3\\lib\\site-packages (from matplotlib) (1.3.2)\n",
      "Requirement already satisfied: six>=1.5 in c:\\users\\devir\\anaconda3\\lib\\site-packages (from python-dateutil>=2.7->matplotlib) (1.16.0)\n"
     ]
    }
   ],
   "source": [
    "!pip install matplotlib"
   ]
  },
  {
   "cell_type": "code",
   "execution_count": 61,
   "id": "bc632864",
   "metadata": {},
   "outputs": [],
   "source": [
    "import numpy as np\n",
    "import seaborn as sns\n",
    "import matplotlib.pylab as plt"
   ]
  },
  {
   "cell_type": "code",
   "execution_count": 62,
   "id": "5e5a5d5b",
   "metadata": {},
   "outputs": [
    {
     "data": {
      "text/plain": [
       "Price    float64\n",
       "State     object\n",
       "Year       int64\n",
       "dtype: object"
      ]
     },
     "execution_count": 62,
     "metadata": {},
     "output_type": "execute_result"
    }
   ],
   "source": [
    "df[\"Year\"] = pd.to_numeric(df[\"Year\"])\n",
    "df.dtypes"
   ]
  },
  {
   "cell_type": "code",
   "execution_count": 63,
   "id": "7a7f54a6",
   "metadata": {},
   "outputs": [
    {
     "data": {
      "text/plain": [
       "Price     int32\n",
       "State    object\n",
       "Year      int64\n",
       "dtype: object"
      ]
     },
     "execution_count": 63,
     "metadata": {},
     "output_type": "execute_result"
    }
   ],
   "source": [
    "df[\"Price\"] = df[\"Price\"].astype('int')\n",
    "df.dtypes"
   ]
  },
  {
   "cell_type": "code",
   "execution_count": 64,
   "id": "77d588ba",
   "metadata": {},
   "outputs": [],
   "source": [
    "#filtering year column to only be from 2000-2022\n",
    "#https://www.statology.org/pandas-select-rows-based-on-column-values/ \n",
    "df = df.loc[df['Year'].isin([2000, 2001, 2003, 2004, 2005, 2006, \n",
    "                        2007, 2008, 2009, 2010, 2011, 2012, 2013, \n",
    "                        2014, 2015, 2016, 2017, 2018, 2019, 2020, \n",
    "                        2021, 2022])]"
   ]
  },
  {
   "cell_type": "code",
   "execution_count": 65,
   "id": "203993d4",
   "metadata": {
    "scrolled": false
   },
   "outputs": [
    {
     "data": {
      "text/plain": [
       "<seaborn.axisgrid.PairGrid at 0x1b00b88a760>"
      ]
     },
     "execution_count": 65,
     "metadata": {},
     "output_type": "execute_result"
    },
    {
     "data": {
      "image/png": "[encoded data removed]",
      "text/plain": [
       "<Figure size 360x360 with 6 Axes>"
      ]
     },
     "metadata": {
      "needs_background": "light"
     },
     "output_type": "display_data"
    }
   ],
   "source": [
    "sns.pairplot(data = df)"
   ]
  },
  {
   "cell_type": "code",
   "execution_count": 66,
   "id": "c5fa4e6a",
   "metadata": {},
   "outputs": [],
   "source": [
    "df_avg = df.groupby(by=\"State\")[\"Price\"].mean()#creating average prices for each year based on each state, dataset 1"
   ]
  },
  {
   "cell_type": "code",
   "execution_count": 67,
   "id": "21d83c74",
   "metadata": {},
   "outputs": [
    {
     "ename": "TypeError",
     "evalue": "Image data of dtype <U5 cannot be converted to float",
     "output_type": "error",
     "traceback": [
      "\u001b[1;31m---------------------------------------------------------------------------\u001b[0m",
      "\u001b[1;31mTypeError\u001b[0m                                 Traceback (most recent call last)",
      "Input \u001b[1;32mIn [67]\u001b[0m, in \u001b[0;36m<cell line: 3>\u001b[1;34m()\u001b[0m\n\u001b[0;32m      1\u001b[0m \u001b[38;5;66;03m#https://datavizpyr.com/heatmap-with-matplotlib-in-python/\u001b[39;00m\n\u001b[0;32m      2\u001b[0m fig, ax \u001b[38;5;241m=\u001b[39m plt\u001b[38;5;241m.\u001b[39msubplots( figsize\u001b[38;5;241m=\u001b[39m(\u001b[38;5;241m10\u001b[39m,\u001b[38;5;241m10\u001b[39m))\n\u001b[1;32m----> 3\u001b[0m im \u001b[38;5;241m=\u001b[39m \u001b[43max\u001b[49m\u001b[38;5;241;43m.\u001b[39;49m\u001b[43mimshow\u001b[49m\u001b[43m(\u001b[49m\u001b[38;5;124;43m\"\u001b[39;49m\u001b[38;5;124;43mPrice\u001b[39;49m\u001b[38;5;124;43m\"\u001b[39;49m\u001b[43m)\u001b[49m\n\u001b[0;32m      4\u001b[0m cbar \u001b[38;5;241m=\u001b[39m ax\u001b[38;5;241m.\u001b[39mfigure\u001b[38;5;241m.\u001b[39mcolorbar(im, \n\u001b[0;32m      5\u001b[0m                           ax \u001b[38;5;241m=\u001b[39m ax,\n\u001b[0;32m      6\u001b[0m                           shrink\u001b[38;5;241m=\u001b[39m\u001b[38;5;241m0.5\u001b[39m )\n\u001b[0;32m      7\u001b[0m \u001b[38;5;66;03m# add x axis and y axis labels\u001b[39;00m\n",
      "File \u001b[1;32m~\\anaconda3\\lib\\site-packages\\matplotlib\\_api\\deprecation.py:456\u001b[0m, in \u001b[0;36mmake_keyword_only.<locals>.wrapper\u001b[1;34m(*args, **kwargs)\u001b[0m\n\u001b[0;32m    450\u001b[0m \u001b[38;5;28;01mif\u001b[39;00m \u001b[38;5;28mlen\u001b[39m(args) \u001b[38;5;241m>\u001b[39m name_idx:\n\u001b[0;32m    451\u001b[0m     warn_deprecated(\n\u001b[0;32m    452\u001b[0m         since, message\u001b[38;5;241m=\u001b[39m\u001b[38;5;124m\"\u001b[39m\u001b[38;5;124mPassing the \u001b[39m\u001b[38;5;132;01m%(name)s\u001b[39;00m\u001b[38;5;124m \u001b[39m\u001b[38;5;132;01m%(obj_type)s\u001b[39;00m\u001b[38;5;124m \u001b[39m\u001b[38;5;124m\"\u001b[39m\n\u001b[0;32m    453\u001b[0m         \u001b[38;5;124m\"\u001b[39m\u001b[38;5;124mpositionally is deprecated since Matplotlib \u001b[39m\u001b[38;5;132;01m%(since)s\u001b[39;00m\u001b[38;5;124m; the \u001b[39m\u001b[38;5;124m\"\u001b[39m\n\u001b[0;32m    454\u001b[0m         \u001b[38;5;124m\"\u001b[39m\u001b[38;5;124mparameter will become keyword-only \u001b[39m\u001b[38;5;132;01m%(removal)s\u001b[39;00m\u001b[38;5;124m.\u001b[39m\u001b[38;5;124m\"\u001b[39m,\n\u001b[0;32m    455\u001b[0m         name\u001b[38;5;241m=\u001b[39mname, obj_type\u001b[38;5;241m=\u001b[39m\u001b[38;5;124mf\u001b[39m\u001b[38;5;124m\"\u001b[39m\u001b[38;5;124mparameter of \u001b[39m\u001b[38;5;132;01m{\u001b[39;00mfunc\u001b[38;5;241m.\u001b[39m\u001b[38;5;18m__name__\u001b[39m\u001b[38;5;132;01m}\u001b[39;00m\u001b[38;5;124m()\u001b[39m\u001b[38;5;124m\"\u001b[39m)\n\u001b[1;32m--> 456\u001b[0m \u001b[38;5;28;01mreturn\u001b[39;00m func(\u001b[38;5;241m*\u001b[39margs, \u001b[38;5;241m*\u001b[39m\u001b[38;5;241m*\u001b[39mkwargs)\n",
      "File \u001b[1;32m~\\anaconda3\\lib\\site-packages\\matplotlib\\__init__.py:1412\u001b[0m, in \u001b[0;36m_preprocess_data.<locals>.inner\u001b[1;34m(ax, data, *args, **kwargs)\u001b[0m\n\u001b[0;32m   1409\u001b[0m \u001b[38;5;129m@functools\u001b[39m\u001b[38;5;241m.\u001b[39mwraps(func)\n\u001b[0;32m   1410\u001b[0m \u001b[38;5;28;01mdef\u001b[39;00m \u001b[38;5;21minner\u001b[39m(ax, \u001b[38;5;241m*\u001b[39margs, data\u001b[38;5;241m=\u001b[39m\u001b[38;5;28;01mNone\u001b[39;00m, \u001b[38;5;241m*\u001b[39m\u001b[38;5;241m*\u001b[39mkwargs):\n\u001b[0;32m   1411\u001b[0m     \u001b[38;5;28;01mif\u001b[39;00m data \u001b[38;5;129;01mis\u001b[39;00m \u001b[38;5;28;01mNone\u001b[39;00m:\n\u001b[1;32m-> 1412\u001b[0m         \u001b[38;5;28;01mreturn\u001b[39;00m func(ax, \u001b[38;5;241m*\u001b[39m\u001b[38;5;28mmap\u001b[39m(sanitize_sequence, args), \u001b[38;5;241m*\u001b[39m\u001b[38;5;241m*\u001b[39mkwargs)\n\u001b[0;32m   1414\u001b[0m     bound \u001b[38;5;241m=\u001b[39m new_sig\u001b[38;5;241m.\u001b[39mbind(ax, \u001b[38;5;241m*\u001b[39margs, \u001b[38;5;241m*\u001b[39m\u001b[38;5;241m*\u001b[39mkwargs)\n\u001b[0;32m   1415\u001b[0m     auto_label \u001b[38;5;241m=\u001b[39m (bound\u001b[38;5;241m.\u001b[39marguments\u001b[38;5;241m.\u001b[39mget(label_namer)\n\u001b[0;32m   1416\u001b[0m                   \u001b[38;5;129;01mor\u001b[39;00m bound\u001b[38;5;241m.\u001b[39mkwargs\u001b[38;5;241m.\u001b[39mget(label_namer))\n",
      "File \u001b[1;32m~\\anaconda3\\lib\\site-packages\\matplotlib\\axes\\_axes.py:5488\u001b[0m, in \u001b[0;36mAxes.imshow\u001b[1;34m(self, X, cmap, norm, aspect, interpolation, alpha, vmin, vmax, origin, extent, interpolation_stage, filternorm, filterrad, resample, url, **kwargs)\u001b[0m\n\u001b[0;32m   5481\u001b[0m \u001b[38;5;28mself\u001b[39m\u001b[38;5;241m.\u001b[39mset_aspect(aspect)\n\u001b[0;32m   5482\u001b[0m im \u001b[38;5;241m=\u001b[39m mimage\u001b[38;5;241m.\u001b[39mAxesImage(\u001b[38;5;28mself\u001b[39m, cmap, norm, interpolation,\n\u001b[0;32m   5483\u001b[0m                       origin, extent, filternorm\u001b[38;5;241m=\u001b[39mfilternorm,\n\u001b[0;32m   5484\u001b[0m                       filterrad\u001b[38;5;241m=\u001b[39mfilterrad, resample\u001b[38;5;241m=\u001b[39mresample,\n\u001b[0;32m   5485\u001b[0m                       interpolation_stage\u001b[38;5;241m=\u001b[39minterpolation_stage,\n\u001b[0;32m   5486\u001b[0m                       \u001b[38;5;241m*\u001b[39m\u001b[38;5;241m*\u001b[39mkwargs)\n\u001b[1;32m-> 5488\u001b[0m \u001b[43mim\u001b[49m\u001b[38;5;241;43m.\u001b[39;49m\u001b[43mset_data\u001b[49m\u001b[43m(\u001b[49m\u001b[43mX\u001b[49m\u001b[43m)\u001b[49m\n\u001b[0;32m   5489\u001b[0m im\u001b[38;5;241m.\u001b[39mset_alpha(alpha)\n\u001b[0;32m   5490\u001b[0m \u001b[38;5;28;01mif\u001b[39;00m im\u001b[38;5;241m.\u001b[39mget_clip_path() \u001b[38;5;129;01mis\u001b[39;00m \u001b[38;5;28;01mNone\u001b[39;00m:\n\u001b[0;32m   5491\u001b[0m     \u001b[38;5;66;03m# image does not already have clipping set, clip to axes patch\u001b[39;00m\n",
      "File \u001b[1;32m~\\anaconda3\\lib\\site-packages\\matplotlib\\image.py:706\u001b[0m, in \u001b[0;36m_ImageBase.set_data\u001b[1;34m(self, A)\u001b[0m\n\u001b[0;32m    702\u001b[0m \u001b[38;5;28mself\u001b[39m\u001b[38;5;241m.\u001b[39m_A \u001b[38;5;241m=\u001b[39m cbook\u001b[38;5;241m.\u001b[39msafe_masked_invalid(A, copy\u001b[38;5;241m=\u001b[39m\u001b[38;5;28;01mTrue\u001b[39;00m)\n\u001b[0;32m    704\u001b[0m \u001b[38;5;28;01mif\u001b[39;00m (\u001b[38;5;28mself\u001b[39m\u001b[38;5;241m.\u001b[39m_A\u001b[38;5;241m.\u001b[39mdtype \u001b[38;5;241m!=\u001b[39m np\u001b[38;5;241m.\u001b[39muint8 \u001b[38;5;129;01mand\u001b[39;00m\n\u001b[0;32m    705\u001b[0m         \u001b[38;5;129;01mnot\u001b[39;00m np\u001b[38;5;241m.\u001b[39mcan_cast(\u001b[38;5;28mself\u001b[39m\u001b[38;5;241m.\u001b[39m_A\u001b[38;5;241m.\u001b[39mdtype, \u001b[38;5;28mfloat\u001b[39m, \u001b[38;5;124m\"\u001b[39m\u001b[38;5;124msame_kind\u001b[39m\u001b[38;5;124m\"\u001b[39m)):\n\u001b[1;32m--> 706\u001b[0m     \u001b[38;5;28;01mraise\u001b[39;00m \u001b[38;5;167;01mTypeError\u001b[39;00m(\u001b[38;5;124m\"\u001b[39m\u001b[38;5;124mImage data of dtype \u001b[39m\u001b[38;5;132;01m{}\u001b[39;00m\u001b[38;5;124m cannot be converted to \u001b[39m\u001b[38;5;124m\"\u001b[39m\n\u001b[0;32m    707\u001b[0m                     \u001b[38;5;124m\"\u001b[39m\u001b[38;5;124mfloat\u001b[39m\u001b[38;5;124m\"\u001b[39m\u001b[38;5;241m.\u001b[39mformat(\u001b[38;5;28mself\u001b[39m\u001b[38;5;241m.\u001b[39m_A\u001b[38;5;241m.\u001b[39mdtype))\n\u001b[0;32m    709\u001b[0m \u001b[38;5;28;01mif\u001b[39;00m \u001b[38;5;28mself\u001b[39m\u001b[38;5;241m.\u001b[39m_A\u001b[38;5;241m.\u001b[39mndim \u001b[38;5;241m==\u001b[39m \u001b[38;5;241m3\u001b[39m \u001b[38;5;129;01mand\u001b[39;00m \u001b[38;5;28mself\u001b[39m\u001b[38;5;241m.\u001b[39m_A\u001b[38;5;241m.\u001b[39mshape[\u001b[38;5;241m-\u001b[39m\u001b[38;5;241m1\u001b[39m] \u001b[38;5;241m==\u001b[39m \u001b[38;5;241m1\u001b[39m:\n\u001b[0;32m    710\u001b[0m     \u001b[38;5;66;03m# If just one dimension assume scalar and apply colormap\u001b[39;00m\n\u001b[0;32m    711\u001b[0m     \u001b[38;5;28mself\u001b[39m\u001b[38;5;241m.\u001b[39m_A \u001b[38;5;241m=\u001b[39m \u001b[38;5;28mself\u001b[39m\u001b[38;5;241m.\u001b[39m_A[:, :, \u001b[38;5;241m0\u001b[39m]\n",
      "\u001b[1;31mTypeError\u001b[0m: Image data of dtype <U5 cannot be converted to float"
     ]
    },
    {
     "data": {
      "image/png": "[encoded data removed]",
      "text/plain": [
       "<Figure size 720x720 with 1 Axes>"
      ]
     },
     "metadata": {
      "needs_background": "light"
     },
     "output_type": "display_data"
    }
   ],
   "source": [
    "#https://datavizpyr.com/heatmap-with-matplotlib-in-python/\n",
    "fig, ax = plt.subplots( figsize=(10,10))\n",
    "im = ax.imshow(\"Price\")\n",
    "cbar = ax.figure.colorbar(im, \n",
    "                          ax = ax,\n",
    "                          shrink=0.5 )\n",
    "# add x axis and y axis labels\n",
    "ax.set_xticks(np.arange(len(\"Years\")), \n",
    "              labels= \"Years\", \n",
    "              size=12)\n",
    "ax.set_yticks(np.arange(len(\"States\")),\n",
    "              labels= \"States\",size=12)\n",
    "# Rotate the labels to be more legible\n",
    "plt.setp(ax.get_xticklabels(),\n",
    "         rotation = 45,\n",
    "         ha = \"right\",\n",
    "         rotation_mode = \"anchor\")\n",
    "ax.set_title(\"House Prices Through the Years 2000-2022\", size=20)\n",
    "fig.tight_layout()"
   ]
  },
  {
   "cell_type": "code",
   "execution_count": 73,
   "id": "ce5828f6",
   "metadata": {},
   "outputs": [
    {
     "data": {
      "text/plain": [
       "<AxesSubplot:xlabel='State'>"
      ]
     },
     "execution_count": 73,
     "metadata": {},
     "output_type": "execute_result"
    },
    {
     "data": {
      "image/png": "[encoded data removed]",
      "text/plain": [
       "<Figure size 432x288 with 1 Axes>"
      ]
     },
     "metadata": {
      "needs_background": "light"
     },
     "output_type": "display_data"
    }
   ],
   "source": [
    "df1.plot(\"State\", \"Price\") #year = 2022"
   ]
  },
  {
   "cell_type": "markdown",
   "id": "898bd38f",
   "metadata": {},
   "source": [
    "Doumentation of Process:"
   ]
  },
  {
   "cell_type": "code",
   "execution_count": null,
   "id": "a699111c",
   "metadata": {},
   "outputs": [],
   "source": []
  },
  {
   "cell_type": "code",
   "execution_count": null,
   "id": "261dcfe4",
   "metadata": {},
   "outputs": [],
   "source": []
  },
  {
   "cell_type": "code",
   "execution_count": null,
   "id": "9e305820",
   "metadata": {},
   "outputs": [],
   "source": []
  }
 ],
 "metadata": {
  "kernelspec": {
   "display_name": "Python 3 (ipykernel)",
   "language": "python",
   "name": "python3"
  },
  "language_info": {
   "codemirror_mode": {
    "name": "ipython",
    "version": 3
   },
   "file_extension": ".py",
   "mimetype": "text/x-python",
   "name": "python",
   "nbconvert_exporter": "python",
   "pygments_lexer": "ipython3",
   "version": "3.9.12"
  }
 },
 "nbformat": 4,
 "nbformat_minor": 5
}
