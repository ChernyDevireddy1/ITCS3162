{
 "cells": [
  {
   "cell_type": "markdown",
   "id": "bf0f5030",
   "metadata": {},
   "source": [
    "# Project 3: Regression"
   ]
  },
  {
   "cell_type": "markdown",
   "id": "32dc2682",
   "metadata": {},
   "source": [
    "Importing Libraries "
   ]
  },
  {
   "cell_type": "code",
   "execution_count": 1,
   "id": "139d99d3",
   "metadata": {},
   "outputs": [
    {
     "name": "stdout",
     "output_type": "stream",
     "text": [
      "Requirement already satisfied: pandas in c:\\users\\devir\\anaconda3\\lib\\site-packages (1.4.2)\n",
      "Requirement already satisfied: pytz>=2020.1 in c:\\users\\devir\\anaconda3\\lib\\site-packages (from pandas) (2021.3)\n",
      "Requirement already satisfied: python-dateutil>=2.8.1 in c:\\users\\devir\\anaconda3\\lib\\site-packages (from pandas) (2.8.2)\n",
      "Requirement already satisfied: numpy>=1.18.5 in c:\\users\\devir\\anaconda3\\lib\\site-packages (from pandas) (1.21.5)\n",
      "Requirement already satisfied: six>=1.5 in c:\\users\\devir\\anaconda3\\lib\\site-packages (from python-dateutil>=2.8.1->pandas) (1.16.0)\n"
     ]
    }
   ],
   "source": [
    "!pip install pandas"
   ]
  },
  {
   "cell_type": "code",
   "execution_count": 2,
   "id": "6c35e287",
   "metadata": {},
   "outputs": [],
   "source": [
    "import numpy as np\n",
    "import pandas as pd\n",
    "import seaborn as sns\n",
    "import matplotlib.pyplot as plt\n",
    "\n",
    "from sklearn.model_selection import train_test_split\n",
    "\n",
    "from sklearn.linear_model import LinearRegression\n",
    "\n",
    "from sklearn.metrics import mean_absolute_error\n",
    "from sklearn.metrics import mean_squared_error\n",
    "from sklearn.metrics import r2_score"
   ]
  },
  {
   "cell_type": "markdown",
   "id": "658f9d61",
   "metadata": {},
   "source": [
    "Reading and Describing Data"
   ]
  },
  {
   "cell_type": "code",
   "execution_count": 3,
   "id": "005d60a6",
   "metadata": {},
   "outputs": [],
   "source": [
    "df = pd.read_csv(\"realtor-data.csv\") "
   ]
  },
  {
   "cell_type": "code",
   "execution_count": 4,
   "id": "0bfdd003",
   "metadata": {},
   "outputs": [
    {
     "data": {
      "text/plain": [
       "Index(['status', 'price', 'bed', 'bath', 'acre_lot', 'full_address', 'street',\n",
       "       'city', 'state', 'zip_code', 'house_size', 'sold_date'],\n",
       "      dtype='object')"
      ]
     },
     "execution_count": 4,
     "metadata": {},
     "output_type": "execute_result"
    }
   ],
   "source": [
    "df.columns"
   ]
  },
  {
   "cell_type": "code",
   "execution_count": 5,
   "id": "6fadfb99",
   "metadata": {},
   "outputs": [
    {
     "data": {
      "text/plain": [
       "(923159, 12)"
      ]
     },
     "execution_count": 5,
     "metadata": {},
     "output_type": "execute_result"
    }
   ],
   "source": [
    "df.shape"
   ]
  },
  {
   "cell_type": "code",
   "execution_count": 6,
   "id": "7a7d2e31",
   "metadata": {},
   "outputs": [
    {
     "data": {
      "text/plain": [
       "status               0\n",
       "price               71\n",
       "bed             131703\n",
       "bath            115192\n",
       "acre_lot        273623\n",
       "full_address         0\n",
       "street            2138\n",
       "city                74\n",
       "state                0\n",
       "zip_code           205\n",
       "house_size      297843\n",
       "sold_date       466763\n",
       "dtype: int64"
      ]
     },
     "execution_count": 6,
     "metadata": {},
     "output_type": "execute_result"
    }
   ],
   "source": [
    "df.isnull().sum()"
   ]
  },
  {
   "cell_type": "code",
   "execution_count": 7,
   "id": "8cbe4881",
   "metadata": {},
   "outputs": [],
   "source": [
    "df = df.dropna() #dropped rows that have a null value "
   ]
  },
  {
   "cell_type": "code",
   "execution_count": 8,
   "id": "4483daf4",
   "metadata": {},
   "outputs": [
    {
     "data": {
      "text/plain": [
       "status          0\n",
       "price           0\n",
       "bed             0\n",
       "bath            0\n",
       "acre_lot        0\n",
       "full_address    0\n",
       "street          0\n",
       "city            0\n",
       "state           0\n",
       "zip_code        0\n",
       "house_size      0\n",
       "sold_date       0\n",
       "dtype: int64"
      ]
     },
     "execution_count": 8,
     "metadata": {},
     "output_type": "execute_result"
    }
   ],
   "source": [
    "df.isnull().sum()"
   ]
  },
  {
   "cell_type": "code",
   "execution_count": 9,
   "id": "765e4cb5",
   "metadata": {},
   "outputs": [],
   "source": [
    "#only keeping price, state/region, and sold_date\n",
    "df.drop(\"status\", axis = 1, inplace=True)\n",
    "df.drop(\"full_address\", axis = 1, inplace=True)\n",
    "df.drop(\"bed\", axis = 1, inplace=True)\n",
    "df.drop(\"bath\", axis = 1, inplace=True)\n",
    "df.drop(\"street\", axis = 1, inplace=True)\n",
    "df.drop(\"city\", axis = 1, inplace=True)\n",
    "df.drop(\"zip_code\", axis = 1, inplace=True)\n",
    "df.drop(\"acre_lot\", axis = 1, inplace=True)\n",
    "df.drop(\"house_size\", axis = 1, inplace=True)"
   ]
  },
  {
   "cell_type": "code",
   "execution_count": 10,
   "id": "986b137c",
   "metadata": {},
   "outputs": [
    {
     "data": {
      "text/plain": [
       "Index(['price', 'state', 'sold_date'], dtype='object')"
      ]
     },
     "execution_count": 10,
     "metadata": {},
     "output_type": "execute_result"
    }
   ],
   "source": [
    "df.columns"
   ]
  },
  {
   "cell_type": "code",
   "execution_count": 11,
   "id": "9c336488",
   "metadata": {},
   "outputs": [],
   "source": [
    "#Renaming columns \n",
    "df.rename(columns = {'price':'Price', \n",
    "                     'state':'State',\n",
    "                     'sold_date': 'Year'}, \n",
    "          inplace = True)"
   ]
  },
  {
   "cell_type": "code",
   "execution_count": 12,
   "id": "b115b002",
   "metadata": {},
   "outputs": [
    {
     "data": {
      "text/plain": [
       "Price    float64\n",
       "State     object\n",
       "Year      object\n",
       "dtype: object"
      ]
     },
     "execution_count": 12,
     "metadata": {},
     "output_type": "execute_result"
    }
   ],
   "source": [
    "df.dtypes"
   ]
  },
  {
   "cell_type": "code",
   "execution_count": 13,
   "id": "0742d20a",
   "metadata": {},
   "outputs": [
    {
     "data": {
      "text/plain": [
       "Price           float64\n",
       "State            object\n",
       "Year     datetime64[ns]\n",
       "dtype: object"
      ]
     },
     "execution_count": 13,
     "metadata": {},
     "output_type": "execute_result"
    }
   ],
   "source": [
    "#converting date sold object to date\n",
    "from datetime import datetime\n",
    "df['Year'] = pd.to_datetime(df['Year']) \n",
    "df.dtypes"
   ]
  },
  {
   "cell_type": "code",
   "execution_count": 14,
   "id": "d249ba27",
   "metadata": {},
   "outputs": [
    {
     "data": {
      "text/html": [
       "<div>\n",
       "<style scoped>\n",
       "    .dataframe tbody tr th:only-of-type {\n",
       "        vertical-align: middle;\n",
       "    }\n",
       "\n",
       "    .dataframe tbody tr th {\n",
       "        vertical-align: top;\n",
       "    }\n",
       "\n",
       "    .dataframe thead th {\n",
       "        text-align: right;\n",
       "    }\n",
       "</style>\n",
       "<table border=\"1\" class=\"dataframe\">\n",
       "  <thead>\n",
       "    <tr style=\"text-align: right;\">\n",
       "      <th></th>\n",
       "      <th>Price</th>\n",
       "      <th>State</th>\n",
       "      <th>Year</th>\n",
       "    </tr>\n",
       "  </thead>\n",
       "  <tbody>\n",
       "    <tr>\n",
       "      <th>829</th>\n",
       "      <td>110000.0</td>\n",
       "      <td>Puerto Rico</td>\n",
       "      <td>2019</td>\n",
       "    </tr>\n",
       "    <tr>\n",
       "      <th>3380</th>\n",
       "      <td>110000.0</td>\n",
       "      <td>Puerto Rico</td>\n",
       "      <td>2019</td>\n",
       "    </tr>\n",
       "    <tr>\n",
       "      <th>5083</th>\n",
       "      <td>110000.0</td>\n",
       "      <td>Puerto Rico</td>\n",
       "      <td>2019</td>\n",
       "    </tr>\n",
       "    <tr>\n",
       "      <th>5387</th>\n",
       "      <td>110000.0</td>\n",
       "      <td>Puerto Rico</td>\n",
       "      <td>2019</td>\n",
       "    </tr>\n",
       "    <tr>\n",
       "      <th>9053</th>\n",
       "      <td>110000.0</td>\n",
       "      <td>Puerto Rico</td>\n",
       "      <td>2019</td>\n",
       "    </tr>\n",
       "  </tbody>\n",
       "</table>\n",
       "</div>"
      ],
      "text/plain": [
       "         Price        State  Year\n",
       "829   110000.0  Puerto Rico  2019\n",
       "3380  110000.0  Puerto Rico  2019\n",
       "5083  110000.0  Puerto Rico  2019\n",
       "5387  110000.0  Puerto Rico  2019\n",
       "9053  110000.0  Puerto Rico  2019"
      ]
     },
     "execution_count": 14,
     "metadata": {},
     "output_type": "execute_result"
    }
   ],
   "source": [
    "#changing date sold to m-d-y format and only getting the year\n",
    "df[\"Year\"] = df[\"Year\"].dt.year \n",
    "df.head()"
   ]
  },
  {
   "cell_type": "code",
   "execution_count": 15,
   "id": "13a0f20f",
   "metadata": {},
   "outputs": [
    {
     "data": {
      "text/html": [
       "<div>\n",
       "<style scoped>\n",
       "    .dataframe tbody tr th:only-of-type {\n",
       "        vertical-align: middle;\n",
       "    }\n",
       "\n",
       "    .dataframe tbody tr th {\n",
       "        vertical-align: top;\n",
       "    }\n",
       "\n",
       "    .dataframe thead th {\n",
       "        text-align: right;\n",
       "    }\n",
       "</style>\n",
       "<table border=\"1\" class=\"dataframe\">\n",
       "  <thead>\n",
       "    <tr style=\"text-align: right;\">\n",
       "      <th></th>\n",
       "      <th>Price</th>\n",
       "      <th>State</th>\n",
       "      <th>Year</th>\n",
       "    </tr>\n",
       "  </thead>\n",
       "  <tbody>\n",
       "    <tr>\n",
       "      <th>24237</th>\n",
       "      <td>525000.0</td>\n",
       "      <td>Massachusetts</td>\n",
       "      <td>2014</td>\n",
       "    </tr>\n",
       "    <tr>\n",
       "      <th>24238</th>\n",
       "      <td>289900.0</td>\n",
       "      <td>Massachusetts</td>\n",
       "      <td>2012</td>\n",
       "    </tr>\n",
       "    <tr>\n",
       "      <th>24244</th>\n",
       "      <td>384900.0</td>\n",
       "      <td>Massachusetts</td>\n",
       "      <td>1986</td>\n",
       "    </tr>\n",
       "    <tr>\n",
       "      <th>24251</th>\n",
       "      <td>199999.0</td>\n",
       "      <td>Massachusetts</td>\n",
       "      <td>2008</td>\n",
       "    </tr>\n",
       "    <tr>\n",
       "      <th>24258</th>\n",
       "      <td>419000.0</td>\n",
       "      <td>Massachusetts</td>\n",
       "      <td>2005</td>\n",
       "    </tr>\n",
       "  </tbody>\n",
       "</table>\n",
       "</div>"
      ],
      "text/plain": [
       "          Price          State  Year\n",
       "24237  525000.0  Massachusetts  2014\n",
       "24238  289900.0  Massachusetts  2012\n",
       "24244  384900.0  Massachusetts  1986\n",
       "24251  199999.0  Massachusetts  2008\n",
       "24258  419000.0  Massachusetts  2005"
      ]
     },
     "execution_count": 15,
     "metadata": {},
     "output_type": "execute_result"
    }
   ],
   "source": [
    "#removing rows with states outside of the USA\n",
    "df = df[df.State != \"Puerto Rico\"]\n",
    "df = df[df.State != \"Virgin Islands\"]\n",
    "df.head()"
   ]
  },
  {
   "cell_type": "code",
   "execution_count": 16,
   "id": "0e095c47",
   "metadata": {},
   "outputs": [
    {
     "data": {
      "text/html": [
       "<div>\n",
       "<style scoped>\n",
       "    .dataframe tbody tr th:only-of-type {\n",
       "        vertical-align: middle;\n",
       "    }\n",
       "\n",
       "    .dataframe tbody tr th {\n",
       "        vertical-align: top;\n",
       "    }\n",
       "\n",
       "    .dataframe thead th {\n",
       "        text-align: right;\n",
       "    }\n",
       "</style>\n",
       "<table border=\"1\" class=\"dataframe\">\n",
       "  <thead>\n",
       "    <tr style=\"text-align: right;\">\n",
       "      <th></th>\n",
       "      <th>Price</th>\n",
       "      <th>State</th>\n",
       "      <th>Year</th>\n",
       "    </tr>\n",
       "  </thead>\n",
       "  <tbody>\n",
       "    <tr>\n",
       "      <th>0</th>\n",
       "      <td>525000.0</td>\n",
       "      <td>Massachusetts</td>\n",
       "      <td>2014</td>\n",
       "    </tr>\n",
       "    <tr>\n",
       "      <th>1</th>\n",
       "      <td>289900.0</td>\n",
       "      <td>Massachusetts</td>\n",
       "      <td>2012</td>\n",
       "    </tr>\n",
       "    <tr>\n",
       "      <th>2</th>\n",
       "      <td>384900.0</td>\n",
       "      <td>Massachusetts</td>\n",
       "      <td>1986</td>\n",
       "    </tr>\n",
       "    <tr>\n",
       "      <th>3</th>\n",
       "      <td>199999.0</td>\n",
       "      <td>Massachusetts</td>\n",
       "      <td>2008</td>\n",
       "    </tr>\n",
       "    <tr>\n",
       "      <th>4</th>\n",
       "      <td>419000.0</td>\n",
       "      <td>Massachusetts</td>\n",
       "      <td>2005</td>\n",
       "    </tr>\n",
       "    <tr>\n",
       "      <th>...</th>\n",
       "      <td>...</td>\n",
       "      <td>...</td>\n",
       "      <td>...</td>\n",
       "    </tr>\n",
       "    <tr>\n",
       "      <th>231956</th>\n",
       "      <td>589999.0</td>\n",
       "      <td>New York</td>\n",
       "      <td>2003</td>\n",
       "    </tr>\n",
       "    <tr>\n",
       "      <th>231957</th>\n",
       "      <td>825000.0</td>\n",
       "      <td>New York</td>\n",
       "      <td>1998</td>\n",
       "    </tr>\n",
       "    <tr>\n",
       "      <th>231958</th>\n",
       "      <td>445000.0</td>\n",
       "      <td>New York</td>\n",
       "      <td>2011</td>\n",
       "    </tr>\n",
       "    <tr>\n",
       "      <th>231959</th>\n",
       "      <td>418000.0</td>\n",
       "      <td>New York</td>\n",
       "      <td>2015</td>\n",
       "    </tr>\n",
       "    <tr>\n",
       "      <th>231960</th>\n",
       "      <td>825000.0</td>\n",
       "      <td>New York</td>\n",
       "      <td>2010</td>\n",
       "    </tr>\n",
       "  </tbody>\n",
       "</table>\n",
       "<p>231961 rows × 3 columns</p>\n",
       "</div>"
      ],
      "text/plain": [
       "           Price          State  Year\n",
       "0       525000.0  Massachusetts  2014\n",
       "1       289900.0  Massachusetts  2012\n",
       "2       384900.0  Massachusetts  1986\n",
       "3       199999.0  Massachusetts  2008\n",
       "4       419000.0  Massachusetts  2005\n",
       "...          ...            ...   ...\n",
       "231956  589999.0       New York  2003\n",
       "231957  825000.0       New York  1998\n",
       "231958  445000.0       New York  2011\n",
       "231959  418000.0       New York  2015\n",
       "231960  825000.0       New York  2010\n",
       "\n",
       "[231961 rows x 3 columns]"
      ]
     },
     "execution_count": 16,
     "metadata": {},
     "output_type": "execute_result"
    }
   ],
   "source": [
    "df.reset_index(drop=True) #adjusting the indexes"
   ]
  },
  {
   "cell_type": "markdown",
   "id": "dddde68d",
   "metadata": {},
   "source": [
    "Data-Understanding"
   ]
  },
  {
   "cell_type": "code",
   "execution_count": 17,
   "id": "8f116f46",
   "metadata": {},
   "outputs": [
    {
     "data": {
      "text/plain": [
       "Price     int32\n",
       "State    object\n",
       "Year      int64\n",
       "dtype: object"
      ]
     },
     "execution_count": 17,
     "metadata": {},
     "output_type": "execute_result"
    }
   ],
   "source": [
    "#changing datatypes to visualize\n",
    "df[\"Year\"] = pd.to_numeric(df[\"Year\"])\n",
    "df[\"Price\"] = df[\"Price\"].astype('int')\n",
    "df.dtypes"
   ]
  },
  {
   "cell_type": "code",
   "execution_count": 18,
   "id": "cc527f0a",
   "metadata": {},
   "outputs": [],
   "source": [
    "#filtering year column to only be from 2000-2022 except 2002 becuase of outlier\n",
    "df = df.loc[df['Year'].isin([2000, 2001, 2003, 2004, 2005, 2006, \n",
    "                        2007, 2008, 2009, 2010, 2011, 2012, 2013, \n",
    "                        2014, 2015, 2016, 2017, 2018, 2019, 2020, \n",
    "                        2021, 2022])]"
   ]
  },
  {
   "cell_type": "code",
   "execution_count": 19,
   "id": "1ce72efb",
   "metadata": {},
   "outputs": [
    {
     "data": {
      "text/plain": [
       "<seaborn.axisgrid.PairGrid at 0x25348994250>"
      ]
     },
     "execution_count": 19,
     "metadata": {},
     "output_type": "execute_result"
    },
    {
     "data": {
      "image/png": "[encoded data removed]",
      "text/plain": [
       "<Figure size 360x360 with 6 Axes>"
      ]
     },
     "metadata": {
      "needs_background": "light"
     },
     "output_type": "display_data"
    }
   ],
   "source": [
    "sns.pairplot(data = df)"
   ]
  },
  {
   "cell_type": "code",
   "execution_count": 20,
   "id": "1ebf4515",
   "metadata": {},
   "outputs": [
    {
     "data": {
      "text/plain": [
       "array(['Massachusetts', 'Connecticut', 'New Hampshire', 'Vermont',\n",
       "       'New York', 'Rhode Island', 'Maine', 'New Jersey', 'Pennsylvania',\n",
       "       'Delaware'], dtype=object)"
      ]
     },
     "execution_count": 20,
     "metadata": {},
     "output_type": "execute_result"
    }
   ],
   "source": [
    "#getting diff states\n",
    "df.State.unique()"
   ]
  },
  {
   "cell_type": "code",
   "execution_count": 21,
   "id": "db8d335e",
   "metadata": {},
   "outputs": [
    {
     "data": {
      "image/png": "[encoded data removed]",
      "text/plain": [
       "<Figure size 864x360 with 2 Axes>"
      ]
     },
     "metadata": {
      "needs_background": "light"
     },
     "output_type": "display_data"
    },
    {
     "data": {
      "image/png": "[encoded data removed]",
      "text/plain": [
       "<Figure size 864x360 with 2 Axes>"
      ]
     },
     "metadata": {
      "needs_background": "light"
     },
     "output_type": "display_data"
    }
   ],
   "source": [
    "#looking at different states and their prices over the years to see trends \n",
    "fig, (ax1, ax2) = plt.subplots(1, 2, figsize = (12,5))\n",
    "ax1.plot(df[df[\"State\"] == \"Massachusetts\"].groupby(by= \"Year\")[\"Price\"].mean())\n",
    "ax1.set_title(\"Massachusetts mean house prices\")\n",
    "ax2.plot(df[df[\"State\"] == \"Pennsylvania\"].groupby(by= \"Year\")[\"Price\"].mean())\n",
    "ax2.set_title(\"Pennsylvania mean house prices\")\n",
    "fig, (ax3, ax4) = plt.subplots(1, 2, figsize = (12,5))\n",
    "\n",
    "ax3.plot(df[df[\"State\"] == \"Vermont\"].groupby(by= \"Year\")[\"Price\"].mean())\n",
    "ax3.set_title(\"Vermont mean house prices\")\n",
    "ax4.plot(df[df[\"State\"] == \"Delaware\"].groupby(by= \"Year\")[\"Price\"].mean())\n",
    "ax4.set_title(\"Delaware mean house prices\")\n",
    "\n",
    "plt.show()"
   ]
  },
  {
   "cell_type": "code",
   "execution_count": 22,
   "id": "4fe2bd8c",
   "metadata": {},
   "outputs": [
    {
     "data": {
      "text/plain": [
       "[<matplotlib.lines.Line2D at 0x25344491490>]"
      ]
     },
     "execution_count": 22,
     "metadata": {},
     "output_type": "execute_result"
    },
    {
     "data": {
      "image/png": "[encoded data removed]",
      "text/plain": [
       "<Figure size 432x288 with 1 Axes>"
      ]
     },
     "metadata": {
      "needs_background": "light"
     },
     "output_type": "display_data"
    }
   ],
   "source": [
    "#creating average prices for each year based on all states\n",
    "df_avg = df.groupby(by=\"Year\")[\"Price\"].mean()\n",
    "plt.plot(df_avg)"
   ]
  },
  {
   "cell_type": "markdown",
   "id": "3b86b76b",
   "metadata": {},
   "source": [
    "Experiment 1: Pre-processing"
   ]
  },
  {
   "cell_type": "code",
   "execution_count": 23,
   "id": "196277a4",
   "metadata": {},
   "outputs": [],
   "source": [
    "State_To_Float = {\n",
    "    \"Massachusetts\": 1,\n",
    "    \"Connecticut\": 2,\n",
    "    \"New Hampshire\": 3,\n",
    "    \"Vermont\": 4,\n",
    "    \"New York\": 5,\n",
    "    \"Rhode Island\": 6,\n",
    "    \"Maine\": 7,\n",
    "    \"New Jersey\": 8,\n",
    "    \"Pennsylvania\": 9,\n",
    "    \"Delaware\": 10,\n",
    "}"
   ]
  },
  {
   "cell_type": "code",
   "execution_count": 24,
   "id": "d75a3a13",
   "metadata": {},
   "outputs": [],
   "source": [
    "#changeing state names to abreviations \n",
    "df['State'] = df['State'].map(State_To_Float) "
   ]
  },
  {
   "cell_type": "code",
   "execution_count": 25,
   "id": "5df50bbd",
   "metadata": {},
   "outputs": [
    {
     "data": {
      "text/html": [
       "<div>\n",
       "<style scoped>\n",
       "    .dataframe tbody tr th:only-of-type {\n",
       "        vertical-align: middle;\n",
       "    }\n",
       "\n",
       "    .dataframe tbody tr th {\n",
       "        vertical-align: top;\n",
       "    }\n",
       "\n",
       "    .dataframe thead th {\n",
       "        text-align: right;\n",
       "    }\n",
       "</style>\n",
       "<table border=\"1\" class=\"dataframe\">\n",
       "  <thead>\n",
       "    <tr style=\"text-align: right;\">\n",
       "      <th></th>\n",
       "      <th>Price</th>\n",
       "      <th>State</th>\n",
       "      <th>Year</th>\n",
       "    </tr>\n",
       "  </thead>\n",
       "  <tbody>\n",
       "    <tr>\n",
       "      <th>24237</th>\n",
       "      <td>525000</td>\n",
       "      <td>1</td>\n",
       "      <td>2014</td>\n",
       "    </tr>\n",
       "    <tr>\n",
       "      <th>24238</th>\n",
       "      <td>289900</td>\n",
       "      <td>1</td>\n",
       "      <td>2012</td>\n",
       "    </tr>\n",
       "    <tr>\n",
       "      <th>24251</th>\n",
       "      <td>199999</td>\n",
       "      <td>1</td>\n",
       "      <td>2008</td>\n",
       "    </tr>\n",
       "    <tr>\n",
       "      <th>24258</th>\n",
       "      <td>419000</td>\n",
       "      <td>1</td>\n",
       "      <td>2005</td>\n",
       "    </tr>\n",
       "    <tr>\n",
       "      <th>24268</th>\n",
       "      <td>275000</td>\n",
       "      <td>1</td>\n",
       "      <td>2021</td>\n",
       "    </tr>\n",
       "  </tbody>\n",
       "</table>\n",
       "</div>"
      ],
      "text/plain": [
       "        Price  State  Year\n",
       "24237  525000      1  2014\n",
       "24238  289900      1  2012\n",
       "24251  199999      1  2008\n",
       "24258  419000      1  2005\n",
       "24268  275000      1  2021"
      ]
     },
     "execution_count": 25,
     "metadata": {},
     "output_type": "execute_result"
    }
   ],
   "source": [
    "df.head()"
   ]
  },
  {
   "cell_type": "code",
   "execution_count": 26,
   "id": "d0cc6204",
   "metadata": {},
   "outputs": [
    {
     "data": {
      "text/html": [
       "<div>\n",
       "<style scoped>\n",
       "    .dataframe tbody tr th:only-of-type {\n",
       "        vertical-align: middle;\n",
       "    }\n",
       "\n",
       "    .dataframe tbody tr th {\n",
       "        vertical-align: top;\n",
       "    }\n",
       "\n",
       "    .dataframe thead th {\n",
       "        text-align: right;\n",
       "    }\n",
       "</style>\n",
       "<table border=\"1\" class=\"dataframe\">\n",
       "  <thead>\n",
       "    <tr style=\"text-align: right;\">\n",
       "      <th></th>\n",
       "      <th>Price</th>\n",
       "      <th>State</th>\n",
       "      <th>Year</th>\n",
       "    </tr>\n",
       "  </thead>\n",
       "  <tbody>\n",
       "    <tr>\n",
       "      <th>0</th>\n",
       "      <td>525000</td>\n",
       "      <td>1</td>\n",
       "      <td>2014</td>\n",
       "    </tr>\n",
       "    <tr>\n",
       "      <th>1</th>\n",
       "      <td>289900</td>\n",
       "      <td>1</td>\n",
       "      <td>2012</td>\n",
       "    </tr>\n",
       "    <tr>\n",
       "      <th>2</th>\n",
       "      <td>199999</td>\n",
       "      <td>1</td>\n",
       "      <td>2008</td>\n",
       "    </tr>\n",
       "    <tr>\n",
       "      <th>3</th>\n",
       "      <td>419000</td>\n",
       "      <td>1</td>\n",
       "      <td>2005</td>\n",
       "    </tr>\n",
       "    <tr>\n",
       "      <th>4</th>\n",
       "      <td>275000</td>\n",
       "      <td>1</td>\n",
       "      <td>2021</td>\n",
       "    </tr>\n",
       "    <tr>\n",
       "      <th>...</th>\n",
       "      <td>...</td>\n",
       "      <td>...</td>\n",
       "      <td>...</td>\n",
       "    </tr>\n",
       "    <tr>\n",
       "      <th>175153</th>\n",
       "      <td>569900</td>\n",
       "      <td>5</td>\n",
       "      <td>2015</td>\n",
       "    </tr>\n",
       "    <tr>\n",
       "      <th>175154</th>\n",
       "      <td>589999</td>\n",
       "      <td>5</td>\n",
       "      <td>2003</td>\n",
       "    </tr>\n",
       "    <tr>\n",
       "      <th>175155</th>\n",
       "      <td>445000</td>\n",
       "      <td>5</td>\n",
       "      <td>2011</td>\n",
       "    </tr>\n",
       "    <tr>\n",
       "      <th>175156</th>\n",
       "      <td>418000</td>\n",
       "      <td>5</td>\n",
       "      <td>2015</td>\n",
       "    </tr>\n",
       "    <tr>\n",
       "      <th>175157</th>\n",
       "      <td>825000</td>\n",
       "      <td>5</td>\n",
       "      <td>2010</td>\n",
       "    </tr>\n",
       "  </tbody>\n",
       "</table>\n",
       "<p>175158 rows × 3 columns</p>\n",
       "</div>"
      ],
      "text/plain": [
       "         Price  State  Year\n",
       "0       525000      1  2014\n",
       "1       289900      1  2012\n",
       "2       199999      1  2008\n",
       "3       419000      1  2005\n",
       "4       275000      1  2021\n",
       "...        ...    ...   ...\n",
       "175153  569900      5  2015\n",
       "175154  589999      5  2003\n",
       "175155  445000      5  2011\n",
       "175156  418000      5  2015\n",
       "175157  825000      5  2010\n",
       "\n",
       "[175158 rows x 3 columns]"
      ]
     },
     "execution_count": 26,
     "metadata": {},
     "output_type": "execute_result"
    }
   ],
   "source": [
    "df.reset_index(drop=True) #adjusting the indexes"
   ]
  },
  {
   "cell_type": "markdown",
   "id": "31492111",
   "metadata": {},
   "source": [
    "Experiment 1: Modeling"
   ]
  },
  {
   "cell_type": "code",
   "execution_count": 27,
   "id": "fd30e869",
   "metadata": {},
   "outputs": [],
   "source": [
    "X = df.drop(columns = ['Price']) # note: only drop target\n",
    "                                # keep state and year\n",
    "y = df['Price']"
   ]
  },
  {
   "cell_type": "code",
   "execution_count": 28,
   "id": "c42f0441",
   "metadata": {},
   "outputs": [
    {
     "data": {
      "text/plain": [
       "Price    int32\n",
       "State    int64\n",
       "Year     int64\n",
       "dtype: object"
      ]
     },
     "execution_count": 28,
     "metadata": {},
     "output_type": "execute_result"
    }
   ],
   "source": [
    "df.dtypes"
   ]
  },
  {
   "cell_type": "code",
   "execution_count": 29,
   "id": "5d737424",
   "metadata": {},
   "outputs": [],
   "source": [
    "## split our data\n",
    "from sklearn.model_selection import train_test_split\n",
    "X_train, X_test, y_train, y_test = train_test_split(X, y, test_size = 0.3, random_state = 7)"
   ]
  },
  {
   "cell_type": "code",
   "execution_count": 30,
   "id": "67cf2b93",
   "metadata": {},
   "outputs": [
    {
     "data": {
      "text/plain": [
       "((122610, 2), (122610,), (52548, 2), (52548,))"
      ]
     },
     "execution_count": 30,
     "metadata": {},
     "output_type": "execute_result"
    }
   ],
   "source": [
    "X_train.shape,y_train.shape,X_test.shape,y_test.shape"
   ]
  },
  {
   "cell_type": "code",
   "execution_count": 31,
   "id": "7bd56a46",
   "metadata": {},
   "outputs": [],
   "source": [
    "from sklearn import linear_model\n",
    "\n",
    "# initialize linear regression model\n",
    "lr = linear_model.LinearRegression()\n",
    "\n",
    "# fit the model with our X and y\n",
    "lr_model = lr.fit(X_train, y_train)"
   ]
  },
  {
   "cell_type": "code",
   "execution_count": 32,
   "id": "c0fd490d",
   "metadata": {
    "scrolled": false
   },
   "outputs": [
    {
     "name": "stdout",
     "output_type": "stream",
     "text": [
      "                            OLS Regression Results                            \n",
      "==============================================================================\n",
      "Dep. Variable:                  Price   R-squared:                       0.006\n",
      "Model:                            OLS   Adj. R-squared:                  0.006\n",
      "Method:                 Least Squares   F-statistic:                     397.8\n",
      "Date:                Sun, 23 Oct 2022   Prob (F-statistic):          5.97e-173\n",
      "Time:                        11:24:33   Log-Likelihood:            -1.8868e+06\n",
      "No. Observations:              122610   AIC:                         3.774e+06\n",
      "Df Residuals:                  122607   BIC:                         3.774e+06\n",
      "Df Model:                           2                                         \n",
      "Covariance Type:            nonrobust                                         \n",
      "==============================================================================\n",
      "                 coef    std err          t      P>|t|      [0.025      0.975]\n",
      "------------------------------------------------------------------------------\n",
      "const       1.609e+07   1.04e+06     15.442      0.000     1.4e+07    1.81e+07\n",
      "State      -2.468e+04   1216.417    -20.287      0.000   -2.71e+04   -2.23e+04\n",
      "Year       -7597.6755    518.529    -14.652      0.000   -8613.983   -6581.368\n",
      "==============================================================================\n",
      "Omnibus:                   237104.032   Durbin-Watson:                   1.993\n",
      "Prob(Omnibus):                  0.000   Jarque-Bera (JB):       1209831907.981\n",
      "Skew:                          14.929   Prob(JB):                         0.00\n",
      "Kurtosis:                     488.720   Cond. No.                     6.29e+05\n",
      "==============================================================================\n",
      "\n",
      "Notes:\n",
      "[1] Standard Errors assume that the covariance matrix of the errors is correctly specified.\n",
      "[2] The condition number is large, 6.29e+05. This might indicate that there are\n",
      "strong multicollinearity or other numerical problems.\n"
     ]
    }
   ],
   "source": [
    "import statsmodels.api as sma\n",
    "\n",
    "## We add a constant to allow OLS to take into account the y-intercept\n",
    "X2 = sma.add_constant(X_train)\n",
    "\n",
    "#create OLS model and fit it\n",
    "est = sma.OLS(y_train, X2)\n",
    "est2 = est.fit()\n",
    "\n",
    "#call the summary\n",
    "print(est2.summary())"
   ]
  },
  {
   "cell_type": "code",
   "execution_count": 33,
   "id": "2971870c",
   "metadata": {},
   "outputs": [
    {
     "name": "stdout",
     "output_type": "stream",
     "text": [
      "Model Intercept: 16091769.392491989\n",
      "Model Slope: -24676.90323859749\n",
      "Coefficient of Determination: 0.006372214379307017\n"
     ]
    },
    {
     "data": {
      "text/html": [
       "<div>\n",
       "<style scoped>\n",
       "    .dataframe tbody tr th:only-of-type {\n",
       "        vertical-align: middle;\n",
       "    }\n",
       "\n",
       "    .dataframe tbody tr th {\n",
       "        vertical-align: top;\n",
       "    }\n",
       "\n",
       "    .dataframe thead th {\n",
       "        text-align: right;\n",
       "    }\n",
       "</style>\n",
       "<table border=\"1\" class=\"dataframe\">\n",
       "  <thead>\n",
       "    <tr style=\"text-align: right;\">\n",
       "      <th></th>\n",
       "      <th>Coefficients</th>\n",
       "    </tr>\n",
       "  </thead>\n",
       "  <tbody>\n",
       "    <tr>\n",
       "      <th>State</th>\n",
       "      <td>-24676.903239</td>\n",
       "    </tr>\n",
       "    <tr>\n",
       "      <th>Year</th>\n",
       "      <td>-7597.675502</td>\n",
       "    </tr>\n",
       "  </tbody>\n",
       "</table>\n",
       "</div>"
      ],
      "text/plain": [
       "       Coefficients\n",
       "State -24676.903239\n",
       "Year   -7597.675502"
      ]
     },
     "execution_count": 33,
     "metadata": {},
     "output_type": "execute_result"
    }
   ],
   "source": [
    "#look at the intercept and slope of the model. \n",
    "print('Model Intercept:',lr_model.intercept_)\n",
    "print('Model Slope:' ,lr_model.coef_[0])\n",
    "\n",
    "#Get our coefficient of determination\n",
    "print('Coefficient of Determination:',lr_model.score(X_test, y_test))\n",
    "\n",
    "#creates table to show the features and their coefficients \n",
    "coeff_df = pd.DataFrame(lr_model.coef_, X_test.columns, columns=['Coefficients'])\n",
    "coeff_df"
   ]
  },
  {
   "cell_type": "markdown",
   "id": "7acd1976",
   "metadata": {},
   "source": [
    "Experiment 1: Visualization"
   ]
  },
  {
   "cell_type": "code",
   "execution_count": 34,
   "id": "141c5d20",
   "metadata": {},
   "outputs": [
    {
     "data": {
      "text/plain": [
       "<matplotlib.legend.Legend at 0x2534722da90>"
      ]
     },
     "execution_count": 34,
     "metadata": {},
     "output_type": "execute_result"
    },
    {
     "data": {
      "image/png": "[encoded data removed]",
      "text/plain": [
       "<Figure size 432x288 with 1 Axes>"
      ]
     },
     "metadata": {
      "needs_background": "light"
     },
     "output_type": "display_data"
    }
   ],
   "source": [
    "import matplotlib.pyplot as plt\n",
    "\n",
    "#line_kws lets us change up some things about the line in the plot. Change the color here so you can see it against the points, but also where you can put your slope formula\n",
    "#the '$y=%3.7s*x+%3.7s$'is what will format the coefficient and intercept as the line function y=mx + b\n",
    "# more info on using % to format here: https://docs.python.org/3/library/stdtypes.html#str.format\n",
    "# or here: https://www.geeksforgeeks.org/string-formatting-in-python/\n",
    "plot_rnet = sns.regplot(data = df,x=\"Year\", y=\"Price\",line_kws={'color':'black',\n",
    "                                                                           'label':'$y=%5.4sx+%5.5s$'%(lr_model.coef_[0],lr_model.intercept_)})\n",
    "plt.legend()\n"
   ]
  },
  {
   "cell_type": "markdown",
   "id": "f1b9c1bb",
   "metadata": {},
   "source": [
    "Experiment 1: Evaluation"
   ]
  },
  {
   "cell_type": "code",
   "execution_count": 35,
   "id": "fecc816f",
   "metadata": {},
   "outputs": [],
   "source": [
    "y_pred = lr_model.predict(X_test)"
   ]
  },
  {
   "cell_type": "code",
   "execution_count": 36,
   "id": "ae3116cf",
   "metadata": {},
   "outputs": [
    {
     "name": "stdout",
     "output_type": "stream",
     "text": [
      "Mean Absolute Error: 490614.14554341027\n",
      "Mean Square Error: 1729609699410.4526\n",
      "Root Mean Square Error: 1315146.2654056593\n"
     ]
    }
   ],
   "source": [
    "from sklearn import metrics\n",
    "mae = metrics.mean_absolute_error(y_test, y_pred)\n",
    "mse = metrics.mean_squared_error(y_test, y_pred)\n",
    "rmse = metrics.mean_squared_error(y_test, y_pred,squared = False)\n",
    "\n",
    "print('Mean Absolute Error:', mae)\n",
    "print('Mean Square Error:', mse)\n",
    "print('Root Mean Square Error:', rmse)"
   ]
  },
  {
   "cell_type": "markdown",
   "id": "00e332ee",
   "metadata": {},
   "source": [
    "Experiment 2: Pre-Processing"
   ]
  },
  {
   "cell_type": "code",
   "execution_count": 37,
   "id": "57385e4f",
   "metadata": {},
   "outputs": [],
   "source": [
    "df1 = pd.DataFrame(df_avg)"
   ]
  },
  {
   "cell_type": "code",
   "execution_count": 38,
   "id": "6303f788",
   "metadata": {},
   "outputs": [],
   "source": [
    "Year = [2000, 2001, 2003, 2004, 2005, 2006, \n",
    "                        2007, 2008, 2009, 2010, 2011, 2012, 2013, \n",
    "                        2014, 2015, 2016, 2017, 2018, 2019, 2020, \n",
    "                        2021, 2022]\n",
    "df1['Year'] = Year"
   ]
  },
  {
   "cell_type": "code",
   "execution_count": 39,
   "id": "70a8a2d7",
   "metadata": {},
   "outputs": [
    {
     "data": {
      "text/plain": [
       "Index(['Price', 'Year'], dtype='object')"
      ]
     },
     "execution_count": 39,
     "metadata": {},
     "output_type": "execute_result"
    }
   ],
   "source": [
    "df1.columns"
   ]
  },
  {
   "cell_type": "code",
   "execution_count": 40,
   "id": "abf23afc",
   "metadata": {},
   "outputs": [
    {
     "data": {
      "text/html": [
       "<div>\n",
       "<style scoped>\n",
       "    .dataframe tbody tr th:only-of-type {\n",
       "        vertical-align: middle;\n",
       "    }\n",
       "\n",
       "    .dataframe tbody tr th {\n",
       "        vertical-align: top;\n",
       "    }\n",
       "\n",
       "    .dataframe thead th {\n",
       "        text-align: right;\n",
       "    }\n",
       "</style>\n",
       "<table border=\"1\" class=\"dataframe\">\n",
       "  <thead>\n",
       "    <tr style=\"text-align: right;\">\n",
       "      <th></th>\n",
       "      <th>Price</th>\n",
       "      <th>Year</th>\n",
       "    </tr>\n",
       "    <tr>\n",
       "      <th>Year</th>\n",
       "      <th></th>\n",
       "      <th></th>\n",
       "    </tr>\n",
       "  </thead>\n",
       "  <tbody>\n",
       "    <tr>\n",
       "      <th>2000</th>\n",
       "      <td>913108.998557</td>\n",
       "      <td>2000</td>\n",
       "    </tr>\n",
       "    <tr>\n",
       "      <th>2001</th>\n",
       "      <td>675227.327649</td>\n",
       "      <td>2001</td>\n",
       "    </tr>\n",
       "    <tr>\n",
       "      <th>2003</th>\n",
       "      <td>814646.237932</td>\n",
       "      <td>2003</td>\n",
       "    </tr>\n",
       "    <tr>\n",
       "      <th>2004</th>\n",
       "      <td>753566.115805</td>\n",
       "      <td>2004</td>\n",
       "    </tr>\n",
       "    <tr>\n",
       "      <th>2005</th>\n",
       "      <td>672597.817378</td>\n",
       "      <td>2005</td>\n",
       "    </tr>\n",
       "    <tr>\n",
       "      <th>2006</th>\n",
       "      <td>765634.770804</td>\n",
       "      <td>2006</td>\n",
       "    </tr>\n",
       "    <tr>\n",
       "      <th>2007</th>\n",
       "      <td>769509.910174</td>\n",
       "      <td>2007</td>\n",
       "    </tr>\n",
       "    <tr>\n",
       "      <th>2008</th>\n",
       "      <td>906987.449150</td>\n",
       "      <td>2008</td>\n",
       "    </tr>\n",
       "    <tr>\n",
       "      <th>2009</th>\n",
       "      <td>672178.951031</td>\n",
       "      <td>2009</td>\n",
       "    </tr>\n",
       "    <tr>\n",
       "      <th>2010</th>\n",
       "      <td>771687.911107</td>\n",
       "      <td>2010</td>\n",
       "    </tr>\n",
       "    <tr>\n",
       "      <th>2011</th>\n",
       "      <td>784711.939657</td>\n",
       "      <td>2011</td>\n",
       "    </tr>\n",
       "    <tr>\n",
       "      <th>2012</th>\n",
       "      <td>724870.011370</td>\n",
       "      <td>2012</td>\n",
       "    </tr>\n",
       "    <tr>\n",
       "      <th>2013</th>\n",
       "      <td>703191.633486</td>\n",
       "      <td>2013</td>\n",
       "    </tr>\n",
       "    <tr>\n",
       "      <th>2014</th>\n",
       "      <td>734712.898882</td>\n",
       "      <td>2014</td>\n",
       "    </tr>\n",
       "    <tr>\n",
       "      <th>2015</th>\n",
       "      <td>680617.557966</td>\n",
       "      <td>2015</td>\n",
       "    </tr>\n",
       "    <tr>\n",
       "      <th>2016</th>\n",
       "      <td>619646.012001</td>\n",
       "      <td>2016</td>\n",
       "    </tr>\n",
       "    <tr>\n",
       "      <th>2017</th>\n",
       "      <td>606701.915496</td>\n",
       "      <td>2017</td>\n",
       "    </tr>\n",
       "    <tr>\n",
       "      <th>2018</th>\n",
       "      <td>617049.016644</td>\n",
       "      <td>2018</td>\n",
       "    </tr>\n",
       "    <tr>\n",
       "      <th>2019</th>\n",
       "      <td>643768.834325</td>\n",
       "      <td>2019</td>\n",
       "    </tr>\n",
       "    <tr>\n",
       "      <th>2020</th>\n",
       "      <td>580003.478694</td>\n",
       "      <td>2020</td>\n",
       "    </tr>\n",
       "    <tr>\n",
       "      <th>2021</th>\n",
       "      <td>583369.605513</td>\n",
       "      <td>2021</td>\n",
       "    </tr>\n",
       "    <tr>\n",
       "      <th>2022</th>\n",
       "      <td>669460.513381</td>\n",
       "      <td>2022</td>\n",
       "    </tr>\n",
       "  </tbody>\n",
       "</table>\n",
       "</div>"
      ],
      "text/plain": [
       "              Price  Year\n",
       "Year                     \n",
       "2000  913108.998557  2000\n",
       "2001  675227.327649  2001\n",
       "2003  814646.237932  2003\n",
       "2004  753566.115805  2004\n",
       "2005  672597.817378  2005\n",
       "2006  765634.770804  2006\n",
       "2007  769509.910174  2007\n",
       "2008  906987.449150  2008\n",
       "2009  672178.951031  2009\n",
       "2010  771687.911107  2010\n",
       "2011  784711.939657  2011\n",
       "2012  724870.011370  2012\n",
       "2013  703191.633486  2013\n",
       "2014  734712.898882  2014\n",
       "2015  680617.557966  2015\n",
       "2016  619646.012001  2016\n",
       "2017  606701.915496  2017\n",
       "2018  617049.016644  2018\n",
       "2019  643768.834325  2019\n",
       "2020  580003.478694  2020\n",
       "2021  583369.605513  2021\n",
       "2022  669460.513381  2022"
      ]
     },
     "execution_count": 40,
     "metadata": {},
     "output_type": "execute_result"
    }
   ],
   "source": [
    "df1.head(22)"
   ]
  },
  {
   "cell_type": "markdown",
   "id": "5357b120",
   "metadata": {},
   "source": [
    "Experiment 2: Modeling"
   ]
  },
  {
   "cell_type": "code",
   "execution_count": 41,
   "id": "0ab5aee5",
   "metadata": {},
   "outputs": [],
   "source": [
    "X = df1.drop(columns = ['Year']) # note: only drop target\n",
    "                                # keep state and year\n",
    "y = df1['Year']"
   ]
  },
  {
   "cell_type": "code",
   "execution_count": 42,
   "id": "dd853349",
   "metadata": {},
   "outputs": [
    {
     "data": {
      "text/plain": [
       "Price    int32\n",
       "Year     int64\n",
       "dtype: object"
      ]
     },
     "execution_count": 42,
     "metadata": {},
     "output_type": "execute_result"
    }
   ],
   "source": [
    "df1['Price'] = df1['Price'].astype(int)\n",
    "df1.dtypes"
   ]
  },
  {
   "cell_type": "code",
   "execution_count": 43,
   "id": "87e6ac01",
   "metadata": {},
   "outputs": [],
   "source": [
    "## split our data\n",
    "from sklearn.model_selection import train_test_split\n",
    "X_train, X_test, y_train, y_test = train_test_split(X, y, test_size = 0.3, random_state = 7)"
   ]
  },
  {
   "cell_type": "code",
   "execution_count": 44,
   "id": "339eec25",
   "metadata": {},
   "outputs": [
    {
     "data": {
      "text/plain": [
       "((15, 1), (15,), (7, 1), (7,))"
      ]
     },
     "execution_count": 44,
     "metadata": {},
     "output_type": "execute_result"
    }
   ],
   "source": [
    "X_train.shape,y_train.shape,X_test.shape,y_test.shape"
   ]
  },
  {
   "cell_type": "code",
   "execution_count": 45,
   "id": "ffafa74b",
   "metadata": {},
   "outputs": [],
   "source": [
    "from sklearn import linear_model\n",
    "\n",
    "# initialize linear regression model\n",
    "lr = linear_model.LinearRegression()\n",
    "\n",
    "# fit the model with our X and y\n",
    "lr_model = lr.fit(X_train, y_train)"
   ]
  },
  {
   "cell_type": "code",
   "execution_count": 46,
   "id": "1867a4f9",
   "metadata": {},
   "outputs": [
    {
     "name": "stdout",
     "output_type": "stream",
     "text": [
      "                            OLS Regression Results                            \n",
      "==============================================================================\n",
      "Dep. Variable:                   Year   R-squared:                       0.585\n",
      "Model:                            OLS   Adj. R-squared:                  0.553\n",
      "Method:                 Least Squares   F-statistic:                     18.31\n",
      "Date:                Sun, 23 Oct 2022   Prob (F-statistic):           0.000897\n",
      "Time:                        11:25:03   Log-Likelihood:                -41.421\n",
      "No. Observations:                  15   AIC:                             86.84\n",
      "Df Residuals:                      13   BIC:                             88.26\n",
      "Df Model:                           1                                         \n",
      "Covariance Type:            nonrobust                                         \n",
      "==============================================================================\n",
      "                 coef    std err          t      P>|t|      [0.025      0.975]\n",
      "------------------------------------------------------------------------------\n",
      "const       2044.4747      7.755    263.628      0.000    2027.721    2061.229\n",
      "Price      -4.596e-05   1.07e-05     -4.279      0.001   -6.92e-05   -2.28e-05\n",
      "==============================================================================\n",
      "Omnibus:                        2.209   Durbin-Watson:                   1.877\n",
      "Prob(Omnibus):                  0.331   Jarque-Bera (JB):                1.523\n",
      "Skew:                          -0.754   Prob(JB):                        0.467\n",
      "Kurtosis:                       2.600   Cond. No.                     5.27e+06\n",
      "==============================================================================\n",
      "\n",
      "Notes:\n",
      "[1] Standard Errors assume that the covariance matrix of the errors is correctly specified.\n",
      "[2] The condition number is large, 5.27e+06. This might indicate that there are\n",
      "strong multicollinearity or other numerical problems.\n"
     ]
    },
    {
     "name": "stderr",
     "output_type": "stream",
     "text": [
      "C:\\Users\\devir\\anaconda3\\lib\\site-packages\\scipy\\stats\\stats.py:1541: UserWarning: kurtosistest only valid for n>=20 ... continuing anyway, n=15\n",
      "  warnings.warn(\"kurtosistest only valid for n>=20 ... continuing \"\n"
     ]
    }
   ],
   "source": [
    "import statsmodels.api as sma\n",
    "\n",
    "## We add a constant to allow OLS to take into account the y-intercept\n",
    "X2 = sma.add_constant(X_train)\n",
    "\n",
    "#create OLS model and fit it\n",
    "est = sma.OLS(y_train, X2)\n",
    "est2 = est.fit()\n",
    "\n",
    "#call the summary\n",
    "print(est2.summary())"
   ]
  },
  {
   "cell_type": "code",
   "execution_count": 47,
   "id": "c75ea862",
   "metadata": {},
   "outputs": [
    {
     "name": "stdout",
     "output_type": "stream",
     "text": [
      "Model Intercept: 2044.4746628131136\n",
      "Model Slope: -4.595620360301694e-05\n",
      "Coefficient of Determination: 0.3513493403535183\n"
     ]
    },
    {
     "data": {
      "text/html": [
       "<div>\n",
       "<style scoped>\n",
       "    .dataframe tbody tr th:only-of-type {\n",
       "        vertical-align: middle;\n",
       "    }\n",
       "\n",
       "    .dataframe tbody tr th {\n",
       "        vertical-align: top;\n",
       "    }\n",
       "\n",
       "    .dataframe thead th {\n",
       "        text-align: right;\n",
       "    }\n",
       "</style>\n",
       "<table border=\"1\" class=\"dataframe\">\n",
       "  <thead>\n",
       "    <tr style=\"text-align: right;\">\n",
       "      <th></th>\n",
       "      <th>Coefficients</th>\n",
       "    </tr>\n",
       "  </thead>\n",
       "  <tbody>\n",
       "    <tr>\n",
       "      <th>Price</th>\n",
       "      <td>-0.000046</td>\n",
       "    </tr>\n",
       "  </tbody>\n",
       "</table>\n",
       "</div>"
      ],
      "text/plain": [
       "       Coefficients\n",
       "Price     -0.000046"
      ]
     },
     "execution_count": 47,
     "metadata": {},
     "output_type": "execute_result"
    }
   ],
   "source": [
    "#look at the intercept and slope of the model. \n",
    "print('Model Intercept:',lr_model.intercept_)\n",
    "print('Model Slope:' ,lr_model.coef_[0])\n",
    "\n",
    "#Get our coefficient of determination\n",
    "print('Coefficient of Determination:',lr_model.score(X_test, y_test))\n",
    "\n",
    "#creates table to show the features and their coefficients \n",
    "coeff_df1 = pd.DataFrame(lr_model.coef_, X_test.columns, columns=['Coefficients'])\n",
    "coeff_df1"
   ]
  },
  {
   "cell_type": "markdown",
   "id": "6cf8e1fe",
   "metadata": {},
   "source": [
    "Experiment 2: Visualization"
   ]
  },
  {
   "cell_type": "code",
   "execution_count": 48,
   "id": "8c2cd6b3",
   "metadata": {},
   "outputs": [
    {
     "data": {
      "text/plain": [
       "<matplotlib.legend.Legend at 0x25346f23f10>"
      ]
     },
     "execution_count": 48,
     "metadata": {},
     "output_type": "execute_result"
    },
    {
     "data": {
      "image/png": "[encoded data removed]",
      "text/plain": [
       "<Figure size 432x288 with 1 Axes>"
      ]
     },
     "metadata": {
      "needs_background": "light"
     },
     "output_type": "display_data"
    }
   ],
   "source": [
    "import matplotlib.pyplot as plt\n",
    "\n",
    "#line_kws lets us change up some things about the line in the plot. Change the color here so you can see it against the points, but also where you can put your slope formula\n",
    "#the '$y=%3.7s*x+%3.7s$'is what will format the coefficient and intercept as the line function y=mx + b\n",
    "# more info on using % to format here: https://docs.python.org/3/library/stdtypes.html#str.format\n",
    "# or here: https://www.geeksforgeeks.org/string-formatting-in-python/\n",
    "plot_rnet = sns.regplot(data = df1,x=\"Year\", y=\"Price\",line_kws={'color':'black',\n",
    "                                                                           'label':'$y=%5.4sx+%5.5s$'%(lr_model.coef_[0],lr_model.intercept_)})\n",
    "plt.legend()\n"
   ]
  },
  {
   "cell_type": "markdown",
   "id": "feb91a11",
   "metadata": {},
   "source": [
    "Experiment 2: Evaluation"
   ]
  },
  {
   "cell_type": "code",
   "execution_count": 49,
   "id": "e12c3a01",
   "metadata": {},
   "outputs": [],
   "source": [
    "y_pred = lr_model.predict(X_test)"
   ]
  },
  {
   "cell_type": "code",
   "execution_count": 50,
   "id": "80acca07",
   "metadata": {},
   "outputs": [
    {
     "name": "stdout",
     "output_type": "stream",
     "text": [
      "Mean Absolute Error: 4.559950024964759\n",
      "Mean Square Error: 36.695094460000966\n",
      "Root Mean Square Error: 6.057647601173327\n"
     ]
    }
   ],
   "source": [
    "from sklearn import metrics\n",
    "mae = metrics.mean_absolute_error(y_test, y_pred)\n",
    "mse = metrics.mean_squared_error(y_test, y_pred)\n",
    "rmse = metrics.mean_squared_error(y_test, y_pred,squared = False)\n",
    "\n",
    "print('Mean Absolute Error:', mae)\n",
    "print('Mean Square Error:', mse)\n",
    "print('Root Mean Square Error:', rmse)"
   ]
  },
  {
   "cell_type": "markdown",
   "id": "e04284ec",
   "metadata": {},
   "source": [
    "Experiment 3: Pre-Processing"
   ]
  },
  {
   "cell_type": "code",
   "execution_count": 51,
   "id": "922e8e19",
   "metadata": {},
   "outputs": [],
   "source": [
    "#removing 2000 (outlier), 2008 (rescission), and 2020-2022 (because covid and 2022 is not over yet)\n",
    "df1 = df1.loc[df1['Year'].isin([2001, 2003, 2004, 2005, 2006, \n",
    "                        2007, 2009, 2010, 2011, 2012, 2013, \n",
    "                        2014, 2015, 2016, 2017, 2018, 2019])]"
   ]
  },
  {
   "cell_type": "code",
   "execution_count": 52,
   "id": "fd99ca38",
   "metadata": {},
   "outputs": [
    {
     "data": {
      "text/html": [
       "<div>\n",
       "<style scoped>\n",
       "    .dataframe tbody tr th:only-of-type {\n",
       "        vertical-align: middle;\n",
       "    }\n",
       "\n",
       "    .dataframe tbody tr th {\n",
       "        vertical-align: top;\n",
       "    }\n",
       "\n",
       "    .dataframe thead th {\n",
       "        text-align: right;\n",
       "    }\n",
       "</style>\n",
       "<table border=\"1\" class=\"dataframe\">\n",
       "  <thead>\n",
       "    <tr style=\"text-align: right;\">\n",
       "      <th></th>\n",
       "      <th>Price</th>\n",
       "      <th>Year</th>\n",
       "    </tr>\n",
       "    <tr>\n",
       "      <th>Year</th>\n",
       "      <th></th>\n",
       "      <th></th>\n",
       "    </tr>\n",
       "  </thead>\n",
       "  <tbody>\n",
       "    <tr>\n",
       "      <th>2001</th>\n",
       "      <td>675227</td>\n",
       "      <td>2001</td>\n",
       "    </tr>\n",
       "    <tr>\n",
       "      <th>2003</th>\n",
       "      <td>814646</td>\n",
       "      <td>2003</td>\n",
       "    </tr>\n",
       "    <tr>\n",
       "      <th>2004</th>\n",
       "      <td>753566</td>\n",
       "      <td>2004</td>\n",
       "    </tr>\n",
       "    <tr>\n",
       "      <th>2005</th>\n",
       "      <td>672597</td>\n",
       "      <td>2005</td>\n",
       "    </tr>\n",
       "    <tr>\n",
       "      <th>2006</th>\n",
       "      <td>765634</td>\n",
       "      <td>2006</td>\n",
       "    </tr>\n",
       "    <tr>\n",
       "      <th>2007</th>\n",
       "      <td>769509</td>\n",
       "      <td>2007</td>\n",
       "    </tr>\n",
       "    <tr>\n",
       "      <th>2009</th>\n",
       "      <td>672178</td>\n",
       "      <td>2009</td>\n",
       "    </tr>\n",
       "    <tr>\n",
       "      <th>2010</th>\n",
       "      <td>771687</td>\n",
       "      <td>2010</td>\n",
       "    </tr>\n",
       "    <tr>\n",
       "      <th>2011</th>\n",
       "      <td>784711</td>\n",
       "      <td>2011</td>\n",
       "    </tr>\n",
       "    <tr>\n",
       "      <th>2012</th>\n",
       "      <td>724870</td>\n",
       "      <td>2012</td>\n",
       "    </tr>\n",
       "    <tr>\n",
       "      <th>2013</th>\n",
       "      <td>703191</td>\n",
       "      <td>2013</td>\n",
       "    </tr>\n",
       "    <tr>\n",
       "      <th>2014</th>\n",
       "      <td>734712</td>\n",
       "      <td>2014</td>\n",
       "    </tr>\n",
       "    <tr>\n",
       "      <th>2015</th>\n",
       "      <td>680617</td>\n",
       "      <td>2015</td>\n",
       "    </tr>\n",
       "    <tr>\n",
       "      <th>2016</th>\n",
       "      <td>619646</td>\n",
       "      <td>2016</td>\n",
       "    </tr>\n",
       "    <tr>\n",
       "      <th>2017</th>\n",
       "      <td>606701</td>\n",
       "      <td>2017</td>\n",
       "    </tr>\n",
       "    <tr>\n",
       "      <th>2018</th>\n",
       "      <td>617049</td>\n",
       "      <td>2018</td>\n",
       "    </tr>\n",
       "    <tr>\n",
       "      <th>2019</th>\n",
       "      <td>643768</td>\n",
       "      <td>2019</td>\n",
       "    </tr>\n",
       "  </tbody>\n",
       "</table>\n",
       "</div>"
      ],
      "text/plain": [
       "       Price  Year\n",
       "Year              \n",
       "2001  675227  2001\n",
       "2003  814646  2003\n",
       "2004  753566  2004\n",
       "2005  672597  2005\n",
       "2006  765634  2006\n",
       "2007  769509  2007\n",
       "2009  672178  2009\n",
       "2010  771687  2010\n",
       "2011  784711  2011\n",
       "2012  724870  2012\n",
       "2013  703191  2013\n",
       "2014  734712  2014\n",
       "2015  680617  2015\n",
       "2016  619646  2016\n",
       "2017  606701  2017\n",
       "2018  617049  2018\n",
       "2019  643768  2019"
      ]
     },
     "execution_count": 52,
     "metadata": {},
     "output_type": "execute_result"
    }
   ],
   "source": [
    "df1.head(17)"
   ]
  },
  {
   "cell_type": "markdown",
   "id": "45c66794",
   "metadata": {},
   "source": [
    "Experiment 3: Modeling"
   ]
  },
  {
   "cell_type": "code",
   "execution_count": 53,
   "id": "9cd2fac4",
   "metadata": {},
   "outputs": [],
   "source": [
    "X = df1.drop(columns = ['Year']) # note: only drop target\n",
    "                                # keep state and year\n",
    "y = df1['Year']"
   ]
  },
  {
   "cell_type": "code",
   "execution_count": 54,
   "id": "c2a27178",
   "metadata": {},
   "outputs": [],
   "source": [
    "## split our data\n",
    "from sklearn.model_selection import train_test_split\n",
    "X_train, X_test, y_train, y_test = train_test_split(X, y, test_size = 0.3, random_state = 7)"
   ]
  },
  {
   "cell_type": "code",
   "execution_count": 55,
   "id": "9982dad7",
   "metadata": {},
   "outputs": [
    {
     "data": {
      "text/plain": [
       "((11, 1), (11,), (6, 1), (6,))"
      ]
     },
     "execution_count": 55,
     "metadata": {},
     "output_type": "execute_result"
    }
   ],
   "source": [
    "X_train.shape,y_train.shape,X_test.shape,y_test.shape"
   ]
  },
  {
   "cell_type": "code",
   "execution_count": 56,
   "id": "2a37ec19",
   "metadata": {},
   "outputs": [
    {
     "name": "stdout",
     "output_type": "stream",
     "text": [
      "                            OLS Regression Results                            \n",
      "==============================================================================\n",
      "Dep. Variable:                   Year   R-squared:                       0.309\n",
      "Model:                            OLS   Adj. R-squared:                  0.232\n",
      "Method:                 Least Squares   F-statistic:                     4.029\n",
      "Date:                Sun, 23 Oct 2022   Prob (F-statistic):             0.0757\n",
      "Time:                        11:25:04   Log-Likelihood:                -32.161\n",
      "No. Observations:                  11   AIC:                             68.32\n",
      "Df Residuals:                       9   BIC:                             69.12\n",
      "Df Model:                           1                                         \n",
      "Covariance Type:            nonrobust                                         \n",
      "==============================================================================\n",
      "                 coef    std err          t      P>|t|      [0.025      0.975]\n",
      "------------------------------------------------------------------------------\n",
      "const       2044.3408     17.220    118.722      0.000    2005.387    2083.294\n",
      "Price      -4.916e-05   2.45e-05     -2.007      0.076      -0.000    6.24e-06\n",
      "==============================================================================\n",
      "Omnibus:                        3.839   Durbin-Watson:                   1.937\n",
      "Prob(Omnibus):                  0.147   Jarque-Bera (JB):                1.976\n",
      "Skew:                          -1.037   Prob(JB):                        0.372\n",
      "Kurtosis:                       2.908   Cond. No.                     8.07e+06\n",
      "==============================================================================\n",
      "\n",
      "Notes:\n",
      "[1] Standard Errors assume that the covariance matrix of the errors is correctly specified.\n",
      "[2] The condition number is large, 8.07e+06. This might indicate that there are\n",
      "strong multicollinearity or other numerical problems.\n"
     ]
    },
    {
     "name": "stderr",
     "output_type": "stream",
     "text": [
      "C:\\Users\\devir\\anaconda3\\lib\\site-packages\\scipy\\stats\\stats.py:1541: UserWarning: kurtosistest only valid for n>=20 ... continuing anyway, n=11\n",
      "  warnings.warn(\"kurtosistest only valid for n>=20 ... continuing \"\n"
     ]
    }
   ],
   "source": [
    "import statsmodels.api as sma\n",
    "\n",
    "## We add a constant to allow OLS to take into account the y-intercept\n",
    "X2 = sma.add_constant(X_train)\n",
    "\n",
    "#create OLS model and fit it\n",
    "est = sma.OLS(y_train, X2)\n",
    "est2 = est.fit()\n",
    "\n",
    "#call the summary\n",
    "print(est2.summary())"
   ]
  },
  {
   "cell_type": "code",
   "execution_count": 57,
   "id": "748de103",
   "metadata": {},
   "outputs": [
    {
     "data": {
      "image/png": "[encoded data removed]",
      "text/plain": [
       "<Figure size 576x360 with 1 Axes>"
      ]
     },
     "metadata": {
      "needs_background": "light"
     },
     "output_type": "display_data"
    },
    {
     "data": {
      "text/plain": [
       "(<matplotlib.legend.Legend at 0x25346fecaf0>, None)"
      ]
     },
     "execution_count": 57,
     "metadata": {},
     "output_type": "execute_result"
    }
   ],
   "source": [
    "from sklearn.preprocessing import PolynomialFeatures\n",
    "from sklearn.linear_model import LinearRegression\n",
    "from sklearn.pipeline import Pipeline, make_pipeline\n",
    "\n",
    "model_1 = make_pipeline(PolynomialFeatures(degree = 5),LinearRegression())\n",
    "model_1.fit(X.values.reshape(-1,1),y)\n",
    "plt.figure(figsize = (8,5))\n",
    "plt.scatter(X,y, alpha = .3, label = 'Data')\n",
    "plt.plot(X.values,model_1.predict(X.values.reshape(-1,1)), color = 'green', label = 'Model')\n",
    "plt.title('Polynomial linear regression')\n",
    "plt.xlabel('Price'), plt.ylabel('Year')\n",
    "plt.legend(), plt.show()"
   ]
  },
  {
   "cell_type": "markdown",
   "id": "59d412c5",
   "metadata": {},
   "source": [
    "Experiment 3: Evaluation"
   ]
  },
  {
   "cell_type": "code",
   "execution_count": 58,
   "id": "c9e7e578",
   "metadata": {},
   "outputs": [
    {
     "name": "stderr",
     "output_type": "stream",
     "text": [
      "C:\\Users\\devir\\anaconda3\\lib\\site-packages\\sklearn\\base.py:443: UserWarning: X has feature names, but PolynomialFeatures was fitted without feature names\n",
      "  warnings.warn(\n"
     ]
    }
   ],
   "source": [
    "y_pred = model_1.predict(X_test)"
   ]
  },
  {
   "cell_type": "code",
   "execution_count": 59,
   "id": "95bfeb1b",
   "metadata": {},
   "outputs": [
    {
     "name": "stdout",
     "output_type": "stream",
     "text": [
      "Mean Absolute Error: 3.580295510708121\n",
      "Mean Square Error: 17.18737470338115\n",
      "Root Mean Square Error: 4.145765876575901\n"
     ]
    }
   ],
   "source": [
    "from sklearn import metrics\n",
    "mae = metrics.mean_absolute_error(y_test, y_pred)\n",
    "mse = metrics.mean_squared_error(y_test, y_pred)\n",
    "rmse = metrics.mean_squared_error(y_test, y_pred,squared = False)\n",
    "\n",
    "print('Mean Absolute Error:', mae)\n",
    "print('Mean Square Error:', mse)\n",
    "print('Root Mean Square Error:', rmse)"
   ]
  }
 ],
 "metadata": {
  "kernelspec": {
   "display_name": "Python 3 (ipykernel)",
   "language": "python",
   "name": "python3"
  },
  "language_info": {
   "codemirror_mode": {
    "name": "ipython",
    "version": 3
   },
   "file_extension": ".py",
   "mimetype": "text/x-python",
   "name": "python",
   "nbconvert_exporter": "python",
   "pygments_lexer": "ipython3",
   "version": "3.9.12"
  }
 },
 "nbformat": 4,
 "nbformat_minor": 5
}
